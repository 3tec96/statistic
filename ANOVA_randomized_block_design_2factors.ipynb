{
 "cells": [
  {
   "cell_type": "code",
   "execution_count": 1,
   "metadata": {},
   "outputs": [],
   "source": [
    "import numpy as np\n",
    "import pandas as pd\n",
    "import matplotlib.pyplot as plt\n",
    "import scipy.stats as st"
   ]
  },
  {
   "cell_type": "markdown",
   "metadata": {},
   "source": [
    "### 参考URL\n",
    "### http://lab.sdm.keio.ac.jp/ogi/shibaura/ed10-1213.pdf"
   ]
  },
  {
   "cell_type": "markdown",
   "metadata": {},
   "source": [
    "## 2因子実験の乱塊法"
   ]
  },
  {
   "cell_type": "code",
   "execution_count": 2,
   "metadata": {},
   "outputs": [
    {
     "data": {
      "text/html": [
       "<div>\n",
       "<style scoped>\n",
       "    .dataframe tbody tr th:only-of-type {\n",
       "        vertical-align: middle;\n",
       "    }\n",
       "\n",
       "    .dataframe tbody tr th {\n",
       "        vertical-align: top;\n",
       "    }\n",
       "\n",
       "    .dataframe thead th {\n",
       "        text-align: right;\n",
       "    }\n",
       "</style>\n",
       "<table border=\"1\" class=\"dataframe\">\n",
       "  <thead>\n",
       "    <tr style=\"text-align: right;\">\n",
       "      <th></th>\n",
       "      <th>B1</th>\n",
       "      <th>B2</th>\n",
       "      <th>B1.1</th>\n",
       "      <th>B2.1</th>\n",
       "    </tr>\n",
       "  </thead>\n",
       "  <tbody>\n",
       "    <tr>\n",
       "      <th>A1</th>\n",
       "      <td>10.2</td>\n",
       "      <td>11.4</td>\n",
       "      <td>12.1</td>\n",
       "      <td>12.0</td>\n",
       "    </tr>\n",
       "    <tr>\n",
       "      <th>A2</th>\n",
       "      <td>9.0</td>\n",
       "      <td>9.2</td>\n",
       "      <td>8.5</td>\n",
       "      <td>11.6</td>\n",
       "    </tr>\n",
       "    <tr>\n",
       "      <th>A3</th>\n",
       "      <td>9.5</td>\n",
       "      <td>10.6</td>\n",
       "      <td>12.3</td>\n",
       "      <td>11.8</td>\n",
       "    </tr>\n",
       "    <tr>\n",
       "      <th>A4</th>\n",
       "      <td>11.4</td>\n",
       "      <td>11.5</td>\n",
       "      <td>11.8</td>\n",
       "      <td>12.5</td>\n",
       "    </tr>\n",
       "  </tbody>\n",
       "</table>\n",
       "</div>"
      ],
      "text/plain": [
       "      B1    B2  B1.1  B2.1\n",
       "A1  10.2  11.4  12.1  12.0\n",
       "A2   9.0   9.2   8.5  11.6\n",
       "A3   9.5  10.6  12.3  11.8\n",
       "A4  11.4  11.5  11.8  12.5"
      ]
     },
     "execution_count": 2,
     "metadata": {},
     "output_type": "execute_result"
    }
   ],
   "source": [
    "df = pd.read_csv(\"./data/strength2.csv\", index_col=0)\n",
    "df"
   ]
  },
  {
   "cell_type": "code",
   "execution_count": 3,
   "metadata": {},
   "outputs": [
    {
     "data": {
      "text/plain": [
       "array([[[10.2, 11.4],\n",
       "        [ 9. ,  9.2],\n",
       "        [ 9.5, 10.6],\n",
       "        [11.4, 11.5]],\n",
       "\n",
       "       [[12.1, 12. ],\n",
       "        [ 8.5, 11.6],\n",
       "        [12.3, 11.8],\n",
       "        [11.8, 12.5]]])"
      ]
     },
     "execution_count": 3,
     "metadata": {},
     "output_type": "execute_result"
    }
   ],
   "source": [
    "# arrayへの変換\n",
    "arr1 = df.iloc[:,:2].values\n",
    "arr2 = df.iloc[:,2:].values\n",
    "arr = np.stack([arr1, arr2])\n",
    "arr"
   ]
  },
  {
   "cell_type": "markdown",
   "metadata": {},
   "source": [
    "### 構造式\n",
    "$\n",
    "x_{ij} = \\mu + \\alpha_{i} + \\beta_{j} + (\\alpha\\beta)_{ij} + \\gamma_{k} + \\epsilon_{ijk}\n",
    "$\n",
    "#### A：反応温度 , B：触媒量\n",
    "#### 因子A,BとブロックRとの交互作用$(\\alpha\\gamma)_{ik},(\\beta\\gamma)_{jk}$は考えない。"
   ]
  },
  {
   "cell_type": "markdown",
   "metadata": {},
   "source": [
    "### 平方和の分解\n",
    "$\n",
    "S_{T} = S_{A} + S_{B} + S_{AB} + S_{R} + S_{E} \n",
    "$"
   ]
  },
  {
   "cell_type": "markdown",
   "metadata": {},
   "source": [
    "$\n",
    "\\sum_{i=1}^{a} \\sum_{j=1}^{b} \\sum_{k=1}^{r} (x_{ijk} - \\overline{\\overline{x}})^2\n",
    "$\n",
    "$\n",
    "= \\sum\\sum\\sum(\\overline{x_{i..}}-\\overline{\\overline{x}})^2 + \\sum\\sum\\sum(\\overline{x_{.j.}}-\\overline{\\overline{x}})^2 + \\sum\\sum\\sum(\\overline{x_{ij.}}-\\overline{x_{i..}}-\\overline{x_{.j.}}+\\overline{\\overline{x}})^2 \n",
    "$\n",
    "$\n",
    "+\\sum\\sum\\sum(\\overline{x_{..k}}-\\overline{\\overline{x}})^2 + \\sum\\sum\\sum(\\overline{x_{ijk}}-\\overline{x_{..k}}-\\overline{x_{ij.}}+\\overline{\\overline{x}})^2\n",
    "$"
   ]
  },
  {
   "cell_type": "markdown",
   "metadata": {},
   "source": [
    "### メモ：A×Bの形だけ覚えておけばあとは足し引きで帳尻合わせればよさそうな感じ。"
   ]
  },
  {
   "cell_type": "code",
   "execution_count": 4,
   "metadata": {},
   "outputs": [
    {
     "name": "stdout",
     "output_type": "stream",
     "text": [
      " r: 2  a: 4  b: 2\n",
      "mean_r.shape (2,)\n",
      "mean_a.shape (4,)\n",
      "mean_b.shape (2,)\n",
      "mean_ab.shape (4, 2)\n",
      "mean.shape ()\n"
     ]
    }
   ],
   "source": [
    "#水準の数と平均\n",
    "r = arr.shape[0]\n",
    "a = arr.shape[1]\n",
    "b = arr.shape[2]\n",
    "mean_r = arr.mean(axis=2).mean(axis=1) # ブロックごとの平均\n",
    "mean_a = arr.mean(axis=2).mean(axis=0) # 水準Aごとの平均\n",
    "mean_b = arr.mean(axis=1).mean(axis=0) # 水準Bごとの平均\n",
    "mean_ab = arr.mean(axis=0) # 水準ABごとの平均\n",
    "mean = arr.mean()\n",
    "print(\" r:\", r, \" a:\", a, \" b:\", b)\n",
    "print(\"mean_r.shape\", mean_r.shape)\n",
    "print(\"mean_a.shape\", mean_a.shape)\n",
    "print(\"mean_b.shape\", mean_b.shape)\n",
    "print(\"mean_ab.shape\", mean_ab.shape)\n",
    "print(\"mean.shape\", mean.shape)"
   ]
  },
  {
   "cell_type": "code",
   "execution_count": 5,
   "metadata": {},
   "outputs": [
    {
     "name": "stdout",
     "output_type": "stream",
     "text": [
      " Sr: 6.002500000000014  Sa: 11.392500000000016  Sb: 2.1024999999999983  Sab: 1.172499999999999  Se: 4.207500000000001\n"
     ]
    }
   ],
   "source": [
    "#平方和\n",
    "Sr = a * b * ((mean_r - mean)**2).sum()\n",
    "Sa = r * b * ((mean_a - mean)**2).sum()\n",
    "Sb = r * a * ((mean_b - mean)**2).sum()\n",
    "Sab = r * ((mean_ab - mean_a[:, np.newaxis] - mean_b[np.newaxis, :] + mean)**2).sum()\n",
    "Se = ((arr - mean_ab[np.newaxis,:,:] - mean_r[:,np.newaxis,np.newaxis] + mean)**2).sum()\n",
    "print(\" Sr:\", Sr, \" Sa:\", Sa, \" Sb:\", Sb, \" Sab:\", Sab, \" Se:\", Se)"
   ]
  },
  {
   "cell_type": "code",
   "execution_count": 6,
   "metadata": {},
   "outputs": [
    {
     "name": "stdout",
     "output_type": "stream",
     "text": [
      " phi_a: 3  phi_b: 1  phi_ab: 3  phi_r: 1  phi_e: 7\n"
     ]
    }
   ],
   "source": [
    "#自由度\n",
    "phi_a = a-1\n",
    "phi_b = b-1\n",
    "phi_r = r-1\n",
    "phi_ab = a*b - a - b + 1 # どうやらphi_a*phi_bらしい。\n",
    "phi_e = a*b*r - r - a*b + 1 # \n",
    "print(\" phi_a:\", phi_a, \" phi_b:\", phi_b, \" phi_ab:\", phi_ab, \" phi_r:\", phi_r, \" phi_e:\", phi_e)"
   ]
  },
  {
   "cell_type": "code",
   "execution_count": 7,
   "metadata": {},
   "outputs": [
    {
     "name": "stdout",
     "output_type": "stream",
     "text": [
      " Va: 3.797500000000005  Vb: 2.1024999999999983  Vab: 0.390833333333333  Vr: 6.002500000000014  Ve: 0.6010714285714288\n"
     ]
    }
   ],
   "source": [
    "#平均変動\n",
    "Va = Sa/phi_a\n",
    "Vb = Sb/phi_b\n",
    "Vab = Sab/phi_ab\n",
    "Vr = Sr/phi_r\n",
    "Ve = Se/phi_e\n",
    "print(\" Va:\", Va, \" Vb:\", Vb, \" Vab:\", Vab, \" Vr:\", Vr, \" Ve:\", Ve)"
   ]
  },
  {
   "cell_type": "code",
   "execution_count": 8,
   "metadata": {},
   "outputs": [
    {
     "name": "stdout",
     "output_type": "stream",
     "text": [
      " Fa: 6.317884729649442  Fab: 3.497920380273317  Fab: 0.6502277678748258  Fr: 9.986333927510417\n"
     ]
    }
   ],
   "source": [
    "#F値\n",
    "Fa = Va/Ve\n",
    "Fb = Vb/Ve\n",
    "Fab = Vab/Ve\n",
    "Fr = Vr/Ve\n",
    "print(\" Fa:\", Fa, \" Fab:\", Fb, \" Fab:\", Fab, \" Fr:\", Fr)"
   ]
  },
  {
   "cell_type": "code",
   "execution_count": 9,
   "metadata": {},
   "outputs": [
    {
     "name": "stdout",
     "output_type": "stream",
     "text": [
      "A :自由度( 3 , 7 )のF分布上側 5.0 %点 4.35\n",
      "B :自由度( 1 , 7 )のF分布上側 5.0 %点 5.59\n",
      "AB:自由度( 3 , 7 )のF分布上側 5.0 %点 4.35\n",
      "R :自由度( 1 , 7 )のF分布上側 5.0 %点 5.59\n"
     ]
    }
   ],
   "source": [
    "alpha = 0.05\n",
    "print(\"A :自由度(\", phi_a, \",\", phi_e, \")のF分布上側\", alpha*100, \"%点\", round(st.f.ppf(1-alpha, phi_a, phi_e), 2))\n",
    "print(\"B :自由度(\", phi_r, \",\", phi_e, \")のF分布上側\", alpha*100, \"%点\", round(st.f.ppf(1-alpha, phi_r, phi_e), 2))\n",
    "print(\"AB:自由度(\", phi_ab, \",\", phi_e, \")のF分布上側\", alpha*100, \"%点\", round(st.f.ppf(1-alpha, phi_ab, phi_e), 2))\n",
    "print(\"R :自由度(\", phi_r, \",\", phi_e, \")のF分布上側\", alpha*100, \"%点\", round(st.f.ppf(1-alpha, phi_r, phi_e), 2))"
   ]
  },
  {
   "cell_type": "markdown",
   "metadata": {},
   "source": [
    "### つまり、水準Aは有意、水準Bは有意でない。交互作用は有意でない。実験条件は、ブロック間で有意。"
   ]
  },
  {
   "cell_type": "code",
   "execution_count": null,
   "metadata": {},
   "outputs": [],
   "source": []
  }
 ],
 "metadata": {
  "kernelspec": {
   "display_name": "Python 3",
   "language": "python",
   "name": "python3"
  },
  "language_info": {
   "codemirror_mode": {
    "name": "ipython",
    "version": 3
   },
   "file_extension": ".py",
   "mimetype": "text/x-python",
   "name": "python",
   "nbconvert_exporter": "python",
   "pygments_lexer": "ipython3",
   "version": "3.7.3"
  }
 },
 "nbformat": 4,
 "nbformat_minor": 2
}
