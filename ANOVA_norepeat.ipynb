{
 "cells": [
  {
   "cell_type": "code",
   "execution_count": 1,
   "metadata": {},
   "outputs": [],
   "source": [
    "import numpy as np\n",
    "import pandas as pd\n",
    "import matplotlib.pyplot as plt\n",
    "import scipy.stats as st"
   ]
  },
  {
   "cell_type": "code",
   "execution_count": 2,
   "metadata": {},
   "outputs": [
    {
     "data": {
      "text/html": [
       "<div>\n",
       "<style scoped>\n",
       "    .dataframe tbody tr th:only-of-type {\n",
       "        vertical-align: middle;\n",
       "    }\n",
       "\n",
       "    .dataframe tbody tr th {\n",
       "        vertical-align: top;\n",
       "    }\n",
       "\n",
       "    .dataframe thead th {\n",
       "        text-align: right;\n",
       "    }\n",
       "</style>\n",
       "<table border=\"1\" class=\"dataframe\">\n",
       "  <thead>\n",
       "    <tr style=\"text-align: right;\">\n",
       "      <th></th>\n",
       "      <th>straw</th>\n",
       "      <th>rice</th>\n",
       "      <th>pasture</th>\n",
       "      <th>feed</th>\n",
       "      <th>weed</th>\n",
       "    </tr>\n",
       "  </thead>\n",
       "  <tbody>\n",
       "    <tr>\n",
       "      <th>Control</th>\n",
       "      <td>11</td>\n",
       "      <td>5</td>\n",
       "      <td>-1</td>\n",
       "      <td>-4</td>\n",
       "      <td>2</td>\n",
       "    </tr>\n",
       "    <tr>\n",
       "      <th>A</th>\n",
       "      <td>29</td>\n",
       "      <td>17</td>\n",
       "      <td>14</td>\n",
       "      <td>2</td>\n",
       "      <td>20</td>\n",
       "    </tr>\n",
       "    <tr>\n",
       "      <th>B</th>\n",
       "      <td>8</td>\n",
       "      <td>14</td>\n",
       "      <td>20</td>\n",
       "      <td>20</td>\n",
       "      <td>26</td>\n",
       "    </tr>\n",
       "    <tr>\n",
       "      <th>C</th>\n",
       "      <td>23</td>\n",
       "      <td>8</td>\n",
       "      <td>8</td>\n",
       "      <td>11</td>\n",
       "      <td>5</td>\n",
       "    </tr>\n",
       "    <tr>\n",
       "      <th>D</th>\n",
       "      <td>26</td>\n",
       "      <td>20</td>\n",
       "      <td>11</td>\n",
       "      <td>5</td>\n",
       "      <td>17</td>\n",
       "    </tr>\n",
       "  </tbody>\n",
       "</table>\n",
       "</div>"
      ],
      "text/plain": [
       "         straw  rice  pasture  feed  weed\n",
       "Control     11     5       -1    -4     2\n",
       "A           29    17       14     2    20\n",
       "B            8    14       20    20    26\n",
       "C           23     8        8    11     5\n",
       "D           26    20       11     5    17"
      ]
     },
     "execution_count": 2,
     "metadata": {},
     "output_type": "execute_result"
    }
   ],
   "source": [
    "df = pd.read_csv(\"./data/grass.csv\", index_col=0)\n",
    "df"
   ]
  },
  {
   "cell_type": "code",
   "execution_count": 3,
   "metadata": {},
   "outputs": [
    {
     "data": {
      "text/plain": [
       "'%.3f'"
      ]
     },
     "execution_count": 3,
     "metadata": {},
     "output_type": "execute_result"
    }
   ],
   "source": [
    "#表示桁数\n",
    "np.set_printoptions(precision=3)\n",
    "%precision %.3f"
   ]
  },
  {
   "cell_type": "code",
   "execution_count": 4,
   "metadata": {},
   "outputs": [
    {
     "data": {
      "text/plain": [
       "12.68"
      ]
     },
     "execution_count": 4,
     "metadata": {},
     "output_type": "execute_result"
    }
   ],
   "source": [
    "a = df.shape[0]\n",
    "b = df.shape[1]\n",
    "a_mean = df.mean(axis=1) # Control,A-Dそれぞれの平均\n",
    "b_mean = df.mean(axis=0) # straw,riceなどそれぞれの平均\n",
    "t_mean = df.values.flatten().mean() # 全部の平均\n",
    "#a_mean\n",
    "#b_mean\n",
    "t_mean"
   ]
  },
  {
   "cell_type": "code",
   "execution_count": 5,
   "metadata": {},
   "outputs": [
    {
     "name": "stdout",
     "output_type": "stream",
     "text": [
      "761.04 433.44 732.96\n"
     ]
    }
   ],
   "source": [
    "#平方和\n",
    "Sa = b * ((a_mean - t_mean)**2).sum()\n",
    "Sb = a * ((b_mean - t_mean)**2).sum()\n",
    "Se = 0\n",
    "for i in range(a):\n",
    "    for j in range(b):\n",
    "        Se += (df.iloc[i][j] - a_mean[i] -b_mean[j] + t_mean)**2\n",
    "print(round(Sa, 2), round(Sb, 2), round(Se, 2))"
   ]
  },
  {
   "cell_type": "code",
   "execution_count": 6,
   "metadata": {},
   "outputs": [
    {
     "name": "stdout",
     "output_type": "stream",
     "text": [
      "4 4 16\n"
     ]
    }
   ],
   "source": [
    "#自由度\n",
    "phi_a = a-1\n",
    "phi_b = b-1\n",
    "phi_e = a*b - a - b + 1\n",
    "print(round(phi_a, 2), round(phi_b, 2), round(phi_e, 2))"
   ]
  },
  {
   "cell_type": "code",
   "execution_count": 7,
   "metadata": {},
   "outputs": [
    {
     "name": "stdout",
     "output_type": "stream",
     "text": [
      "190.26 108.36 45.81\n"
     ]
    }
   ],
   "source": [
    "#平均変動\n",
    "Va = Sa/phi_a\n",
    "Vb = Sb/phi_b\n",
    "Ve = Se/phi_e\n",
    "print(round(Va, 2), round(Vb, 2), round(Ve, 2))"
   ]
  },
  {
   "cell_type": "code",
   "execution_count": 8,
   "metadata": {},
   "outputs": [
    {
     "name": "stdout",
     "output_type": "stream",
     "text": [
      "4.15 2.37\n"
     ]
    }
   ],
   "source": [
    "#F値\n",
    "Fa = Va/Ve\n",
    "Fb = Vb/Ve\n",
    "print(round(Fa, 2), round(Fb, 2))"
   ]
  },
  {
   "cell_type": "code",
   "execution_count": 9,
   "metadata": {},
   "outputs": [
    {
     "data": {
      "text/plain": [
       "3.0069172799243438"
      ]
     },
     "execution_count": 9,
     "metadata": {},
     "output_type": "execute_result"
    }
   ],
   "source": [
    "alpha = 0.05\n",
    "st.f.ppf(1-alpha, phi_a, phi_e)\n",
    "st.f.ppf(1-alpha, phi_b, phi_e)"
   ]
  },
  {
   "cell_type": "code",
   "execution_count": 10,
   "metadata": {},
   "outputs": [],
   "source": [
    "### 水準Aは有意だが、水準Bは有意ではない"
   ]
  }
 ],
 "metadata": {
  "kernelspec": {
   "display_name": "Python 3",
   "language": "python",
   "name": "python3"
  },
  "language_info": {
   "codemirror_mode": {
    "name": "ipython",
    "version": 3
   },
   "file_extension": ".py",
   "mimetype": "text/x-python",
   "name": "python",
   "nbconvert_exporter": "python",
   "pygments_lexer": "ipython3",
   "version": "3.7.3"
  }
 },
 "nbformat": 4,
 "nbformat_minor": 2
}
