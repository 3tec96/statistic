{
 "cells": [
  {
   "cell_type": "code",
   "execution_count": 1,
   "metadata": {},
   "outputs": [],
   "source": [
    "import numpy as np\n",
    "import pandas as pd\n",
    "import matplotlib.pyplot as plt"
   ]
  },
  {
   "cell_type": "code",
   "execution_count": 2,
   "metadata": {},
   "outputs": [
    {
     "data": {
      "text/html": [
       "<div>\n",
       "<style scoped>\n",
       "    .dataframe tbody tr th:only-of-type {\n",
       "        vertical-align: middle;\n",
       "    }\n",
       "\n",
       "    .dataframe tbody tr th {\n",
       "        vertical-align: top;\n",
       "    }\n",
       "\n",
       "    .dataframe thead th {\n",
       "        text-align: right;\n",
       "    }\n",
       "</style>\n",
       "<table border=\"1\" class=\"dataframe\">\n",
       "  <thead>\n",
       "    <tr style=\"text-align: right;\">\n",
       "      <th></th>\n",
       "      <th>No</th>\n",
       "      <th>news</th>\n",
       "      <th>business</th>\n",
       "      <th>sport</th>\n",
       "    </tr>\n",
       "  </thead>\n",
       "  <tbody>\n",
       "    <tr>\n",
       "      <th>0</th>\n",
       "      <td>1</td>\n",
       "      <td>8</td>\n",
       "      <td>9</td>\n",
       "      <td>4</td>\n",
       "    </tr>\n",
       "    <tr>\n",
       "      <th>1</th>\n",
       "      <td>2</td>\n",
       "      <td>2</td>\n",
       "      <td>5</td>\n",
       "      <td>7</td>\n",
       "    </tr>\n",
       "    <tr>\n",
       "      <th>2</th>\n",
       "      <td>3</td>\n",
       "      <td>8</td>\n",
       "      <td>5</td>\n",
       "      <td>6</td>\n",
       "    </tr>\n",
       "    <tr>\n",
       "      <th>3</th>\n",
       "      <td>4</td>\n",
       "      <td>3</td>\n",
       "      <td>5</td>\n",
       "      <td>4</td>\n",
       "    </tr>\n",
       "    <tr>\n",
       "      <th>4</th>\n",
       "      <td>5</td>\n",
       "      <td>7</td>\n",
       "      <td>4</td>\n",
       "      <td>9</td>\n",
       "    </tr>\n",
       "    <tr>\n",
       "      <th>5</th>\n",
       "      <td>6</td>\n",
       "      <td>4</td>\n",
       "      <td>3</td>\n",
       "      <td>4</td>\n",
       "    </tr>\n",
       "    <tr>\n",
       "      <th>6</th>\n",
       "      <td>7</td>\n",
       "      <td>3</td>\n",
       "      <td>6</td>\n",
       "      <td>8</td>\n",
       "    </tr>\n",
       "    <tr>\n",
       "      <th>7</th>\n",
       "      <td>8</td>\n",
       "      <td>6</td>\n",
       "      <td>8</td>\n",
       "      <td>2</td>\n",
       "    </tr>\n",
       "    <tr>\n",
       "      <th>8</th>\n",
       "      <td>9</td>\n",
       "      <td>5</td>\n",
       "      <td>4</td>\n",
       "      <td>5</td>\n",
       "    </tr>\n",
       "    <tr>\n",
       "      <th>9</th>\n",
       "      <td>10</td>\n",
       "      <td>6</td>\n",
       "      <td>7</td>\n",
       "      <td>6</td>\n",
       "    </tr>\n",
       "  </tbody>\n",
       "</table>\n",
       "</div>"
      ],
      "text/plain": [
       "   No  news  business  sport\n",
       "0   1     8         9      4\n",
       "1   2     2         5      7\n",
       "2   3     8         5      6\n",
       "3   4     3         5      4\n",
       "4   5     7         4      9\n",
       "5   6     4         3      4\n",
       "6   7     3         6      8\n",
       "7   8     6         8      2\n",
       "8   9     5         4      5\n",
       "9  10     6         7      6"
      ]
     },
     "execution_count": 2,
     "metadata": {},
     "output_type": "execute_result"
    }
   ],
   "source": [
    "df = pd.read_csv('./data/newspaper.csv')\n",
    "df"
   ]
  },
  {
   "cell_type": "code",
   "execution_count": 3,
   "metadata": {},
   "outputs": [
    {
     "data": {
      "text/plain": [
       "'%.3f'"
      ]
     },
     "execution_count": 3,
     "metadata": {},
     "output_type": "execute_result"
    }
   ],
   "source": [
    "#表示桁数\n",
    "np.set_printoptions(precision=3)\n",
    "%precision %.3f"
   ]
  },
  {
   "cell_type": "code",
   "execution_count": 4,
   "metadata": {},
   "outputs": [
    {
     "name": "stdout",
     "output_type": "stream",
     "text": [
      "X: [[8 2 8 3 7 4 3 6 5 6]\n",
      " [9 5 5 5 4 3 6 8 4 7]\n",
      " [4 7 6 4 9 4 8 2 5 6]]\n",
      "corrcoef:\n",
      "[[ 1.     0.376 -0.097]\n",
      " [ 0.376  1.    -0.359]\n",
      " [-0.097 -0.359  1.   ]]\n"
     ]
    }
   ],
   "source": [
    "#相関係数行列\n",
    "X = df.drop(\"No\", axis=1).values.T\n",
    "print(\"X:\",X)\n",
    "corrcoef = np.corrcoef(X)\n",
    "print(\"corrcoef:\")\n",
    "print(corrcoef)"
   ]
  },
  {
   "cell_type": "code",
   "execution_count": 5,
   "metadata": {},
   "outputs": [
    {
     "name": "stdout",
     "output_type": "stream",
     "text": [
      "固有値\n",
      "[1.571 0.903 0.527]\n",
      "固有ベクトル\n",
      "[[-0.531 -0.673  0.514]\n",
      " [-0.689 -0.009 -0.724]\n",
      " [-0.493  0.739  0.459]]\n"
     ]
    }
   ],
   "source": [
    "#固有値固有ベクトルを求める①\n",
    "import numpy.linalg as LA\n",
    "w, v = LA.eig(corrcoef)\n",
    "print(\"固有値\")\n",
    "print(w)\n",
    "print(\"固有ベクトル\")\n",
    "print(v.T)"
   ]
  },
  {
   "cell_type": "code",
   "execution_count": 6,
   "metadata": {},
   "outputs": [
    {
     "name": "stdout",
     "output_type": "stream",
     "text": [
      "[[1.253 1.253 1.253]\n",
      " [0.95  0.95  0.95 ]\n",
      " [0.726 0.726 0.726]]\n"
     ]
    },
    {
     "data": {
      "text/plain": [
       "array([[-0.666, -0.844,  0.644],\n",
       "       [-0.655, -0.009, -0.688],\n",
       "       [-0.357,  0.537,  0.333]])"
      ]
     },
     "execution_count": 6,
     "metadata": {},
     "output_type": "execute_result"
    }
   ],
   "source": [
    "#主成分負荷量\n",
    "w_ = np.sqrt(w).reshape(w.shape[0], -1).repeat(v.shape[0], axis = 1)\n",
    "print(w_)\n",
    "principal_component_load = w_*v.T\n",
    "principal_component_load"
   ]
  },
  {
   "cell_type": "code",
   "execution_count": 7,
   "metadata": {},
   "outputs": [
    {
     "name": "stdout",
     "output_type": "stream",
     "text": [
      "相関係数行列\n",
      "[[ 1.     0.376 -0.097]\n",
      " [ 0.376  1.    -0.359]\n",
      " [-0.097 -0.359  1.   ]]\n",
      "******************************\n",
      "[ 0.79   1.    -0.763]\n",
      "1.571\n",
      "[1.571 0.    0.   ]\n",
      "[[ 0.532  0.673 -0.514]\n",
      " [ 0.     0.     0.   ]\n",
      " [ 0.     0.     0.   ]]\n"
     ]
    }
   ],
   "source": [
    "#固有値固有ベクトルの求め方②\n",
    "print(\"相関係数行列\")\n",
    "print(corrcoef)\n",
    "x = np.ones(corrcoef.shape[1])\n",
    "\n",
    "threhold = 1e-5\n",
    "max_ele = 1\n",
    "while True:\n",
    "    x_next = np.dot(corrcoef, x)\n",
    "    max_ele_next =np.amax(x_next)\n",
    "    #print(max_ele)\n",
    "    if abs(max_ele - max_ele_next) < threhold:\n",
    "        break\n",
    "    x = x_next / max_ele_next\n",
    "    max_ele = max_ele_next\n",
    "print(\"******************************\")\n",
    "print(x)\n",
    "print(round(max_ele, 3))\n",
    "eigenvector = np.zeros((X.shape[0], X.shape[0]))\n",
    "eigenvalue = np.zeros(X.shape[0])\n",
    "eigenvalue[0] = max_ele\n",
    "eigenvector[0][:] = x / LA.norm(x)\n",
    "print(eigenvalue)\n",
    "print(eigenvector)"
   ]
  },
  {
   "cell_type": "code",
   "execution_count": 8,
   "metadata": {},
   "outputs": [
    {
     "name": "stdout",
     "output_type": "stream",
     "text": [
      "[[ 0.532  0.673 -0.514]]\n"
     ]
    },
    {
     "data": {
      "text/plain": [
       "array([[ 0.556, -0.187,  0.332],\n",
       "       [-0.187,  0.288,  0.184],\n",
       "       [ 0.332,  0.184,  0.586]])"
      ]
     },
     "execution_count": 8,
     "metadata": {},
     "output_type": "execute_result"
    }
   ],
   "source": [
    "a = x / LA.norm(x).reshape(1,1)\n",
    "print(a)\n",
    "b =np.dot(a.T, a) * max_ele\n",
    "b = corrcoef - b\n",
    "b"
   ]
  },
  {
   "cell_type": "code",
   "execution_count": 9,
   "metadata": {},
   "outputs": [
    {
     "data": {
      "text/plain": [
       "(array([1.571, 0.903, 0.527]), array([[ 0.532,  0.673, -0.514],\n",
       "        [ 0.688,  0.008,  0.725],\n",
       "        [ 0.493, -0.739, -0.459]]))"
      ]
     },
     "execution_count": 9,
     "metadata": {},
     "output_type": "execute_result"
    }
   ],
   "source": [
    "import numpy.linalg as LA\n",
    "from copy import copy\n",
    "def EigenValueDecomposition(correlation_coefficient_matrix):\n",
    "    A = copy(correlation_coefficient_matrix) # 相関係数行列\n",
    "    N, D = A.shape # N=Dのはずだが混乱しないよう区別する\n",
    "    v = np.ones(D) # 固有ベクトル計算用のarray\n",
    "    max_ele = np.amax(v) # 固有値計算用のarray\n",
    "    threhold = 1e-5 # 収束の閾値\n",
    "    eigenvector = np.empty((N,D)) # 出力用\n",
    "    eigenvalue = np.empty(N) # 出力用\n",
    "    \n",
    "    for idx in range(N):\n",
    "        while True:\n",
    "            v_next = np.dot(A,v)\n",
    "            max_ele_next =np.amax(v_next)\n",
    "            if abs(max_ele - max_ele_next) < threhold:\n",
    "                break\n",
    "            v = v_next / max_ele_next\n",
    "            max_ele = max_ele_next\n",
    "        eigenvector[idx][:] = v / LA.norm(v)\n",
    "        eigenvalue[idx] = max_ele\n",
    "\n",
    "        temp_arr = v / LA.norm(v).reshape(1,1)\n",
    "        A -= np.dot(temp_arr.T, temp_arr) * max_ele\n",
    "    \n",
    "    return eigenvalue, eigenvector\n",
    "\n",
    "EigenValueDecomposition(corrcoef)"
   ]
  },
  {
   "cell_type": "code",
   "execution_count": 10,
   "metadata": {},
   "outputs": [
    {
     "name": "stdout",
     "output_type": "stream",
     "text": [
      "[[ 0.666  0.844 -0.644]\n",
      " [ 0.655  0.009  0.688]\n",
      " [ 0.357 -0.537 -0.333]]\n"
     ]
    },
    {
     "data": {
      "text/plain": [
       "(-1, 1)"
      ]
     },
     "execution_count": 10,
     "metadata": {},
     "output_type": "execute_result"
    },
    {
     "data": {
      "image/png": "[encoded data removed]",
      "text/plain": [
       "<Figure size 432x288 with 1 Axes>"
      ]
     },
     "metadata": {
      "needs_background": "light"
     },
     "output_type": "display_data"
    }
   ],
   "source": [
    "#主成分負荷量のプロット\n",
    "print(-principal_component_load)\n",
    "plt.scatter(-principal_component_load[0], -principal_component_load[1])\n",
    "plt.xlim(-1,1) # 第一主成分\n",
    "plt.ylim(-1,1) # 第二主成分\n",
    "# 主成分は固有ベクトルの方向？\n",
    "# 第一主成分news0.666,business0.844,sport - 専門紙志向度\n",
    "# 第二主成分news0.655,business0.009,sport 0.688 大衆紙志向度\n",
    "\n",
    "# 主成分分析は、新たにとった主成分に意味を見いださないと何なんだかよくわからないのでは？\n",
    "# 主成分寄与率ってなんだ？"
   ]
  },
  {
   "cell_type": "code",
   "execution_count": 11,
   "metadata": {},
   "outputs": [
    {
     "name": "stdout",
     "output_type": "stream",
     "text": [
      "標準化したX\n",
      "[[ 1.373 -1.569  1.373 -1.079  0.883 -0.588 -1.079  0.392 -0.098  0.392]\n",
      " [ 1.889 -0.333 -0.333 -0.333 -0.889 -1.444  0.222  1.333 -0.889  0.778]\n",
      " [-0.745  0.745  0.248 -0.745  1.739 -0.745  1.242 -1.739 -0.248  0.248]]\n",
      "固有値\n",
      "[1.571 0.903 0.527]\n",
      "固有ベクトル\n",
      "[[-0.531 -0.673  0.514]\n",
      " [-0.689 -0.009 -0.724]\n",
      " [-0.493  0.739  0.459]]\n",
      "主成分得点\n",
      "[[-2.384  1.441 -0.377  0.414  1.024  0.902  1.062 -2.     0.523 -0.604]\n",
      " [-0.424  0.545 -1.123  1.287 -1.86   0.959 -0.159  0.977  0.256 -0.458]\n",
      " [ 0.378  0.869 -0.809 -0.057 -0.293 -1.12   1.266 -0.006 -0.723  0.496]]\n",
      "主成分得点の相関係数行列\n",
      "[[ 1.000e+00 -3.253e-17 -3.847e-16]\n",
      " [-3.253e-17  1.000e+00 -6.486e-16]\n",
      " [-3.847e-16 -6.486e-16  1.000e+00]]\n"
     ]
    }
   ],
   "source": [
    "#主成分得点を求める\n",
    "X = df.drop(\"No\", axis=1).values.T\n",
    "mean = X.mean(axis=1, keepdims=True)\n",
    "std = np.std(X, axis=1, keepdims=True)\n",
    "X_std = (X - mean) / std\n",
    "print(\"標準化したX\")\n",
    "print(X_std)\n",
    "print(\"固有値\")\n",
    "print(w)\n",
    "print(\"固有ベクトル\")\n",
    "print(v.T)\n",
    "print(\"主成分得点\")\n",
    "print(np.dot(v.T, X_std))\n",
    "print(\"主成分得点の相関係数行列\")\n",
    "print(np.corrcoef(np.dot(v.T, X_std)))"
   ]
  },
  {
   "cell_type": "code",
   "execution_count": 12,
   "metadata": {},
   "outputs": [
    {
     "data": {
      "text/plain": [
       "array([0.524, 0.301, 0.176])"
      ]
     },
     "execution_count": 12,
     "metadata": {},
     "output_type": "execute_result"
    }
   ],
   "source": [
    "#寄与率　第２成分までで50%くらいを目安にすることが多いらしい\n",
    "w/w.sum()"
   ]
  }
 ],
 "metadata": {
  "kernelspec": {
   "display_name": "Python 3",
   "language": "python",
   "name": "python3"
  },
  "language_info": {
   "codemirror_mode": {
    "name": "ipython",
    "version": 3
   },
   "file_extension": ".py",
   "mimetype": "text/x-python",
   "name": "python",
   "nbconvert_exporter": "python",
   "pygments_lexer": "ipython3",
   "version": "3.7.3"
  }
 },
 "nbformat": 4,
 "nbformat_minor": 2
}
