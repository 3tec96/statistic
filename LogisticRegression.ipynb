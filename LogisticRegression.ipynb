{
 "cells": [
  {
   "cell_type": "code",
   "execution_count": 1,
   "metadata": {},
   "outputs": [],
   "source": [
    "import numpy as np\n",
    "import pandas as pd\n",
    "import matplotlib.pyplot as plt"
   ]
  },
  {
   "cell_type": "code",
   "execution_count": 2,
   "metadata": {
    "scrolled": true
   },
   "outputs": [
    {
     "data": {
      "text/html": [
       "<div>\n",
       "<style scoped>\n",
       "    .dataframe tbody tr th:only-of-type {\n",
       "        vertical-align: middle;\n",
       "    }\n",
       "\n",
       "    .dataframe tbody tr th {\n",
       "        vertical-align: top;\n",
       "    }\n",
       "\n",
       "    .dataframe thead th {\n",
       "        text-align: right;\n",
       "    }\n",
       "</style>\n",
       "<table border=\"1\" class=\"dataframe\">\n",
       "  <thead>\n",
       "    <tr style=\"text-align: right;\">\n",
       "      <th></th>\n",
       "      <th>flight</th>\n",
       "      <th>date</th>\n",
       "      <th>fail.field</th>\n",
       "      <th>fail.nozzle</th>\n",
       "      <th>temp</th>\n",
       "    </tr>\n",
       "  </thead>\n",
       "  <tbody>\n",
       "    <tr>\n",
       "      <th>0</th>\n",
       "      <td>1</td>\n",
       "      <td>12/04/81</td>\n",
       "      <td>0</td>\n",
       "      <td>0</td>\n",
       "      <td>66.02</td>\n",
       "    </tr>\n",
       "    <tr>\n",
       "      <th>1</th>\n",
       "      <td>2</td>\n",
       "      <td>12/11/81</td>\n",
       "      <td>1</td>\n",
       "      <td>0</td>\n",
       "      <td>69.98</td>\n",
       "    </tr>\n",
       "    <tr>\n",
       "      <th>2</th>\n",
       "      <td>3</td>\n",
       "      <td>22/03/82</td>\n",
       "      <td>0</td>\n",
       "      <td>0</td>\n",
       "      <td>69.08</td>\n",
       "    </tr>\n",
       "    <tr>\n",
       "      <th>3</th>\n",
       "      <td>5</td>\n",
       "      <td>11/11/82</td>\n",
       "      <td>0</td>\n",
       "      <td>0</td>\n",
       "      <td>68.00</td>\n",
       "    </tr>\n",
       "    <tr>\n",
       "      <th>4</th>\n",
       "      <td>6</td>\n",
       "      <td>04/04/83</td>\n",
       "      <td>0</td>\n",
       "      <td>1</td>\n",
       "      <td>66.92</td>\n",
       "    </tr>\n",
       "    <tr>\n",
       "      <th>5</th>\n",
       "      <td>7</td>\n",
       "      <td>18/06/83</td>\n",
       "      <td>0</td>\n",
       "      <td>0</td>\n",
       "      <td>71.96</td>\n",
       "    </tr>\n",
       "    <tr>\n",
       "      <th>6</th>\n",
       "      <td>8</td>\n",
       "      <td>30/08/83</td>\n",
       "      <td>0</td>\n",
       "      <td>0</td>\n",
       "      <td>73.04</td>\n",
       "    </tr>\n",
       "    <tr>\n",
       "      <th>7</th>\n",
       "      <td>9</td>\n",
       "      <td>28/11/83</td>\n",
       "      <td>0</td>\n",
       "      <td>0</td>\n",
       "      <td>69.98</td>\n",
       "    </tr>\n",
       "    <tr>\n",
       "      <th>8</th>\n",
       "      <td>41-B</td>\n",
       "      <td>03/02/84</td>\n",
       "      <td>1</td>\n",
       "      <td>1</td>\n",
       "      <td>57.02</td>\n",
       "    </tr>\n",
       "    <tr>\n",
       "      <th>9</th>\n",
       "      <td>41-C</td>\n",
       "      <td>06/04/84</td>\n",
       "      <td>1</td>\n",
       "      <td>1</td>\n",
       "      <td>62.96</td>\n",
       "    </tr>\n",
       "    <tr>\n",
       "      <th>10</th>\n",
       "      <td>41-D</td>\n",
       "      <td>30/08/84</td>\n",
       "      <td>1</td>\n",
       "      <td>1</td>\n",
       "      <td>69.98</td>\n",
       "    </tr>\n",
       "    <tr>\n",
       "      <th>11</th>\n",
       "      <td>41-G</td>\n",
       "      <td>05/10/84</td>\n",
       "      <td>0</td>\n",
       "      <td>0</td>\n",
       "      <td>78.08</td>\n",
       "    </tr>\n",
       "    <tr>\n",
       "      <th>12</th>\n",
       "      <td>51-A</td>\n",
       "      <td>08/11/84</td>\n",
       "      <td>0</td>\n",
       "      <td>0</td>\n",
       "      <td>66.92</td>\n",
       "    </tr>\n",
       "    <tr>\n",
       "      <th>13</th>\n",
       "      <td>51-C</td>\n",
       "      <td>24/01/85</td>\n",
       "      <td>1</td>\n",
       "      <td>1</td>\n",
       "      <td>53.06</td>\n",
       "    </tr>\n",
       "    <tr>\n",
       "      <th>14</th>\n",
       "      <td>51-D</td>\n",
       "      <td>12/04/85</td>\n",
       "      <td>0</td>\n",
       "      <td>1</td>\n",
       "      <td>66.92</td>\n",
       "    </tr>\n",
       "    <tr>\n",
       "      <th>15</th>\n",
       "      <td>51-B</td>\n",
       "      <td>29/04/85</td>\n",
       "      <td>0</td>\n",
       "      <td>1</td>\n",
       "      <td>75.02</td>\n",
       "    </tr>\n",
       "    <tr>\n",
       "      <th>16</th>\n",
       "      <td>51-G</td>\n",
       "      <td>17/06/85</td>\n",
       "      <td>0</td>\n",
       "      <td>1</td>\n",
       "      <td>69.98</td>\n",
       "    </tr>\n",
       "    <tr>\n",
       "      <th>17</th>\n",
       "      <td>51-F</td>\n",
       "      <td>29/07/85</td>\n",
       "      <td>0</td>\n",
       "      <td>0</td>\n",
       "      <td>80.96</td>\n",
       "    </tr>\n",
       "    <tr>\n",
       "      <th>18</th>\n",
       "      <td>51-I</td>\n",
       "      <td>27/08/85</td>\n",
       "      <td>0</td>\n",
       "      <td>0</td>\n",
       "      <td>75.92</td>\n",
       "    </tr>\n",
       "    <tr>\n",
       "      <th>19</th>\n",
       "      <td>51-J</td>\n",
       "      <td>03/10/85</td>\n",
       "      <td>0</td>\n",
       "      <td>0</td>\n",
       "      <td>78.98</td>\n",
       "    </tr>\n",
       "    <tr>\n",
       "      <th>20</th>\n",
       "      <td>61-A</td>\n",
       "      <td>30/10/85</td>\n",
       "      <td>1</td>\n",
       "      <td>0</td>\n",
       "      <td>75.02</td>\n",
       "    </tr>\n",
       "    <tr>\n",
       "      <th>21</th>\n",
       "      <td>61-B</td>\n",
       "      <td>26/11/85</td>\n",
       "      <td>0</td>\n",
       "      <td>1</td>\n",
       "      <td>75.92</td>\n",
       "    </tr>\n",
       "    <tr>\n",
       "      <th>22</th>\n",
       "      <td>61-C</td>\n",
       "      <td>12/01/86</td>\n",
       "      <td>1</td>\n",
       "      <td>1</td>\n",
       "      <td>57.92</td>\n",
       "    </tr>\n",
       "  </tbody>\n",
       "</table>\n",
       "</div>"
      ],
      "text/plain": [
       "   flight      date  fail.field  fail.nozzle   temp\n",
       "0       1  12/04/81           0            0  66.02\n",
       "1       2  12/11/81           1            0  69.98\n",
       "2       3  22/03/82           0            0  69.08\n",
       "3       5  11/11/82           0            0  68.00\n",
       "4       6  04/04/83           0            1  66.92\n",
       "5       7  18/06/83           0            0  71.96\n",
       "6       8  30/08/83           0            0  73.04\n",
       "7       9  28/11/83           0            0  69.98\n",
       "8    41-B  03/02/84           1            1  57.02\n",
       "9    41-C  06/04/84           1            1  62.96\n",
       "10   41-D  30/08/84           1            1  69.98\n",
       "11   41-G  05/10/84           0            0  78.08\n",
       "12   51-A  08/11/84           0            0  66.92\n",
       "13   51-C  24/01/85           1            1  53.06\n",
       "14   51-D  12/04/85           0            1  66.92\n",
       "15   51-B  29/04/85           0            1  75.02\n",
       "16   51-G  17/06/85           0            1  69.98\n",
       "17   51-F  29/07/85           0            0  80.96\n",
       "18   51-I  27/08/85           0            0  75.92\n",
       "19   51-J  03/10/85           0            0  78.98\n",
       "20   61-A  30/10/85           1            0  75.02\n",
       "21   61-B  26/11/85           0            1  75.92\n",
       "22   61-C  12/01/86           1            1  57.92"
      ]
     },
     "execution_count": 2,
     "metadata": {},
     "output_type": "execute_result"
    }
   ],
   "source": [
    "df = pd.read_csv('./data/challenger.csv')\n",
    "df[\"temp\"] = df[\"temp\"] * 1.8 + 32 # 摂氏と華氏の変換\n",
    "df"
   ]
  },
  {
   "cell_type": "code",
   "execution_count": 3,
   "metadata": {},
   "outputs": [],
   "source": [
    "#説明変数 / 目的変数\n",
    "N = len(df)\n",
    "X = df[\"temp\"].values\n",
    "t = df[\"fail.field\"].values"
   ]
  },
  {
   "cell_type": "code",
   "execution_count": 4,
   "metadata": {},
   "outputs": [
    {
     "data": {
      "text/plain": [
       "<matplotlib.collections.PathCollection at 0x2a473539b38>"
      ]
     },
     "execution_count": 4,
     "metadata": {},
     "output_type": "execute_result"
    },
    {
     "data": {
      "image/png": "[encoded data removed]",
      "text/plain": [
       "<Figure size 432x288 with 1 Axes>"
      ]
     },
     "metadata": {
      "needs_background": "light"
     },
     "output_type": "display_data"
    }
   ],
   "source": [
    "# 可視化\n",
    "plt.scatter(X, t)\n",
    "# そもそもこの1変数で説明すること自体に無理があるっぽい。"
   ]
  },
  {
   "cell_type": "markdown",
   "metadata": {},
   "source": [
    "### 誤差逆伝播で計算"
   ]
  },
  {
   "cell_type": "code",
   "execution_count": 5,
   "metadata": {},
   "outputs": [],
   "source": [
    "#各レイヤの定義\n",
    "class Affine:\n",
    "    def __init__(self, alpha, beta):\n",
    "        self.params = [alpha, beta]\n",
    "        self.grads = [np.zeros_like(alpha), np.zeros_like(beta)]        \n",
    "    def forward(self, x):\n",
    "        self.x = x\n",
    "        alpha, beta = self.params\n",
    "        return alpha * x + beta\n",
    "    def backward(self, dout):\n",
    "        alpha, beta = self.params\n",
    "        self.dx = dout * alpha\n",
    "        self.grads[0] = np.sum(dout*self.x, keepdims=True)\n",
    "        self.grads[1] = np.sum(dout, keepdims=True)\n",
    "        return self.grads\n",
    "class Sigmoid:\n",
    "    def __init__(self):\n",
    "        self.params = [np.ones(1)]\n",
    "        self.grads = [np.ones(1)]\n",
    "    def forward(self, x):\n",
    "        self.y = 1.0 / (1.0 + np.exp(-x)) \n",
    "        return self.y\n",
    "    def backward(self, dout):\n",
    "        return dout*self.y*(1-self.y)\n",
    "class CrossEntropyError:\n",
    "    def __init__(self):\n",
    "        self.delta = 1e-7\n",
    "        self.params = [np.ones(1)]\n",
    "        self.grads = [np.ones(1)]\n",
    "    def forward(self, y, t):\n",
    "        self.y = y\n",
    "        self.t = t\n",
    "        return -np.dot(t, np.log(y + self.delta)) -np.dot(1-t, np.log(1-y + self.delta))\n",
    "    def backward(self, dout=1):\n",
    "        return -dout*self.t/self.y + dout*(1-self.t + self.delta)/(1-self.y + self.delta)"
   ]
  },
  {
   "cell_type": "code",
   "execution_count": 6,
   "metadata": {},
   "outputs": [],
   "source": [
    "#optimizer\n",
    "class Optimizer:\n",
    "    def __init__(self, lr):\n",
    "        self.lr = lr\n",
    "    def update(self, params, grads):\n",
    "        for i in range(len(params)):\n",
    "            params[i] -= self.lr * np.array(grads[i])"
   ]
  },
  {
   "cell_type": "code",
   "execution_count": 7,
   "metadata": {},
   "outputs": [],
   "source": [
    "#モデル構築\n",
    "class LogisticRegression:\n",
    "    def __init__(self):\n",
    "        np.random.seed(1000) \n",
    "        alpha = np.random.randn(1)/10\n",
    "        beta = np.random.randn(1)\n",
    "        self.layers = [\n",
    "            Affine(alpha,beta),\n",
    "            Sigmoid()\n",
    "        ]\n",
    "        self.last_layer = CrossEntropyError()\n",
    "        self.params = []\n",
    "        self.grads = []\n",
    "        for layer in self.layers:\n",
    "            self.params.append(layer.params)\n",
    "            self.grads.append(layer.params)\n",
    "    def predict(self, x):\n",
    "        for layer in self.layers:\n",
    "            x = layer.forward(x)\n",
    "            #print(x)\n",
    "        return x\n",
    "    def forward(self, x, t):\n",
    "        x = self.predict(x)\n",
    "        loss = self.last_layer.forward(x,t)\n",
    "        return loss\n",
    "    def backward(self, dout=1):\n",
    "        dout = self.last_layer.backward(dout)\n",
    "        for layer in reversed(self.layers):\n",
    "            dout = layer.backward(dout)\n",
    "        for i,layer in enumerate(self.layers):\n",
    "            self.grads[i] = layer.grads\n",
    "        return dout\n",
    "    def layer_params_update(self):\n",
    "        for i,layer in enumerate(self.layers):\n",
    "            layer.params = self.params[i]\n",
    "    def gradient(self):\n",
    "        return self.grads"
   ]
  },
  {
   "cell_type": "code",
   "execution_count": 8,
   "metadata": {
    "scrolled": false
   },
   "outputs": [
    {
     "data": {
      "text/plain": [
       "[<matplotlib.lines.Line2D at 0x2a473568b38>]"
      ]
     },
     "execution_count": 8,
     "metadata": {},
     "output_type": "execute_result"
    },
    {
     "data": {
      "image/png": "[encoded data removed]",
      "text/plain": [
       "<Figure size 432x288 with 1 Axes>"
      ]
     },
     "metadata": {
      "needs_background": "light"
     },
     "output_type": "display_data"
    }
   ],
   "source": [
    "#学習\n",
    "model = LogisticRegression()\n",
    "optimizer = Optimizer(lr=0.0001)\n",
    "loss_list = []\n",
    "grads_list = []\n",
    "for _ in range(5000000):\n",
    "    loss = model.forward(X, t)\n",
    "    grads = model.backward()\n",
    "    optimizer.update(model.params, model.grads)\n",
    "    model.layer_params_update()\n",
    "    loss_list.append(loss)\n",
    "    grads_list.append(model.grads)\n",
    "plt.plot(range(len(loss_list)),loss_list)"
   ]
  },
  {
   "cell_type": "code",
   "execution_count": 9,
   "metadata": {
    "scrolled": true
   },
   "outputs": [
    {
     "name": "stdout",
     "output_type": "stream",
     "text": [
      "予測\n",
      "[0.43 0.23 0.27 0.32 0.38 0.16 0.13 0.23 0.86 0.6  0.23 0.04 0.38 0.94\n",
      " 0.38 0.09 0.23 0.02 0.07 0.04 0.09 0.07 0.83]\n",
      "[0 0 0 0 0 0 0 0 1 1 0 0 0 1 0 0 0 0 0 0 0 0 1]\n",
      "正解\n",
      "[0 1 0 0 0 0 0 0 1 1 1 0 0 1 0 0 0 0 0 0 1 0 1]\n"
     ]
    }
   ],
   "source": [
    "#予測と正解の比較\n",
    "print(\"予測\")\n",
    "print(np.round(model.predict(X), 2))\n",
    "print(np.where(model.predict(X)>.5, 1, 0))\n",
    "print(\"正解\")\n",
    "print(t)"
   ]
  },
  {
   "cell_type": "code",
   "execution_count": 10,
   "metadata": {},
   "outputs": [
    {
     "data": {
      "text/plain": [
       "array([[-0.23145976],\n",
       "       [14.99007259]])"
      ]
     },
     "execution_count": 10,
     "metadata": {},
     "output_type": "execute_result"
    }
   ],
   "source": [
    "#パラメータ\n",
    "model.params[0]"
   ]
  },
  {
   "cell_type": "markdown",
   "metadata": {},
   "source": [
    "## 数値微分によるチェック"
   ]
  },
  {
   "cell_type": "code",
   "execution_count": 11,
   "metadata": {},
   "outputs": [],
   "source": [
    "#損失関数の定義\n",
    "def sigmoid(x):\n",
    "    return 1.0 / (1.0 + np.exp(-x))\n",
    "def cross_entropy_error(y,t):\n",
    "    delta = 1e-7\n",
    "    return -np.dot(t, np.log(y+delta))-np.dot(1-t, np.log(1-y+delta))\n",
    "def loss(w, X, t):\n",
    "    aff = np.dot(X, w)\n",
    "    pred = sigmoid(aff)\n",
    "    return cross_entropy_error(pred, t)"
   ]
  },
  {
   "cell_type": "code",
   "execution_count": 12,
   "metadata": {},
   "outputs": [
    {
     "name": "stdout",
     "output_type": "stream",
     "text": [
      "(23, 2)\n",
      "(2,)\n"
     ]
    }
   ],
   "source": [
    "#説明変数、パラメータ\n",
    "Xc = np.c_[X,np.ones(X.shape[0])]#説明変数 定数項として1を追加\n",
    "w = np.ones(Xc.shape[1])/2#パラメータ\n",
    "w = np.array([-0.4, 14.5])#初期値をいいところにおいてあげないと勾配が0になってしまってうまくいかない\n",
    "grad = np.ones_like(w)#勾配の配列\n",
    "print(Xc.shape)\n",
    "print(w.shape)"
   ]
  },
  {
   "cell_type": "code",
   "execution_count": 13,
   "metadata": {
    "scrolled": true
   },
   "outputs": [],
   "source": [
    "cnts = 5000#000#計算回数\n",
    "lr = 0.0001#学習率\n",
    "h = 1e-5#数値微分時の微小変化\n",
    "\n",
    "loss_list = []\n",
    "for _ in range(cnts):\n",
    "    #損失\n",
    "    loss_ = loss(w, Xc, t)\n",
    "    loss_list.append(loss_)\n",
    "    #数値微分\n",
    "    for i in range(w.shape[0]):\n",
    "        tmp_val = w[i]\n",
    "        w[i] = tmp_val + h\n",
    "        fxh1 = loss(w, Xc, t)\n",
    "        w[i] = tmp_val - h\n",
    "        fxh2 = loss(w, Xc, t)\n",
    "        grad[i] = (fxh1-fxh2)/(2*h)\n",
    "        w[i] = tmp_val\n",
    "    #パラメータ更新\n",
    "    w -= lr * grad"
   ]
  },
  {
   "cell_type": "code",
   "execution_count": 14,
   "metadata": {},
   "outputs": [
    {
     "data": {
      "text/plain": [
       "Text(0, 0.5, 'loss')"
      ]
     },
     "execution_count": 14,
     "metadata": {},
     "output_type": "execute_result"
    },
    {
     "data": {
      "image/png": "[encoded data removed]",
      "text/plain": [
       "<Figure size 432x288 with 1 Axes>"
      ]
     },
     "metadata": {
      "needs_background": "light"
     },
     "output_type": "display_data"
    }
   ],
   "source": [
    "plt.plot(range(cnts), loss_list)\n",
    "plt.xlabel(\"cnts\")\n",
    "plt.ylabel(\"loss\")\n",
    "#plt.ylim([0,150])\n",
    "#plt.xlim([-20,100])"
   ]
  },
  {
   "cell_type": "code",
   "execution_count": 15,
   "metadata": {},
   "outputs": [
    {
     "data": {
      "text/plain": [
       "array([-0.22439637, 14.50735975])"
      ]
     },
     "execution_count": 15,
     "metadata": {},
     "output_type": "execute_result"
    }
   ],
   "source": [
    "#パラメータ\n",
    "w"
   ]
  }
 ],
 "metadata": {
  "kernelspec": {
   "display_name": "Python 3",
   "language": "python",
   "name": "python3"
  },
  "language_info": {
   "codemirror_mode": {
    "name": "ipython",
    "version": 3
   },
   "file_extension": ".py",
   "mimetype": "text/x-python",
   "name": "python",
   "nbconvert_exporter": "python",
   "pygments_lexer": "ipython3",
   "version": "3.7.3"
  }
 },
 "nbformat": 4,
 "nbformat_minor": 2
}
