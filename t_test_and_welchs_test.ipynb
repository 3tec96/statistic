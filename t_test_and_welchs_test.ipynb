{
 "cells": [
  {
   "cell_type": "code",
   "execution_count": 1,
   "metadata": {},
   "outputs": [],
   "source": [
    "import numpy as np\n",
    "import pandas as pd\n",
    "import matplotlib.pyplot as plt\n",
    "import scipy.stats as st"
   ]
  },
  {
   "cell_type": "code",
   "execution_count": 2,
   "metadata": {
    "scrolled": true
   },
   "outputs": [
    {
     "data": {
      "text/html": [
       "<div>\n",
       "<style scoped>\n",
       "    .dataframe tbody tr th:only-of-type {\n",
       "        vertical-align: middle;\n",
       "    }\n",
       "\n",
       "    .dataframe tbody tr th {\n",
       "        vertical-align: top;\n",
       "    }\n",
       "\n",
       "    .dataframe thead th {\n",
       "        text-align: right;\n",
       "    }\n",
       "</style>\n",
       "<table border=\"1\" class=\"dataframe\">\n",
       "  <thead>\n",
       "    <tr style=\"text-align: right;\">\n",
       "      <th></th>\n",
       "      <th>Hokkaido_Tohoku</th>\n",
       "      <th>Kanto</th>\n",
       "      <th>Chubu</th>\n",
       "      <th>Kinki</th>\n",
       "      <th>Chugoku</th>\n",
       "      <th>Shikoku</th>\n",
       "      <th>Kyushu_Okinawa</th>\n",
       "    </tr>\n",
       "  </thead>\n",
       "  <tbody>\n",
       "    <tr>\n",
       "      <th>1</th>\n",
       "      <td>2.21</td>\n",
       "      <td>2.68</td>\n",
       "      <td>2.77</td>\n",
       "      <td>2.59</td>\n",
       "      <td>2.71</td>\n",
       "      <td>2.52</td>\n",
       "      <td>2.35</td>\n",
       "    </tr>\n",
       "    <tr>\n",
       "      <th>2</th>\n",
       "      <td>2.61</td>\n",
       "      <td>2.65</td>\n",
       "      <td>2.79</td>\n",
       "      <td>2.69</td>\n",
       "      <td>2.66</td>\n",
       "      <td>2.49</td>\n",
       "      <td>2.8</td>\n",
       "    </tr>\n",
       "    <tr>\n",
       "      <th>3</th>\n",
       "      <td>2.69</td>\n",
       "      <td>2.61</td>\n",
       "      <td>2.58</td>\n",
       "      <td>2.31</td>\n",
       "      <td>2.52</td>\n",
       "      <td>2.37</td>\n",
       "      <td>2.57</td>\n",
       "    </tr>\n",
       "    <tr>\n",
       "      <th>4</th>\n",
       "      <td>2.56</td>\n",
       "      <td>2.5</td>\n",
       "      <td>2.86</td>\n",
       "      <td>2.28</td>\n",
       "      <td>2.36</td>\n",
       "      <td>2.3</td>\n",
       "      <td>2.57</td>\n",
       "    </tr>\n",
       "    <tr>\n",
       "      <th>5</th>\n",
       "      <td>2.71</td>\n",
       "      <td>2.44</td>\n",
       "      <td>2.58</td>\n",
       "      <td>2.44</td>\n",
       "      <td>2.36</td>\n",
       "      <td>NaN</td>\n",
       "      <td>2.41</td>\n",
       "    </tr>\n",
       "    <tr>\n",
       "      <th>6</th>\n",
       "      <td>2.94</td>\n",
       "      <td>2.03</td>\n",
       "      <td>2.66</td>\n",
       "      <td>2.63</td>\n",
       "      <td>NaN</td>\n",
       "      <td>NaN</td>\n",
       "      <td>2.4</td>\n",
       "    </tr>\n",
       "    <tr>\n",
       "      <th>7</th>\n",
       "      <td>2.76</td>\n",
       "      <td>2.33</td>\n",
       "      <td>2.78</td>\n",
       "      <td>2.5</td>\n",
       "      <td>NaN</td>\n",
       "      <td>NaN</td>\n",
       "      <td>2.27</td>\n",
       "    </tr>\n",
       "    <tr>\n",
       "      <th>8</th>\n",
       "      <td>NaN</td>\n",
       "      <td>NaN</td>\n",
       "      <td>2.65</td>\n",
       "      <td>NaN</td>\n",
       "      <td>NaN</td>\n",
       "      <td>NaN</td>\n",
       "      <td>2.63</td>\n",
       "    </tr>\n",
       "    <tr>\n",
       "      <th>9</th>\n",
       "      <td>NaN</td>\n",
       "      <td>NaN</td>\n",
       "      <td>2.49</td>\n",
       "      <td>NaN</td>\n",
       "      <td>NaN</td>\n",
       "      <td>NaN</td>\n",
       "      <td>NaN</td>\n",
       "    </tr>\n",
       "  </tbody>\n",
       "</table>\n",
       "</div>"
      ],
      "text/plain": [
       "0 Hokkaido_Tohoku Kanto Chubu Kinki Chugoku Shikoku Kyushu_Okinawa\n",
       "1            2.21  2.68  2.77  2.59    2.71    2.52           2.35\n",
       "2            2.61  2.65  2.79  2.69    2.66    2.49            2.8\n",
       "3            2.69  2.61  2.58  2.31    2.52    2.37           2.57\n",
       "4            2.56   2.5  2.86  2.28    2.36     2.3           2.57\n",
       "5            2.71  2.44  2.58  2.44    2.36     NaN           2.41\n",
       "6            2.94  2.03  2.66  2.63     NaN     NaN            2.4\n",
       "7            2.76  2.33  2.78   2.5     NaN     NaN           2.27\n",
       "8             NaN   NaN  2.65   NaN     NaN     NaN           2.63\n",
       "9             NaN   NaN  2.49   NaN     NaN     NaN            NaN"
      ]
     },
     "execution_count": 2,
     "metadata": {},
     "output_type": "execute_result"
    }
   ],
   "source": [
    "df = pd.read_csv('./data/welch.csv', header=None)\n",
    "df = df.T\n",
    "df.columns = df.iloc[0]\n",
    "df = df.drop(df.index[0])\n",
    "df"
   ]
  },
  {
   "cell_type": "code",
   "execution_count": 4,
   "metadata": {},
   "outputs": [
    {
     "data": {
      "text/plain": [
       "{'Hokkaido_Tohoku': array([2.21, 2.61, 2.69, 2.56, 2.71, 2.94, 2.76], dtype=float32),\n",
       " 'Kanto': array([2.68, 2.65, 2.61, 2.5 , 2.44, 2.03, 2.33], dtype=float32),\n",
       " 'Chubu': array([2.77, 2.79, 2.58, 2.86, 2.58, 2.66, 2.78, 2.65, 2.49],\n",
       "       dtype=float32),\n",
       " 'Kinki': array([2.59, 2.69, 2.31, 2.28, 2.44, 2.63, 2.5 ], dtype=float32),\n",
       " 'Chugoku': array([2.71, 2.66, 2.52, 2.36, 2.36], dtype=float32),\n",
       " 'Shikoku': array([2.52, 2.49, 2.37, 2.3 ], dtype=float32),\n",
       " 'Kyushu_Okinawa': array([2.35, 2.8 , 2.57, 2.57, 2.41, 2.4 , 2.27, 2.63], dtype=float32)}"
      ]
     },
     "execution_count": 4,
     "metadata": {},
     "output_type": "execute_result"
    }
   ],
   "source": [
    "data = {}\n",
    "for col in df.columns:\n",
    "    data[col] = df[col].values\n",
    "    tmp = data[col].astype(np.float32)\n",
    "    mask = ~np.isnan(tmp)\n",
    "    data[col] = tmp[mask]    \n",
    "data"
   ]
  },
  {
   "cell_type": "markdown",
   "metadata": {},
   "source": [
    "### 分散が未知で等しい場合　ｔ検定"
   ]
  },
  {
   "cell_type": "code",
   "execution_count": 5,
   "metadata": {},
   "outputs": [],
   "source": [
    "def t_test(x,y,alpha=0.05):\n",
    "    #片側検定（両側の場合はalpha/2を入れる）\n",
    "    #不偏分散\n",
    "    vx = x.var(ddof=1) #ddof=0で標本分散\n",
    "    vy = y.var(ddof=1)\n",
    "    m = x.shape[0]\n",
    "    n = y.shape[0]\n",
    "    #プールした分散\n",
    "    var = (m*vx + n*vy) / (m + n -2)\n",
    "    #t値\n",
    "    t_value = abs(x.mean()-y.mean()) / (1/m + 1/n)**(1/2) / var\n",
    "    t_alpha = st.t.ppf(1-alpha,20)\n",
    "    #検定結果 0：帰無仮説を受容 ,1：帰無仮説を棄却\n",
    "    if t_value > t_alpha:\n",
    "        result = 1#\n",
    "    else:\n",
    "        result = 0\n",
    "    return t_value, t_alpha, result"
   ]
  },
  {
   "cell_type": "code",
   "execution_count": 6,
   "metadata": {},
   "outputs": [
    {
     "data": {
      "text/plain": [
       "(12.377595450992377, 1.7247182429207857, 1)"
      ]
     },
     "execution_count": 6,
     "metadata": {},
     "output_type": "execute_result"
    }
   ],
   "source": [
    "x = data[\"Kanto\"]\n",
    "y = data[\"Chubu\"]\n",
    "t_test(x,y,alpha=0.05)"
   ]
  },
  {
   "cell_type": "markdown",
   "metadata": {},
   "source": [
    "### 分散が未知で異なる場合 welchの検定"
   ]
  },
  {
   "cell_type": "code",
   "execution_count": 7,
   "metadata": {},
   "outputs": [],
   "source": [
    "def welchs_test(x,y,alpha=0.05):\n",
    "    #片側検定（両側の場合はalpha/2を入れる）\n",
    "    #不偏分散\n",
    "    vx = x.var(ddof=1) #ddof=0で標本分散\n",
    "    vy = y.var(ddof=1)\n",
    "    m = x.shape[0]\n",
    "    n = y.shape[0]\n",
    "    #自由度\n",
    "    gx = vx / m\n",
    "    gy = vy / n\n",
    "    f = (gx + gy)**2 / (gx**2/(m-1) + gy**2/(n-1))\n",
    "    #t値\n",
    "    t_value = abs(x.mean()-y.mean()) / (vx**2/m + vy**2/n)**(1/2)\n",
    "    t_alpha = st.t.ppf(1-alpha,f)\n",
    "    #検定結果 0：帰無仮説を受容 ,1：帰無仮説を棄却\n",
    "    if t_value > t_alpha:\n",
    "        result = 1\n",
    "    else:\n",
    "        result = 0\n",
    "    return t_value, t_alpha, result"
   ]
  },
  {
   "cell_type": "code",
   "execution_count": 8,
   "metadata": {},
   "outputs": [
    {
     "data": {
      "text/plain": [
       "(10.968809890137853, 1.8409971867531796, 1)"
      ]
     },
     "execution_count": 8,
     "metadata": {},
     "output_type": "execute_result"
    }
   ],
   "source": [
    "x = data[\"Kanto\"]\n",
    "y = data[\"Chubu\"]\n",
    "welchs_test(x,y,alpha=0.05)"
   ]
  },
  {
   "cell_type": "markdown",
   "metadata": {},
   "source": [
    "### 分散が等しいかどうかの判断基準（母分散の比の検定）2級p153"
   ]
  },
  {
   "cell_type": "code",
   "execution_count": 9,
   "metadata": {},
   "outputs": [],
   "source": [
    "def tests_for_homogeneity_of_variance(x,y,alpha=0.05):\n",
    "    #両側検定\n",
    "    vx = x.var(ddof=1)\n",
    "    vy = y.var(ddof=1)\n",
    "    m = x.shape[0]\n",
    "    n = y.shape[0]\n",
    "    f = vx /vy\n",
    "    f_alpha_low = st.f.ppf(alpha/2, m-1, n-1)\n",
    "    f_alpha_up = st.f.ppf(1-alpha/2, m-1, n-1)\n",
    "    #検定結果 0：帰無仮説を受容 ,1：帰無仮説を棄却\n",
    "    if f >= f_alpha_low and f <= f_alpha_up:\n",
    "        result = 0\n",
    "    else:\n",
    "        result = 1\n",
    "    return f, f_alpha_low, f_alpha_up, result    "
   ]
  },
  {
   "cell_type": "code",
   "execution_count": 11,
   "metadata": {},
   "outputs": [
    {
     "data": {
      "text/plain": [
       "(3.4578228, 0.17858345090364028, 4.651695537300463, 0)"
      ]
     },
     "execution_count": 11,
     "metadata": {},
     "output_type": "execute_result"
    }
   ],
   "source": [
    "x = data[\"Kanto\"]\n",
    "y = data[\"Chubu\"]\n",
    "tests_for_homogeneity_of_variance(x, y, alpha=0.05)"
   ]
  },
  {
   "cell_type": "markdown",
   "metadata": {},
   "source": [
    "### メモ"
   ]
  },
  {
   "cell_type": "code",
   "execution_count": 13,
   "metadata": {},
   "outputs": [
    {
     "data": {
      "text/plain": [
       "Ttest_indResult(statistic=-2.5072662252652482, pvalue=0.025111562671710143)"
      ]
     },
     "execution_count": 13,
     "metadata": {},
     "output_type": "execute_result"
    }
   ],
   "source": [
    "st.ttest_ind(x, y)"
   ]
  },
  {
   "cell_type": "markdown",
   "metadata": {},
   "source": [
    "### メモ：welchの検定を使うかどうかでどれくらい結果に違いがでるのかも確認したい"
   ]
  },
  {
   "cell_type": "code",
   "execution_count": null,
   "metadata": {},
   "outputs": [],
   "source": []
  }
 ],
 "metadata": {
  "kernelspec": {
   "display_name": "Python 3",
   "language": "python",
   "name": "python3"
  },
  "language_info": {
   "codemirror_mode": {
    "name": "ipython",
    "version": 3
   },
   "file_extension": ".py",
   "mimetype": "text/x-python",
   "name": "python",
   "nbconvert_exporter": "python",
   "pygments_lexer": "ipython3",
   "version": "3.7.3"
  }
 },
 "nbformat": 4,
 "nbformat_minor": 2
}
