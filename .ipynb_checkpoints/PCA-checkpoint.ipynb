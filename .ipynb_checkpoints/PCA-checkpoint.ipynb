{
 "cells": [
  {
   "cell_type": "markdown",
   "metadata": {},
   "source": [
    "# 主成分分析\n",
    "### 1.テストデータの作成\n",
    "### 2.分散が最大となる方向を求める\n",
    "### 3.相関係数行列の固有ベクトル、共分散行列の固有ベクトルとの比較"
   ]
  },
  {
   "cell_type": "code",
   "execution_count": 1,
   "metadata": {},
   "outputs": [],
   "source": [
    "import numpy as np\n",
    "import pandas as pd\n",
    "import matplotlib.pyplot as plt\n",
    "import numpy.linalg as LA\n",
    "from tqdm import tqdm"
   ]
  },
  {
   "cell_type": "code",
   "execution_count": 2,
   "metadata": {},
   "outputs": [
    {
     "data": {
      "text/plain": [
       "'%.3f'"
      ]
     },
     "execution_count": 2,
     "metadata": {},
     "output_type": "execute_result"
    }
   ],
   "source": [
    "#表示桁数\n",
    "np.set_printoptions(precision=3)\n",
    "%precision %.3f"
   ]
  },
  {
   "cell_type": "markdown",
   "metadata": {},
   "source": [
    "### 1.テストデータの作成"
   ]
  },
  {
   "cell_type": "code",
   "execution_count": 3,
   "metadata": {},
   "outputs": [
    {
     "data": {
      "text/plain": [
       "array([[-50.   , -45.   , -40.   , -35.   , -30.   , -25.   , -20.   ,\n",
       "        -15.   , -10.   ,  -5.   ,   0.   ,   5.   ,  10.   ,  15.   ,\n",
       "         20.   ,  25.   ,  30.   ,  35.   ,  40.   ,  45.   ,  50.   ],\n",
       "       [106.282, 111.248, 128.208, 130.998, 146.725, 150.181, 164.029,\n",
       "        172.682, 189.189, 197.572, 204.173, 213.778, 220.547, 234.39 ,\n",
       "        247.669, 253.453, 262.378, 277.249, 282.705, 295.258, 306.995]])"
      ]
     },
     "execution_count": 3,
     "metadata": {},
     "output_type": "execute_result"
    }
   ],
   "source": [
    "x = np.linspace(-50, 50, 21)\n",
    "y = 2 * x + 200 + 10 * np.random.rand(21)\n",
    "data = np.stack([x, y], axis=0)\n",
    "data"
   ]
  },
  {
   "cell_type": "code",
   "execution_count": 4,
   "metadata": {
    "scrolled": false
   },
   "outputs": [
    {
     "data": {
      "text/plain": [
       "(100, 300)"
      ]
     },
     "execution_count": 4,
     "metadata": {},
     "output_type": "execute_result"
    },
    {
     "data": {
      "image/png": "[encoded data removed]",
      "text/plain": [
       "<Figure size 432x288 with 1 Axes>"
      ]
     },
     "metadata": {
      "needs_background": "light"
     },
     "output_type": "display_data"
    }
   ],
   "source": [
    "plt.scatter(data[0], data[1])\n",
    "plt.xlim(-100, 100)\n",
    "plt.ylim(100, 300)"
   ]
  },
  {
   "cell_type": "markdown",
   "metadata": {},
   "source": [
    "### 2.分散が最大になる方向（第1主成分）を求める"
   ]
  },
  {
   "cell_type": "code",
   "execution_count": 5,
   "metadata": {},
   "outputs": [],
   "source": [
    "# 求めるベクトルの初期化\n",
    "def init_vec():\n",
    "    return np.random.rand(2)\n",
    "# パラメータ\n",
    "lr = 0.0001\n",
    "iter_num = 500\n",
    "epochs = 100"
   ]
  },
  {
   "cell_type": "code",
   "execution_count": 6,
   "metadata": {},
   "outputs": [],
   "source": [
    "# 分散\n",
    "def variance(data,v):\n",
    "    data_mean = data.mean(axis=1,keepdims=True)\n",
    "    data_ = data - data_mean\n",
    "    inner_product = np.dot(v,data_)\n",
    "    norm = LA.norm(v)\n",
    "    diff = inner_product /norm\n",
    "    var = (diff**2).sum() / data.shape[1]\n",
    "    grads = 2/norm**4 * ( np.dot(data_,inner_product)*norm**2-(inner_product**2).sum()*v ) \n",
    "    return var , grads"
   ]
  },
  {
   "cell_type": "code",
   "execution_count": 7,
   "metadata": {},
   "outputs": [],
   "source": [
    "# 分散の最大化\n",
    "def maximize_variance(data,lr,iter_num,update_function):\n",
    "    var_list = []\n",
    "    vec = init_vec()\n",
    "    for _ in range(iter_num):\n",
    "        var, grads = update_function(data,vec)\n",
    "        var_list.append(var)\n",
    "        vec += lr*grads # 最大化なので+\n",
    "    vec = vec/LA.norm(vec)\n",
    "    return vec, var_list                     "
   ]
  },
  {
   "cell_type": "code",
   "execution_count": 8,
   "metadata": {},
   "outputs": [],
   "source": [
    "# 初期値をランダムにとり直して分散が最大になるものを選択（非凸対策）\n",
    "def train(data,lr,iter_num,epochs,update_function=variance):\n",
    "    vector_list = []\n",
    "    var_list_list=[]\n",
    "    final_var = np.zeros(epochs)\n",
    "    for epoch in tqdm(range(epochs)):\n",
    "        v_ , var_list = maximize_variance(data,lr,iter_num,update_function=update_function)\n",
    "        final_var[epoch] = var_list[iter_num-1]\n",
    "        vector_list.append(v_)\n",
    "        var_list_list.append(var_list)\n",
    "    idx = np.argmax(final_var)\n",
    "    return vector_list[idx] , var_list_list[idx]"
   ]
  },
  {
   "cell_type": "code",
   "execution_count": 9,
   "metadata": {
    "scrolled": false
   },
   "outputs": [
    {
     "name": "stderr",
     "output_type": "stream",
     "text": [
      "100%|████████████████████████████████████████████████████████████████████████████████| 100/100 [00:01<00:00, 66.81it/s]\n"
     ]
    },
    {
     "name": "stdout",
     "output_type": "stream",
     "text": [
      "第1主成分: [0.445 0.895]\n"
     ]
    },
    {
     "data": {
      "text/plain": [
       "[<matplotlib.lines.Line2D at 0x1db837c07b8>]"
      ]
     },
     "execution_count": 9,
     "metadata": {},
     "output_type": "execute_result"
    },
    {
     "data": {
      "image/png": "[encoded data removed]",
      "text/plain": [
       "<Figure size 432x288 with 1 Axes>"
      ]
     },
     "metadata": {
      "needs_background": "light"
     },
     "output_type": "display_data"
    }
   ],
   "source": [
    "# 学習\n",
    "vector, var_list = train(data,lr,iter_num,epochs,update_function=variance)\n",
    "print(\"第1主成分:\",vector)\n",
    "plt.plot(range(iter_num),var_list)"
   ]
  },
  {
   "cell_type": "markdown",
   "metadata": {},
   "source": [
    "### 3.1.相関係数行列の固有値/固有ベクトル"
   ]
  },
  {
   "cell_type": "code",
   "execution_count": 10,
   "metadata": {
    "scrolled": true
   },
   "outputs": [
    {
     "name": "stdout",
     "output_type": "stream",
     "text": [
      "固有値\n",
      "[1.999e+00 9.416e-04]\n",
      "固有ベクトル\n",
      "[[ 0.707 -0.707]\n",
      " [ 0.707  0.707]]\n"
     ]
    }
   ],
   "source": [
    "# 自己相関行列\n",
    "w,v = LA.eig(np.corrcoef(data))\n",
    "print(\"固有値\")\n",
    "print(w)\n",
    "print(\"固有ベクトル\")\n",
    "print(v)"
   ]
  },
  {
   "cell_type": "markdown",
   "metadata": {},
   "source": [
    "#### (1,1)方向が固有ベクトルの方向になる。（？）"
   ]
  },
  {
   "cell_type": "markdown",
   "metadata": {},
   "source": [
    "### 3.1.分散共分散行列の固有値/固有ベクトル"
   ]
  },
  {
   "cell_type": "code",
   "execution_count": 11,
   "metadata": {},
   "outputs": [
    {
     "name": "stdout",
     "output_type": "stream",
     "text": [
      "固有値\n",
      "[1.453e+00 4.850e+03]\n",
      "固有ベクトル\n",
      "[[-0.895 -0.445]\n",
      " [ 0.445 -0.895]]\n"
     ]
    }
   ],
   "source": [
    "# 分散共分散行列\n",
    "w,v = LA.eig(np.cov(data))\n",
    "print(\"固有値\")\n",
    "print(w)\n",
    "print(\"固有ベクトル\")\n",
    "print(v)"
   ]
  },
  {
   "cell_type": "markdown",
   "metadata": {},
   "source": [
    "#### データの分散が最大の方向とそれに直交する方向のベクトルが得られている。（OK）"
   ]
  },
  {
   "cell_type": "markdown",
   "metadata": {},
   "source": [
    "### まとめ：何が起こっているかさっぱりわからない。"
   ]
  },
  {
   "cell_type": "code",
   "execution_count": null,
   "metadata": {},
   "outputs": [],
   "source": []
  }
 ],
 "metadata": {
  "kernelspec": {
   "display_name": "Python 3",
   "language": "python",
   "name": "python3"
  },
  "language_info": {
   "codemirror_mode": {
    "name": "ipython",
    "version": 3
   },
   "file_extension": ".py",
   "mimetype": "text/x-python",
   "name": "python",
   "nbconvert_exporter": "python",
   "pygments_lexer": "ipython3",
   "version": "3.7.3"
  }
 },
 "nbformat": 4,
 "nbformat_minor": 2
}
