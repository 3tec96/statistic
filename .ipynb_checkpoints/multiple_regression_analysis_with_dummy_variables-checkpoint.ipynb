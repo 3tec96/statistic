{
 "cells": [
  {
   "cell_type": "code",
   "execution_count": 1,
   "metadata": {},
   "outputs": [],
   "source": [
    "import numpy as np\n",
    "import pandas as pd\n",
    "import matplotlib.pyplot as plt\n",
    "from sklearn import preprocessing\n",
    "import statsmodels.api as sm"
   ]
  },
  {
   "cell_type": "code",
   "execution_count": 2,
   "metadata": {
    "scrolled": false
   },
   "outputs": [
    {
     "data": {
      "text/html": [
       "<div>\n",
       "<style scoped>\n",
       "    .dataframe tbody tr th:only-of-type {\n",
       "        vertical-align: middle;\n",
       "    }\n",
       "\n",
       "    .dataframe tbody tr th {\n",
       "        vertical-align: top;\n",
       "    }\n",
       "\n",
       "    .dataframe thead th {\n",
       "        text-align: right;\n",
       "    }\n",
       "</style>\n",
       "<table border=\"1\" class=\"dataframe\">\n",
       "  <thead>\n",
       "    <tr style=\"text-align: right;\">\n",
       "      <th></th>\n",
       "      <th>tokyo</th>\n",
       "      <th>kanagawa</th>\n",
       "      <th>saitama</th>\n",
       "      <th>chiba</th>\n",
       "      <th>ibaraki</th>\n",
       "      <th>gunma</th>\n",
       "      <th>tochigi</th>\n",
       "      <th>weight</th>\n",
       "    </tr>\n",
       "    <tr>\n",
       "      <th>Unnamed: 0</th>\n",
       "      <th></th>\n",
       "      <th></th>\n",
       "      <th></th>\n",
       "      <th></th>\n",
       "      <th></th>\n",
       "      <th></th>\n",
       "      <th></th>\n",
       "      <th></th>\n",
       "    </tr>\n",
       "  </thead>\n",
       "  <tbody>\n",
       "    <tr>\n",
       "      <th>poplulation</th>\n",
       "      <td>13515</td>\n",
       "      <td>9126</td>\n",
       "      <td>7266</td>\n",
       "      <td>6222</td>\n",
       "      <td>2916</td>\n",
       "      <td>1973</td>\n",
       "      <td>1974</td>\n",
       "      <td>40</td>\n",
       "    </tr>\n",
       "    <tr>\n",
       "      <th>banana</th>\n",
       "      <td>1</td>\n",
       "      <td>0</td>\n",
       "      <td>0</td>\n",
       "      <td>0</td>\n",
       "      <td>0</td>\n",
       "      <td>0</td>\n",
       "      <td>0</td>\n",
       "      <td>10</td>\n",
       "    </tr>\n",
       "    <tr>\n",
       "      <th>baumkuchen</th>\n",
       "      <td>1</td>\n",
       "      <td>0</td>\n",
       "      <td>0</td>\n",
       "      <td>0</td>\n",
       "      <td>0</td>\n",
       "      <td>0</td>\n",
       "      <td>0</td>\n",
       "      <td>7</td>\n",
       "    </tr>\n",
       "    <tr>\n",
       "      <th>hiyoko</th>\n",
       "      <td>1</td>\n",
       "      <td>0</td>\n",
       "      <td>0</td>\n",
       "      <td>0</td>\n",
       "      <td>0</td>\n",
       "      <td>0</td>\n",
       "      <td>0</td>\n",
       "      <td>15</td>\n",
       "    </tr>\n",
       "    <tr>\n",
       "      <th>meat_bun</th>\n",
       "      <td>0</td>\n",
       "      <td>1</td>\n",
       "      <td>0</td>\n",
       "      <td>0</td>\n",
       "      <td>0</td>\n",
       "      <td>0</td>\n",
       "      <td>0</td>\n",
       "      <td>16</td>\n",
       "    </tr>\n",
       "    <tr>\n",
       "      <th>steamed_meat_dumpling</th>\n",
       "      <td>0</td>\n",
       "      <td>1</td>\n",
       "      <td>0</td>\n",
       "      <td>0</td>\n",
       "      <td>0</td>\n",
       "      <td>0</td>\n",
       "      <td>0</td>\n",
       "      <td>14</td>\n",
       "    </tr>\n",
       "    <tr>\n",
       "      <th>hatosabure</th>\n",
       "      <td>0</td>\n",
       "      <td>1</td>\n",
       "      <td>0</td>\n",
       "      <td>0</td>\n",
       "      <td>0</td>\n",
       "      <td>0</td>\n",
       "      <td>0</td>\n",
       "      <td>6</td>\n",
       "    </tr>\n",
       "    <tr>\n",
       "      <th>rice_cracker</th>\n",
       "      <td>0</td>\n",
       "      <td>0</td>\n",
       "      <td>1</td>\n",
       "      <td>0</td>\n",
       "      <td>1</td>\n",
       "      <td>1</td>\n",
       "      <td>0</td>\n",
       "      <td>9</td>\n",
       "    </tr>\n",
       "    <tr>\n",
       "      <th>juumangoku</th>\n",
       "      <td>0</td>\n",
       "      <td>0</td>\n",
       "      <td>1</td>\n",
       "      <td>0</td>\n",
       "      <td>0</td>\n",
       "      <td>0</td>\n",
       "      <td>0</td>\n",
       "      <td>6</td>\n",
       "    </tr>\n",
       "    <tr>\n",
       "      <th>peanuts</th>\n",
       "      <td>0</td>\n",
       "      <td>1</td>\n",
       "      <td>0</td>\n",
       "      <td>1</td>\n",
       "      <td>0</td>\n",
       "      <td>0</td>\n",
       "      <td>0</td>\n",
       "      <td>10</td>\n",
       "    </tr>\n",
       "    <tr>\n",
       "      <th>loquat</th>\n",
       "      <td>1</td>\n",
       "      <td>0</td>\n",
       "      <td>0</td>\n",
       "      <td>1</td>\n",
       "      <td>0</td>\n",
       "      <td>0</td>\n",
       "      <td>0</td>\n",
       "      <td>13</td>\n",
       "    </tr>\n",
       "    <tr>\n",
       "      <th>king_melon</th>\n",
       "      <td>0</td>\n",
       "      <td>0</td>\n",
       "      <td>0</td>\n",
       "      <td>0</td>\n",
       "      <td>1</td>\n",
       "      <td>0</td>\n",
       "      <td>0</td>\n",
       "      <td>13</td>\n",
       "    </tr>\n",
       "    <tr>\n",
       "      <th>fermented_soybeans</th>\n",
       "      <td>0</td>\n",
       "      <td>0</td>\n",
       "      <td>0</td>\n",
       "      <td>0</td>\n",
       "      <td>1</td>\n",
       "      <td>0</td>\n",
       "      <td>0</td>\n",
       "      <td>12</td>\n",
       "    </tr>\n",
       "    <tr>\n",
       "      <th>longtooth_grouper</th>\n",
       "      <td>1</td>\n",
       "      <td>0</td>\n",
       "      <td>0</td>\n",
       "      <td>0</td>\n",
       "      <td>1</td>\n",
       "      <td>0</td>\n",
       "      <td>0</td>\n",
       "      <td>9</td>\n",
       "    </tr>\n",
       "    <tr>\n",
       "      <th>udon</th>\n",
       "      <td>0</td>\n",
       "      <td>0</td>\n",
       "      <td>1</td>\n",
       "      <td>0</td>\n",
       "      <td>0</td>\n",
       "      <td>1</td>\n",
       "      <td>0</td>\n",
       "      <td>14</td>\n",
       "    </tr>\n",
       "    <tr>\n",
       "      <th>apple</th>\n",
       "      <td>0</td>\n",
       "      <td>0</td>\n",
       "      <td>1</td>\n",
       "      <td>0</td>\n",
       "      <td>0</td>\n",
       "      <td>1</td>\n",
       "      <td>1</td>\n",
       "      <td>9</td>\n",
       "    </tr>\n",
       "    <tr>\n",
       "      <th>kamameshi</th>\n",
       "      <td>0</td>\n",
       "      <td>0</td>\n",
       "      <td>0</td>\n",
       "      <td>0</td>\n",
       "      <td>0</td>\n",
       "      <td>1</td>\n",
       "      <td>0</td>\n",
       "      <td>5</td>\n",
       "    </tr>\n",
       "    <tr>\n",
       "      <th>strawberry</th>\n",
       "      <td>0</td>\n",
       "      <td>0</td>\n",
       "      <td>0</td>\n",
       "      <td>0</td>\n",
       "      <td>0</td>\n",
       "      <td>0</td>\n",
       "      <td>1</td>\n",
       "      <td>11</td>\n",
       "    </tr>\n",
       "    <tr>\n",
       "      <th>gyoza</th>\n",
       "      <td>0</td>\n",
       "      <td>1</td>\n",
       "      <td>0</td>\n",
       "      <td>0</td>\n",
       "      <td>0</td>\n",
       "      <td>0</td>\n",
       "      <td>1</td>\n",
       "      <td>15</td>\n",
       "    </tr>\n",
       "    <tr>\n",
       "      <th>kanpyo</th>\n",
       "      <td>0</td>\n",
       "      <td>0</td>\n",
       "      <td>0</td>\n",
       "      <td>0</td>\n",
       "      <td>0</td>\n",
       "      <td>0</td>\n",
       "      <td>1</td>\n",
       "      <td>3</td>\n",
       "    </tr>\n",
       "    <tr>\n",
       "      <th>dummy_1</th>\n",
       "      <td>1</td>\n",
       "      <td>1</td>\n",
       "      <td>1</td>\n",
       "      <td>0</td>\n",
       "      <td>0</td>\n",
       "      <td>0</td>\n",
       "      <td>0</td>\n",
       "      <td>0</td>\n",
       "    </tr>\n",
       "    <tr>\n",
       "      <th>dummy_2</th>\n",
       "      <td>0</td>\n",
       "      <td>0</td>\n",
       "      <td>1</td>\n",
       "      <td>0</td>\n",
       "      <td>1</td>\n",
       "      <td>1</td>\n",
       "      <td>0</td>\n",
       "      <td>0</td>\n",
       "    </tr>\n",
       "    <tr>\n",
       "      <th>dummy_3</th>\n",
       "      <td>1</td>\n",
       "      <td>1</td>\n",
       "      <td>1</td>\n",
       "      <td>0</td>\n",
       "      <td>0</td>\n",
       "      <td>0</td>\n",
       "      <td>1</td>\n",
       "      <td>0</td>\n",
       "    </tr>\n",
       "    <tr>\n",
       "      <th>dummy_4</th>\n",
       "      <td>1</td>\n",
       "      <td>0</td>\n",
       "      <td>1</td>\n",
       "      <td>0</td>\n",
       "      <td>0</td>\n",
       "      <td>0</td>\n",
       "      <td>1</td>\n",
       "      <td>0</td>\n",
       "    </tr>\n",
       "    <tr>\n",
       "      <th>dummy_5</th>\n",
       "      <td>0</td>\n",
       "      <td>0</td>\n",
       "      <td>0</td>\n",
       "      <td>1</td>\n",
       "      <td>0</td>\n",
       "      <td>0</td>\n",
       "      <td>1</td>\n",
       "      <td>0</td>\n",
       "    </tr>\n",
       "    <tr>\n",
       "      <th>dummy_6</th>\n",
       "      <td>0</td>\n",
       "      <td>1</td>\n",
       "      <td>1</td>\n",
       "      <td>0</td>\n",
       "      <td>0</td>\n",
       "      <td>0</td>\n",
       "      <td>0</td>\n",
       "      <td>0</td>\n",
       "    </tr>\n",
       "    <tr>\n",
       "      <th>dummy_7</th>\n",
       "      <td>0</td>\n",
       "      <td>0</td>\n",
       "      <td>1</td>\n",
       "      <td>0</td>\n",
       "      <td>0</td>\n",
       "      <td>0</td>\n",
       "      <td>0</td>\n",
       "      <td>0</td>\n",
       "    </tr>\n",
       "    <tr>\n",
       "      <th>dummy_8</th>\n",
       "      <td>1</td>\n",
       "      <td>1</td>\n",
       "      <td>0</td>\n",
       "      <td>0</td>\n",
       "      <td>0</td>\n",
       "      <td>1</td>\n",
       "      <td>0</td>\n",
       "      <td>0</td>\n",
       "    </tr>\n",
       "    <tr>\n",
       "      <th>dummy_9</th>\n",
       "      <td>0</td>\n",
       "      <td>1</td>\n",
       "      <td>1</td>\n",
       "      <td>1</td>\n",
       "      <td>1</td>\n",
       "      <td>1</td>\n",
       "      <td>1</td>\n",
       "      <td>0</td>\n",
       "    </tr>\n",
       "    <tr>\n",
       "      <th>dummy_10</th>\n",
       "      <td>1</td>\n",
       "      <td>1</td>\n",
       "      <td>1</td>\n",
       "      <td>1</td>\n",
       "      <td>1</td>\n",
       "      <td>1</td>\n",
       "      <td>1</td>\n",
       "      <td>0</td>\n",
       "    </tr>\n",
       "  </tbody>\n",
       "</table>\n",
       "</div>"
      ],
      "text/plain": [
       "                       tokyo  kanagawa  saitama  chiba  ibaraki  gunma  \\\n",
       "Unnamed: 0                                                               \n",
       "poplulation            13515      9126     7266   6222     2916   1973   \n",
       "banana                     1         0        0      0        0      0   \n",
       "baumkuchen                 1         0        0      0        0      0   \n",
       "hiyoko                     1         0        0      0        0      0   \n",
       "meat_bun                   0         1        0      0        0      0   \n",
       "steamed_meat_dumpling      0         1        0      0        0      0   \n",
       "hatosabure                 0         1        0      0        0      0   \n",
       "rice_cracker               0         0        1      0        1      1   \n",
       "juumangoku                 0         0        1      0        0      0   \n",
       "peanuts                    0         1        0      1        0      0   \n",
       "loquat                     1         0        0      1        0      0   \n",
       "king_melon                 0         0        0      0        1      0   \n",
       "fermented_soybeans         0         0        0      0        1      0   \n",
       "longtooth_grouper          1         0        0      0        1      0   \n",
       "udon                       0         0        1      0        0      1   \n",
       "apple                      0         0        1      0        0      1   \n",
       "kamameshi                  0         0        0      0        0      1   \n",
       "strawberry                 0         0        0      0        0      0   \n",
       "gyoza                      0         1        0      0        0      0   \n",
       "kanpyo                     0         0        0      0        0      0   \n",
       "dummy_1                    1         1        1      0        0      0   \n",
       "dummy_2                    0         0        1      0        1      1   \n",
       "dummy_3                    1         1        1      0        0      0   \n",
       "dummy_4                    1         0        1      0        0      0   \n",
       "dummy_5                    0         0        0      1        0      0   \n",
       "dummy_6                    0         1        1      0        0      0   \n",
       "dummy_7                    0         0        1      0        0      0   \n",
       "dummy_8                    1         1        0      0        0      1   \n",
       "dummy_9                    0         1        1      1        1      1   \n",
       "dummy_10                   1         1        1      1        1      1   \n",
       "\n",
       "                       tochigi  weight  \n",
       "Unnamed: 0                              \n",
       "poplulation               1974      40  \n",
       "banana                       0      10  \n",
       "baumkuchen                   0       7  \n",
       "hiyoko                       0      15  \n",
       "meat_bun                     0      16  \n",
       "steamed_meat_dumpling        0      14  \n",
       "hatosabure                   0       6  \n",
       "rice_cracker                 0       9  \n",
       "juumangoku                   0       6  \n",
       "peanuts                      0      10  \n",
       "loquat                       0      13  \n",
       "king_melon                   0      13  \n",
       "fermented_soybeans           0      12  \n",
       "longtooth_grouper            0       9  \n",
       "udon                         0      14  \n",
       "apple                        1       9  \n",
       "kamameshi                    0       5  \n",
       "strawberry                   1      11  \n",
       "gyoza                        1      15  \n",
       "kanpyo                       1       3  \n",
       "dummy_1                      0       0  \n",
       "dummy_2                      0       0  \n",
       "dummy_3                      1       0  \n",
       "dummy_4                      1       0  \n",
       "dummy_5                      1       0  \n",
       "dummy_6                      0       0  \n",
       "dummy_7                      0       0  \n",
       "dummy_8                      0       0  \n",
       "dummy_9                      1       0  \n",
       "dummy_10                     1       0  "
      ]
     },
     "execution_count": 2,
     "metadata": {},
     "output_type": "execute_result"
    }
   ],
   "source": [
    "df = pd.read_csv(\"./data/tax.csv\")\n",
    "df = df.set_index('Unnamed: 0')\n",
    "df"
   ]
  },
  {
   "cell_type": "code",
   "execution_count": 3,
   "metadata": {
    "scrolled": false
   },
   "outputs": [
    {
     "data": {
      "text/plain": [
       "array([[13515,  9126,  7266,  6222,  2916,  1973,  1974],\n",
       "       [    1,     0,     0,     0,     0,     0,     0],\n",
       "       [    1,     0,     0,     0,     0,     0,     0],\n",
       "       [    1,     0,     0,     0,     0,     0,     0],\n",
       "       [    0,     1,     0,     0,     0,     0,     0],\n",
       "       [    0,     1,     0,     0,     0,     0,     0],\n",
       "       [    0,     1,     0,     0,     0,     0,     0],\n",
       "       [    0,     0,     1,     0,     1,     1,     0],\n",
       "       [    0,     0,     1,     0,     0,     0,     0],\n",
       "       [    0,     1,     0,     1,     0,     0,     0],\n",
       "       [    1,     0,     0,     1,     0,     0,     0],\n",
       "       [    0,     0,     0,     0,     1,     0,     0],\n",
       "       [    0,     0,     0,     0,     1,     0,     0],\n",
       "       [    1,     0,     0,     0,     1,     0,     0],\n",
       "       [    0,     0,     1,     0,     0,     1,     0],\n",
       "       [    0,     0,     1,     0,     0,     1,     1],\n",
       "       [    0,     0,     0,     0,     0,     1,     0],\n",
       "       [    0,     0,     0,     0,     0,     0,     1],\n",
       "       [    0,     1,     0,     0,     0,     0,     1],\n",
       "       [    0,     0,     0,     0,     0,     0,     1],\n",
       "       [    1,     1,     1,     0,     0,     0,     0],\n",
       "       [    0,     0,     1,     0,     1,     1,     0],\n",
       "       [    1,     1,     1,     0,     0,     0,     1],\n",
       "       [    1,     0,     1,     0,     0,     0,     1],\n",
       "       [    0,     0,     0,     1,     0,     0,     1],\n",
       "       [    0,     1,     1,     0,     0,     0,     0],\n",
       "       [    0,     0,     1,     0,     0,     0,     0],\n",
       "       [    1,     1,     0,     0,     0,     1,     0],\n",
       "       [    0,     1,     1,     1,     1,     1,     1],\n",
       "       [    1,     1,     1,     1,     1,     1,     1]], dtype=int64)"
      ]
     },
     "execution_count": 3,
     "metadata": {},
     "output_type": "execute_result"
    }
   ],
   "source": [
    "# 説明変数\n",
    "x = df.drop(\"weight\",axis=1).values\n",
    "x"
   ]
  },
  {
   "cell_type": "code",
   "execution_count": 4,
   "metadata": {},
   "outputs": [
    {
     "data": {
      "text/plain": [
       "array([540655, 365101, 290679, 248903, 116683,  78958,  78998],\n",
       "      dtype=int64)"
      ]
     },
     "execution_count": 4,
     "metadata": {},
     "output_type": "execute_result"
    }
   ],
   "source": [
    "# 目的変数を適当に作成 納税額的なもの？\n",
    "weight = df[\"weight\"].values\n",
    "y = np.dot(weight, x) + np.random.randint(0, 2, size=x.shape[1]) # 説明変数×適当な重み\n",
    "y"
   ]
  },
  {
   "cell_type": "code",
   "execution_count": 5,
   "metadata": {},
   "outputs": [],
   "source": [
    "def initialize_and_add_intercept(x):\n",
    "    D, N = x.shape[0], x.shape[1]\n",
    "    tmp_params = np.random.rand(D)\n",
    "    params = np.insert(tmp_params, 0, 1).reshape(-1, D+1)*10\n",
    "    x = np.insert(x, 0, np.ones(N)).reshape(-1, N)\n",
    "    #x = np.vstack([np.ones(N),x])\n",
    "    return params, x\n",
    "lr = 1e-10\n",
    "epochs = 50000\n",
    "lamb = 100000"
   ]
  },
  {
   "cell_type": "code",
   "execution_count": 6,
   "metadata": {},
   "outputs": [],
   "source": [
    "def sum_squared_error(X, params, t, lamb=0):\n",
    "    y = np.dot(params, X)\n",
    "    loss =  0.5 * np.sum((y - t)**2)\n",
    "    grads = np.dot((y - t), X.T)\n",
    "    return loss, grads"
   ]
  },
  {
   "cell_type": "code",
   "execution_count": 7,
   "metadata": {},
   "outputs": [],
   "source": [
    "def sum_squared_error_with_L1regularization(X, params, t, lamb=lamb):\n",
    "    loss, grads =  sum_squared_error(X, params, t)\n",
    "    loss += lamb * np.sum(abs(params[:, 1:]))\n",
    "    grads[:, 1:] += lamb * np.sign(params[:, 1:])\n",
    "    return loss, grads"
   ]
  },
  {
   "cell_type": "code",
   "execution_count": 8,
   "metadata": {},
   "outputs": [],
   "source": [
    "def sum_squared_error_with_L2regularization(X, params, t, lamb=lamb):\n",
    "    loss, grads =  sum_squared_error(X, params, t)\n",
    "    loss += lamb * np.sum(params[:, 1:]**2)\n",
    "    grads[:, 1:] += lamb * params[:, 1:]\n",
    "    return loss, grads"
   ]
  },
  {
   "cell_type": "code",
   "execution_count": 9,
   "metadata": {},
   "outputs": [],
   "source": [
    "def multiple_regression_analysis(x, t, epochs, update_function=sum_squared_error, lamb=lamb):\n",
    "    loss_list = []\n",
    "    params, X = initialize_and_add_intercept(x)\n",
    "    for epoch in range(epochs):\n",
    "        loss, grads = update_function(X, params, t, lamb=lamb)\n",
    "        params -= lr*grads\n",
    "        loss_list.append(loss)\n",
    "    return params, loss_list"
   ]
  },
  {
   "cell_type": "markdown",
   "metadata": {},
   "source": [
    "### 正則化なし"
   ]
  },
  {
   "cell_type": "code",
   "execution_count": 10,
   "metadata": {
    "scrolled": false
   },
   "outputs": [
    {
     "name": "stdout",
     "output_type": "stream",
     "text": [
      "パラメータ：\n",
      "[10.  40.   5.   9.2  7.1  4.5  3.8  3.   8.9  9.6  1.8  0.5  8.5  0.3\n",
      "  9.4  1.3  9.9  2.4  1.   4.6  9.9  4.2  2.3  6.2  6.1  0.4  3.6  3.9\n",
      "  4.5  7.   4.5]\n",
      "絶対値の和= 193.0\n",
      "0.1以下の個数： 0 個\n"
     ]
    },
    {
     "data": {
      "text/plain": [
       "<matplotlib.collections.PathCollection at 0x22c7655feb8>"
      ]
     },
     "execution_count": 10,
     "metadata": {},
     "output_type": "execute_result"
    },
    {
     "data": {
      "image/png": "[encoded data removed]",
      "text/plain": [
       "<Figure size 432x288 with 1 Axes>"
      ]
     },
     "metadata": {
      "needs_background": "light"
     },
     "output_type": "display_data"
    }
   ],
   "source": [
    "params,loss_list = multiple_regression_analysis(x, y, epochs, update_function=sum_squared_error)\n",
    "print(\"パラメータ：\")\n",
    "print(np.round(params[0], 1))\n",
    "print(\"絶対値の和=\",round(params[0].sum(), 0))\n",
    "print(\"0.1以下の個数：\", (params[0]<0.1).sum(), \"個\")\n",
    "plt.scatter(range(params.shape[1]), params[0])"
   ]
  },
  {
   "cell_type": "markdown",
   "metadata": {},
   "source": [
    "### L2正則化"
   ]
  },
  {
   "cell_type": "code",
   "execution_count": 11,
   "metadata": {
    "scrolled": false
   },
   "outputs": [
    {
     "name": "stdout",
     "output_type": "stream",
     "text": [
      "パラメータ：\n",
      "[10.  40.   2.1  2.2  1.8  0.4  3.1  2.7  3.2  4.9  2.5  5.3  5.8  2.1\n",
      "  2.2  0.9  5.1  0.2  2.8  0.1  4.   2.7  4.4  0.1  5.   4.   0.9  0.8\n",
      "  6.   1.5  4.1]\n",
      "絶対値の和= 131.0\n",
      "0.1以下の個数： 2 個\n"
     ]
    },
    {
     "data": {
      "text/plain": [
       "<matplotlib.collections.PathCollection at 0x22c762a57b8>"
      ]
     },
     "execution_count": 11,
     "metadata": {},
     "output_type": "execute_result"
    },
    {
     "data": {
      "image/png": "[encoded data removed]",
      "text/plain": [
       "<Figure size 432x288 with 1 Axes>"
      ]
     },
     "metadata": {
      "needs_background": "light"
     },
     "output_type": "display_data"
    }
   ],
   "source": [
    "params,loss_list = multiple_regression_analysis(x, y, epochs, update_function=sum_squared_error_with_L2regularization, lamb=1e5)\n",
    "print(\"パラメータ：\")\n",
    "print(np.round(params[0], 1))\n",
    "print(\"絶対値の和=\",round(params[0].sum(), 0))\n",
    "print(\"0.1以下の個数：\", (params[0]<0.1).sum(), \"個\")\n",
    "plt.scatter(range(params.shape[1]), params[0])"
   ]
  },
  {
   "cell_type": "markdown",
   "metadata": {},
   "source": [
    "### L1正則化"
   ]
  },
  {
   "cell_type": "code",
   "execution_count": 12,
   "metadata": {},
   "outputs": [
    {
     "name": "stdout",
     "output_type": "stream",
     "text": [
      "パラメータ：\n",
      "[10.  40.   0.   0.4  0.8  4.   1.   0.2  0.   0.2  5.   2.5  2.1  4.4\n",
      "  0.9  0.   3.7 -0.  -0.   2.  -0.   1.1  0.   3.7  0.  -0.   1.8 -0.\n",
      " -0.   1.3  4.9]\n",
      "絶対値の和= 90.0\n",
      "0.1以下の個数： 11 個\n"
     ]
    },
    {
     "data": {
      "text/plain": [
       "<matplotlib.collections.PathCollection at 0x22c76709e48>"
      ]
     },
     "execution_count": 12,
     "metadata": {},
     "output_type": "execute_result"
    },
    {
     "data": {
      "image/png": "[encoded data removed]",
      "text/plain": [
       "<Figure size 432x288 with 1 Axes>"
      ]
     },
     "metadata": {
      "needs_background": "light"
     },
     "output_type": "display_data"
    }
   ],
   "source": [
    "#L1正則化\n",
    "params,loss_list = multiple_regression_analysis(x, y, epochs, update_function=sum_squared_error_with_L1regularization, lamb=1e6)\n",
    "print(\"パラメータ：\")\n",
    "print(np.round(params[0], 1))\n",
    "print(\"絶対値の和=\",round(params[0].sum(), 0))\n",
    "print(\"0.1以下の個数：\", (params[0]<0.1).sum(), \"個\")\n",
    "plt.scatter(range(params.shape[1]), params[0])"
   ]
  },
  {
   "cell_type": "markdown",
   "metadata": {},
   "source": [
    "### AICを用いた変数減少法"
   ]
  },
  {
   "cell_type": "code",
   "execution_count": 13,
   "metadata": {
    "scrolled": false
   },
   "outputs": [
    {
     "data": {
      "text/plain": [
       "array([[13515,     1,     1,     1,     0,     0,     0,     0,     0,\n",
       "            0,     1,     0,     0,     1,     0,     0,     0,     0,\n",
       "            0,     0,     1,     0,     1,     1,     0,     0,     0,\n",
       "            1,     0,     1],\n",
       "       [ 9126,     0,     0,     0,     1,     1,     1,     0,     0,\n",
       "            1,     0,     0,     0,     0,     0,     0,     0,     0,\n",
       "            1,     0,     1,     0,     1,     0,     0,     1,     0,\n",
       "            1,     1,     1],\n",
       "       [ 7266,     0,     0,     0,     0,     0,     0,     1,     1,\n",
       "            0,     0,     0,     0,     0,     1,     1,     0,     0,\n",
       "            0,     0,     1,     1,     1,     1,     0,     1,     1,\n",
       "            0,     1,     1],\n",
       "       [ 6222,     0,     0,     0,     0,     0,     0,     0,     0,\n",
       "            1,     1,     0,     0,     0,     0,     0,     0,     0,\n",
       "            0,     0,     0,     0,     0,     0,     1,     0,     0,\n",
       "            0,     1,     1],\n",
       "       [ 2916,     0,     0,     0,     0,     0,     0,     1,     0,\n",
       "            0,     0,     1,     1,     1,     0,     0,     0,     0,\n",
       "            0,     0,     0,     1,     0,     0,     0,     0,     0,\n",
       "            0,     1,     1],\n",
       "       [ 1973,     0,     0,     0,     0,     0,     0,     1,     0,\n",
       "            0,     0,     0,     0,     0,     1,     1,     1,     0,\n",
       "            0,     0,     0,     1,     0,     0,     0,     0,     0,\n",
       "            1,     1,     1],\n",
       "       [ 1974,     0,     0,     0,     0,     0,     0,     0,     0,\n",
       "            0,     0,     0,     0,     0,     0,     1,     0,     1,\n",
       "            1,     1,     0,     0,     1,     1,     1,     0,     0,\n",
       "            0,     1,     1]], dtype=int64)"
      ]
     },
     "execution_count": 13,
     "metadata": {},
     "output_type": "execute_result"
    }
   ],
   "source": [
    "df_aic = df.drop(\"weight\", axis=1)\n",
    "x_aic = df_aic.T.values\n",
    "x_aic"
   ]
  },
  {
   "cell_type": "code",
   "execution_count": 14,
   "metadata": {},
   "outputs": [],
   "source": [
    "# 変数を削除したときのaicの計算\n",
    "def calc_aic(x_aic, y):\n",
    "    val_num = x_aic.shape[1]\n",
    "    result_list = []\n",
    "    aic_array = np.zeros(val_num)\n",
    "    for i in range(val_num):\n",
    "        _x = np.delete(x_aic, i, axis=1)\n",
    "        model = sm.OLS(y, sm.add_constant(_x))\n",
    "        result = model.fit()\n",
    "        result_list.append(result)\n",
    "        aic_array[i] = result.aic\n",
    "    idx = np.argmin(aic_array)\n",
    "    return result_list[idx], np.delete(x_aic, idx, axis=1), idx"
   ]
  },
  {
   "cell_type": "code",
   "execution_count": 15,
   "metadata": {},
   "outputs": [],
   "source": [
    "# aicが下がらなくなるまで変数削除して再計算\n",
    "def step_wise(x_aic, y):\n",
    "    continue_flag = True\n",
    "    model = sm.OLS(y, sm.add_constant(x_aic))\n",
    "    result = model.fit()\n",
    "    aic = result.aic\n",
    "    deleted_idx_list = []\n",
    "    while continue_flag:\n",
    "        tmp_result, x_aic, idx = calc_aic(x_aic, y)\n",
    "        deleted_idx_list.append(idx)\n",
    "        if aic < tmp_result.aic:\n",
    "            continue_flag = False\n",
    "        else:\n",
    "            result = tmp_result\n",
    "            aic = result.aic\n",
    "    return result, x_aic, deleted_idx_list"
   ]
  },
  {
   "cell_type": "code",
   "execution_count": 16,
   "metadata": {
    "scrolled": true
   },
   "outputs": [],
   "source": [
    "# 学習\n",
    "result, x_aic, deleted_idx_list = step_wise(x_aic, y)\n",
    "#print(result.summary())"
   ]
  },
  {
   "cell_type": "code",
   "execution_count": 17,
   "metadata": {},
   "outputs": [
    {
     "data": {
      "text/plain": [
       "array([40.00273539, -0.05202773, -0.05202773, -0.05202773,  4.13763263,\n",
       "        4.13763263,  4.13763263,  3.3757652 , -4.3447866 , -1.5353526 ,\n",
       "       -5.72501295,  4.83511091,  4.83511091,  4.78308318, -1.4593457 ,\n",
       "        3.63563774,  2.88544089,  5.09498345,  5.09498345, -0.2591817 ,\n",
       "        3.3757652 ,  4.83580175,  0.69816912, -0.57800177, -0.20715397,\n",
       "       -4.3447866 ,  6.97104579,  6.93539605,  6.88336833])"
      ]
     },
     "execution_count": 17,
     "metadata": {},
     "output_type": "execute_result"
    }
   ],
   "source": [
    "# パラメータ\n",
    "result.params"
   ]
  },
  {
   "cell_type": "code",
   "execution_count": 18,
   "metadata": {},
   "outputs": [
    {
     "data": {
      "text/plain": [
       "[18, 1]"
      ]
     },
     "execution_count": 18,
     "metadata": {},
     "output_type": "execute_result"
    }
   ],
   "source": [
    "# 削除されたindex\n",
    "deleted_idx_list"
   ]
  },
  {
   "cell_type": "code",
   "execution_count": 19,
   "metadata": {},
   "outputs": [
    {
     "name": "stdout",
     "output_type": "stream",
     "text": [
      "パラメータ：\n",
      "[40.   0.  -0.1 -0.1 -0.1  4.1  4.1  4.1  3.4 -4.3 -1.5 -5.7  4.8  4.8\n",
      "  4.8 -1.5  3.6  2.9  5.1  0.   5.1 -0.3  3.4  4.8  0.7 -0.6 -0.2 -4.3\n",
      "  7.   6.9  6.9]\n",
      "絶対値の和= 98.0\n",
      "0.1以下の個数： 13 個\n"
     ]
    },
    {
     "data": {
      "text/plain": [
       "<matplotlib.collections.PathCollection at 0x22c76634358>"
      ]
     },
     "execution_count": 19,
     "metadata": {},
     "output_type": "execute_result"
    },
    {
     "data": {
      "image/png": "[encoded data removed]",
      "text/plain": [
       "<Figure size 432x288 with 1 Axes>"
      ]
     },
     "metadata": {
      "needs_background": "light"
     },
     "output_type": "display_data"
    }
   ],
   "source": [
    "# 削除された変数の係数を0としたときの結果\n",
    "params = result.params\n",
    "for i in range(len(deleted_idx_list)):\n",
    "    params = np.insert(params, deleted_idx_list[-i], 0) \n",
    "print(\"パラメータ：\")\n",
    "print(np.round(params, 1))\n",
    "print(\"絶対値の和=\",round(params.sum(), 0))\n",
    "print(\"0.1以下の個数：\", (params<0.1).sum(), \"個\")\n",
    "plt.scatter(range(params.shape[0]), params)"
   ]
  },
  {
   "cell_type": "code",
   "execution_count": null,
   "metadata": {},
   "outputs": [],
   "source": []
  }
 ],
 "metadata": {
  "kernelspec": {
   "display_name": "Python 3",
   "language": "python",
   "name": "python3"
  },
  "language_info": {
   "codemirror_mode": {
    "name": "ipython",
    "version": 3
   },
   "file_extension": ".py",
   "mimetype": "text/x-python",
   "name": "python",
   "nbconvert_exporter": "python",
   "pygments_lexer": "ipython3",
   "version": "3.7.3"
  }
 },
 "nbformat": 4,
 "nbformat_minor": 2
}
