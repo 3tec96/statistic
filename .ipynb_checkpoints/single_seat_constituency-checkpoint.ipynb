{
 "cells": [
  {
   "cell_type": "markdown",
   "metadata": {},
   "source": [
    "### 衆議院の小選挙区の当選人数シミュレーション\n",
    "#### 状況を簡単にするために、以下の仮定を置く\n",
    "#### 1. 各小選挙区に各政党の候補者が1人ずつ立候補する。\n",
    "#### 2. 投票者は、あらかじめ指定された確率で、いずれかの政党をランダムに支持するものとする。\n",
    "#### 3. 投票者は、支持政党からの立候補者に投票するものとする。\n",
    "#### 4. 各小選挙区の投票数の格差は最大6倍で、その格差は一様分布に従うとする。"
   ]
  },
  {
   "cell_type": "code",
   "execution_count": 1,
   "metadata": {},
   "outputs": [],
   "source": [
    "import numpy as np\n",
    "import pandas as pd\n",
    "import matplotlib.pyplot as plt\n",
    "import seaborn as sns"
   ]
  },
  {
   "cell_type": "code",
   "execution_count": 2,
   "metadata": {},
   "outputs": [
    {
     "name": "stdout",
     "output_type": "stream",
     "text": [
      "各政党の支持率： [0.21126761 0.20422535 0.1971831  0.07042254 0.06338028 0.05633803\n",
      " 0.04929577 0.04225352 0.03521127 0.02816901 0.02112676 0.01408451\n",
      " 0.00704225]\n"
     ]
    }
   ],
   "source": [
    "# 各政党の支持率\n",
    "supporter_ratio = [30, 29, 28, 10, 9, 8, 7, 6, 5, 4, 3, 2, 1]\n",
    "prob = supporter_ratio / np.array(supporter_ratio).sum()\n",
    "print(prob)"
   ]
  },
  {
   "cell_type": "code",
   "execution_count": 3,
   "metadata": {},
   "outputs": [],
   "source": [
    "# 人口と投票率の設定\n",
    "# 人口1.2億。全世代の人口は等分布。平均寿命85歳、投票いけるのは80歳まで。そのうち50%が投票するとする。\n",
    "population = 12000000 \n",
    "electorate = population*(80-18)/85 \n",
    "voting_rate = 0.5\n",
    "voting_population = int(electorate * voting_rate) "
   ]
  },
  {
   "cell_type": "code",
   "execution_count": 4,
   "metadata": {},
   "outputs": [],
   "source": [
    "# 有権者ごとに投票した政党を確率でランダムに与える\n",
    "N = len(supporter_ratio) # 政党数\n",
    "dice = list(range(N))\n",
    "X =  np.random.choice(a=dice, size=voting_population, p=prob)"
   ]
  },
  {
   "cell_type": "code",
   "execution_count": 5,
   "metadata": {},
   "outputs": [],
   "source": [
    "# 有権者が投票した政党を小選挙区ごとに分割\n",
    "num_of_small_electoral_district = 289 # 小選挙区の数\n",
    "disparity = 6 # 最大格差\n",
    "a = np.random.uniform(1, disparity, num_of_small_electoral_district)\n",
    "eachsize_of_small_electoral_district = voting_population * a / a.sum()\n",
    "cumsum = np.cumsum(eachsize_of_small_electoral_district).astype(int)\n",
    "X_split = np.array_split(X, cumsum[:-1])\n",
    "\n",
    "# 各小選挙区内ごとに支持者の分布は完全にランダム、小選挙区ごとの投票数は均等とするときは以下。\n",
    "# X_split = np.array_split(X, num_of_small_electoral_district)"
   ]
  },
  {
   "cell_type": "code",
   "execution_count": 6,
   "metadata": {},
   "outputs": [],
   "source": [
    "# 小選挙区ごとの結果\n",
    "result = np.zeros(num_of_small_electoral_district)\n",
    "for i in range(len(X_split)):\n",
    "    a = X_split[i]\n",
    "    u, counts = np.unique(a, return_counts=True)\n",
    "    result[i]= np.argmax(counts)\n",
    "# result"
   ]
  },
  {
   "cell_type": "code",
   "execution_count": 7,
   "metadata": {},
   "outputs": [
    {
     "data": {
      "text/plain": [
       "array([262.,  23.,   4.,   0.,   0.,   0.,   0.,   0.,   0.,   0.,   0.,\n",
       "         0.,   0.])"
      ]
     },
     "execution_count": 7,
     "metadata": {},
     "output_type": "execute_result"
    }
   ],
   "source": [
    "# 議席数\n",
    "num_of_seat = np.zeros(N)\n",
    "for i in range(N):\n",
    "    num_of_seat[i] = np.nonzero(result==i)[0].shape[0]\n",
    "num_of_seat"
   ]
  },
  {
   "cell_type": "markdown",
   "metadata": {},
   "source": [
    "#### 支持率21.1%の政党が262議席、20.4%の政党が23議席、19.7%の政党が4議席、他の政党は0議席。\n",
    "#### これがあってるとすると、小選挙区ってマジキチ、、、"
   ]
  },
  {
   "cell_type": "code",
   "execution_count": null,
   "metadata": {},
   "outputs": [],
   "source": []
  }
 ],
 "metadata": {
  "kernelspec": {
   "display_name": "Python 3",
   "language": "python",
   "name": "python3"
  },
  "language_info": {
   "codemirror_mode": {
    "name": "ipython",
    "version": 3
   },
   "file_extension": ".py",
   "mimetype": "text/x-python",
   "name": "python",
   "nbconvert_exporter": "python",
   "pygments_lexer": "ipython3",
   "version": "3.7.3"
  }
 },
 "nbformat": 4,
 "nbformat_minor": 2
}
