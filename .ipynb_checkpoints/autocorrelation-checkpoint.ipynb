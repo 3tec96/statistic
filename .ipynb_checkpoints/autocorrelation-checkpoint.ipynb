{
 "cells": [
  {
   "cell_type": "markdown",
   "metadata": {},
   "source": [
    "## 【目次】 自己相関係数、偏自己相関係数まとめ\n",
    "### 1. 　AR(1)で自己相関、偏自己相関を計算してみる。\n",
    "### 2. 　時系列データ分析のデータを使って計算してみる。（未）"
   ]
  },
  {
   "cell_type": "markdown",
   "metadata": {},
   "source": [
    "## 1. AR(1)の自己相関、偏自己相関を計算してみる"
   ]
  },
  {
   "cell_type": "markdown",
   "metadata": {},
   "source": [
    "### https://stats.biopapyrus.jp/time-series/acf.html"
   ]
  },
  {
   "cell_type": "code",
   "execution_count": 1,
   "metadata": {},
   "outputs": [],
   "source": [
    "import numpy as np\n",
    "import pandas as pd\n",
    "import matplotlib.pyplot as plt\n",
    "import seaborn as sns\n",
    "np.set_printoptions(precision=4)"
   ]
  },
  {
   "cell_type": "markdown",
   "metadata": {},
   "source": [
    "### 1.1 テストデータの作成"
   ]
  },
  {
   "cell_type": "markdown",
   "metadata": {},
   "source": [
    "$\\ Y_t = \\phi_0 + \\phi_1Y_{t-1} + \\epsilon_t$\n",
    "($\\epsilon_t,\\epsilon_{t-1},\\cdots ,\\epsilon_0$は独立で、$\\epsilon_u ～ N(0,\\sigma^2)$)"
   ]
  },
  {
   "cell_type": "code",
   "execution_count": 2,
   "metadata": {
    "scrolled": true
   },
   "outputs": [
    {
     "name": "stdout",
     "output_type": "stream",
     "text": [
      "データ数： (1000,)\n"
     ]
    },
    {
     "data": {
      "text/plain": [
       "<matplotlib.collections.PathCollection at 0x1ea95a2f1d0>"
      ]
     },
     "execution_count": 2,
     "metadata": {},
     "output_type": "execute_result"
    },
    {
     "data": {
      "image/png": "[encoded data removed]",
      "text/plain": [
       "<Figure size 432x288 with 1 Axes>"
      ]
     },
     "metadata": {
      "needs_background": "light"
     },
     "output_type": "display_data"
    }
   ],
   "source": [
    "# テストデータ（AR(1)）\n",
    "\n",
    "# データ生成時の時間総ステップ\n",
    "original_T = 1000 \n",
    "\n",
    "# AR(1)のパラメータ設定\n",
    "phi0 = 0.4\n",
    "phi1 = 0.8\n",
    "mu = 0.\n",
    "sigma = 0.01\n",
    "\n",
    "# データ生成\n",
    "def create_Y(T=original_T, phi0=phi0, phi1=phi1, mu=mu, sigma=sigma):\n",
    "    Y = np.empty(T)\n",
    "    epsilon = np.random.normal(loc=mu, scale=sigma, size=T)\n",
    "    Y[0] = 1. + epsilon[0]\n",
    "    for t in range(1,T):\n",
    "        Y[t] = phi0 + phi1*Y[t-1] + epsilon[t]\n",
    "    return Y\n",
    "original_Y = create_Y()\n",
    "print(\"データ数：\", original_Y.shape)\n",
    "\n",
    "# なんだかよくわからないAR(1)データ完成。プロットしてみる。\n",
    "plt.scatter(range(original_T),original_Y)\n"
   ]
  },
  {
   "cell_type": "markdown",
   "metadata": {},
   "source": [
    "### 1.2 テストデータを使った計算\n"
   ]
  },
  {
   "cell_type": "markdown",
   "metadata": {},
   "source": [
    "### 定常性の条件\n",
    "#### 1. 期待値は時刻に依存しない.すなわち $E(Y_t) = \\mu$.\n",
    "#### 2. 共分散は時刻に依存しない.すなわち $Cov(Y_t,Y_{t-h})$はhのみに依存する."
   ]
  },
  {
   "cell_type": "markdown",
   "metadata": {},
   "source": [
    "### 1.2.1 期待値"
   ]
  },
  {
   "cell_type": "markdown",
   "metadata": {},
   "source": [
    "$$\\begin{align*} Y_t &= \\phi_0 + \\phi_1Y_{t-1} + \\epsilon_t\\\\\n",
    "&= \\phi_0(1 + \\phi_1^1 + \\cdots + \\phi_1^{t-2}) + \\phi_1^{t-1}Y_1 \n",
    "+ \\phi_1^{t-2}\\epsilon_2 + \\cdots + \\phi_1^1\\epsilon_{t-1} + \\epsilon_t\\end{align*}$$\n",
    "より"
   ]
  },
  {
   "cell_type": "markdown",
   "metadata": {},
   "source": [
    "$$\\begin{align*} E(Y_t) &= E(\\phi_0 + \\phi_1Y_{t-1} + \\epsilon_t)\\\\\n",
    "&= E(\\phi_0(1 + \\phi_1^1 + \\cdots + \\phi_1^{t-2}))\n",
    "+ E(\\phi_1^{t-1}Y_1)\n",
    "+ E(\\phi_1^{t-2}\\epsilon_2 + \\cdots + \\phi_1^1\\epsilon_{t-1} + \\epsilon_t)\\\\\n",
    "&= \\phi_0 \\frac{1-\\phi_1^{t-1}}{1-\\phi_1}+ \\phi_1^{t-1}\n",
    "\\end{align*}$$"
   ]
  },
  {
   "cell_type": "markdown",
   "metadata": {},
   "source": [
    "この期待値が時刻によらない値となるためにはtが十分大きい必要がある。（たぶん）\n",
    "今回のテストデータでは、時刻0付近ではかなり値が変動していることから、最初のほうのタイムステップの値を使わないこととする。\n",
    "また、lagがtime step数に対して大きくなるとデータ数が減るせいか、結果がかなり暴れるので、ラグの上限値も別途決めることとする。"
   ]
  },
  {
   "cell_type": "code",
   "execution_count": 3,
   "metadata": {},
   "outputs": [
    {
     "data": {
      "text/plain": [
       "<matplotlib.collections.PathCollection at 0x1ea95acd630>"
      ]
     },
     "execution_count": 3,
     "metadata": {},
     "output_type": "execute_result"
    },
    {
     "data": {
      "image/png": "[encoded data removed]",
      "text/plain": [
       "<Figure size 432x288 with 1 Axes>"
      ]
     },
     "metadata": {
      "needs_background": "light"
     },
     "output_type": "display_data"
    }
   ],
   "source": [
    "# 適当なところでデータを切断して使う。\n",
    "first = 200 # firstより前の値は使わない\n",
    "last = original_T\n",
    "Y = original_Y[first:]\n",
    "T = last - first # データ数\n",
    "max_lag = 100 # lag上限値\n",
    "\n",
    "plt.scatter(range(len(Y)), Y)"
   ]
  },
  {
   "cell_type": "code",
   "execution_count": 4,
   "metadata": {},
   "outputs": [
    {
     "name": "stdout",
     "output_type": "stream",
     "text": [
      "サンプル： 1.9972953348827047\n",
      "理論値　： 2.0000000000000004\n"
     ]
    }
   ],
   "source": [
    "print(\"サンプル：\", Y.mean())\n",
    "print(\"理論値　：\", phi0 * (1-phi1**float(T-1)) / (1-phi1) + phi1**float(T-1))"
   ]
  },
  {
   "cell_type": "markdown",
   "metadata": {},
   "source": [
    "### 1.2.2 自己共分散"
   ]
  },
  {
   "cell_type": "markdown",
   "metadata": {},
   "source": [
    "#### サンプルデータから計算"
   ]
  },
  {
   "cell_type": "code",
   "execution_count": 5,
   "metadata": {
    "scrolled": false
   },
   "outputs": [],
   "source": [
    "sample_cov = np.empty(max_lag)\n",
    "for lag in range(max_lag):\n",
    "    sample_cov[lag] = np.cov(Y[:T-lag], Y[lag:], ddof=1)[0, 1] # 分散共分散行列から共分散のみ取り出す\n",
    "#print(\"サンプル：\")\n",
    "#print(sample_cov)"
   ]
  },
  {
   "cell_type": "markdown",
   "metadata": {},
   "source": [
    "#### 理論式から計算"
   ]
  },
  {
   "cell_type": "markdown",
   "metadata": {},
   "source": [
    "$$\\begin{align*}\n",
    "&Cov(Y_t,Y_{t-h})\\\\\n",
    "&= Cov(\\phi_0 + \\phi_1Y_{t-1} + \\epsilon_t, Y_{t-h})\\\\\n",
    "&= Cov(\\phi_0(1 + \\phi_1^1 + \\cdots + \\phi_1^{t-2}) + \\phi_1^{t-1}Y_1 \n",
    "+ \\phi_1^{t-2}\\epsilon_2 + \\cdots + \\phi_1^1\\epsilon_{t-1} + \\epsilon_t,\\phi_0(1 + \\phi_1^1 + \\cdots + \\phi_1^{t-2-h}) + \\phi_1^{t-1-h}Y_1 \n",
    "+ \\phi_1^{t-2-h}\\epsilon_2 + \\cdots + \\phi_1^1\\epsilon_{t-1-h} + \\epsilon_{t-h})\\\\\n",
    "&= Cov(\\phi_1^{t-1}\\epsilon_1 + \\phi_1^{t-2}\\epsilon_2 + \\cdots + \\phi_1^1\\epsilon_{t-1} + \\epsilon_t ,\\phi_1^{t-1-h}\\epsilon_1 + \\phi_1^{t-2-h}\\epsilon_2 + \\cdots + \\phi_1^1\\epsilon_{t-1-h} + \\epsilon_{t-h})\\\\\n",
    "&= \\phi_1^{2t-h-2}V(\\epsilon_1) + \\phi_1^{2t-h-4}V(\\epsilon_2) + \\cdots + \\phi_1^{h+1}V(\\epsilon_{t-h-1}) + \\phi_1^{h}V(\\epsilon_{t-h})\\\\\n",
    "&= \\phi_1^{2t-h-2}\\sigma^2 + \\phi_1^{2t-h-4}\\sigma^2 + \\cdots + \\phi_1^{h+2}\\sigma^2 + \\phi_1^{h}\\sigma^2\\\\\n",
    "&= \\frac{\\sigma^2\\phi_1^h(1-\\phi_1^{2(t-h)})}{1-\\phi_1^2}\\\\\n",
    "\\end{align*}$$"
   ]
  },
  {
   "cell_type": "code",
   "execution_count": 6,
   "metadata": {},
   "outputs": [],
   "source": [
    "lag = np.arange(max_lag, dtype=float)\n",
    "theoretical_cov = sigma**2 / (1-phi1**2) * (phi1**lag) * (1-phi1**(2*lag[::-1]))\n",
    "#print(\"理論値　：\")\n",
    "#print(theoretical_cov)"
   ]
  },
  {
   "cell_type": "markdown",
   "metadata": {},
   "source": [
    "#### 共分散の計算結果のプロット"
   ]
  },
  {
   "cell_type": "code",
   "execution_count": 7,
   "metadata": {},
   "outputs": [
    {
     "data": {
      "image/png": "[encoded data removed]",
      "text/plain": [
       "<Figure size 1080x360 with 2 Axes>"
      ]
     },
     "metadata": {
      "needs_background": "light"
     },
     "output_type": "display_data"
    }
   ],
   "source": [
    "plt.figure(figsize=(15, 5))\n",
    "titles = [\"sample_cov\",\"theoretical_cov\"]\n",
    "plot_val = [sample_cov, theoretical_cov]\n",
    "for i in range(len(titles)):\n",
    "    plt.subplot(1, 2, i+1)\n",
    "    plt.bar(range(max_lag), plot_val[i])\n",
    "    plt.title(titles[i])\n",
    "    plt.xlabel('lag')\n",
    "    plt.ylabel('covariance')\n",
    "    plt.xlim([0, max_lag])\n",
    "    plt.ylim(-5e-4, 5e-4)"
   ]
  },
  {
   "cell_type": "markdown",
   "metadata": {},
   "source": [
    "### 1.2.3 自己相関（正規化する）"
   ]
  },
  {
   "cell_type": "markdown",
   "metadata": {},
   "source": [
    "#### サンプルデータから計算"
   ]
  },
  {
   "cell_type": "code",
   "execution_count": 8,
   "metadata": {
    "scrolled": true
   },
   "outputs": [],
   "source": [
    "sample_rho = np.empty(max_lag)\n",
    "for lag in range(max_lag):\n",
    "    var1 = np.var(Y[lag:], ddof=1)\n",
    "    var2 = np.var(Y[:T-lag], ddof=1)\n",
    "    sample_rho[lag] = sample_cov[lag] / (var1*var2)**0.5\n",
    "#plt.bar(range(max_lag),sample_rho)"
   ]
  },
  {
   "cell_type": "code",
   "execution_count": 9,
   "metadata": {},
   "outputs": [],
   "source": [
    "# 検算\n",
    "# sample_corrcoef = np.empty(max_lag)\n",
    "# for lag in range(max_lag):\n",
    "#     sample_corrcoef[lag] = np.corrcoef(Y[:T-lag], Y[lag:], ddof=1)[0, 1]\n",
    "# plt.bar(range(max_lag), sample_corrcoef)"
   ]
  },
  {
   "cell_type": "markdown",
   "metadata": {},
   "source": [
    "#### 理論式から計算"
   ]
  },
  {
   "cell_type": "markdown",
   "metadata": {},
   "source": [
    "$$\\begin{align*} V(Y_t) &= V(\\phi_0 + \\phi_1Y_{t-1} + \\epsilon_t)\\\\\n",
    "&= V(\\phi_0(1 + \\phi_1^1 + \\cdots + \\phi_1^{t-2})\n",
    "+ \\phi_1^{t-1}Y_1\n",
    "+ \\phi_1^{t-2}\\epsilon_2 + \\cdots + \\phi_1^1\\epsilon_{t-1} + \\epsilon_t)\\\\\n",
    "&= V(\\phi_1^{t-1}\\epsilon_1) + V(\\phi_1^{t-2}\\epsilon_2) + \\cdots + V(\\phi_1^1\\epsilon_{t-1}) + V(\\epsilon_t)\\\\\n",
    "&=  \\frac{\\sigma^2(1-\\phi_1^{2t})}{1-\\phi_1^2}\n",
    "\\end{align*}$$"
   ]
  },
  {
   "cell_type": "code",
   "execution_count": 10,
   "metadata": {},
   "outputs": [],
   "source": [
    "theoretical_var = sigma**2 / (1-phi1**2) # t→∞を仮定した値\n",
    "theoretical_rho = np.empty(max_lag)\n",
    "for lag in range(max_lag):\n",
    "    theoretical_rho[lag] = theoretical_cov[lag] / theoretical_var\n",
    "#plt.bar(range(max_lag), theoretical_rho)"
   ]
  },
  {
   "cell_type": "markdown",
   "metadata": {},
   "source": [
    "#### 自己相関係数の計算結果のプロット"
   ]
  },
  {
   "cell_type": "code",
   "execution_count": 11,
   "metadata": {},
   "outputs": [
    {
     "data": {
      "image/png": "[encoded data removed]",
      "text/plain": [
       "<Figure size 1080x360 with 2 Axes>"
      ]
     },
     "metadata": {
      "needs_background": "light"
     },
     "output_type": "display_data"
    }
   ],
   "source": [
    "plt.figure(figsize=(15, 5))\n",
    "titles = [\"sample_rho\",\"theoretical_rho\"]\n",
    "plot_val = [sample_rho, theoretical_rho]\n",
    "for i in range(len(titles)):\n",
    "    plt.subplot(1, 2, i+1)\n",
    "    plt.bar(range(max_lag), plot_val[i])\n",
    "    plt.title(titles[i])\n",
    "    plt.xlabel('lag')\n",
    "    plt.ylabel('correlation_coefficient')\n",
    "    plt.xlim([0, max_lag])\n",
    "    plt.ylim(-1,1)"
   ]
  },
  {
   "cell_type": "markdown",
   "metadata": {},
   "source": [
    "### 1.2.4 偏自己相関係数"
   ]
  },
  {
   "cell_type": "code",
   "execution_count": 12,
   "metadata": {},
   "outputs": [
    {
     "name": "stdout",
     "output_type": "stream",
     "text": [
      "(100,)\n",
      "(100,)\n"
     ]
    }
   ],
   "source": [
    "# データの形の確認\n",
    "print(sample_rho.shape)\n",
    "print(theoretical_rho.shape)"
   ]
  },
  {
   "cell_type": "markdown",
   "metadata": {},
   "source": [
    "#### 偏自己相関係数は下記を満たす$\\phi$として計算できる\n",
    "$$\n",
    "\\left[\\begin{array}{ccc}\n",
    "1 & \\rho(1) & \\cdots & \\rho(h-1) \\\\\n",
    "\\rho(1) & 1 & \\cdots & \\rho(h-2) \\\\\n",
    "\\vdots & \\vdots & \\ddots & \\vdots \\\\\n",
    "\\rho(h-1) & \\rho(h-2) & \\cdots & 1 \\\\\n",
    "\\end{array}\\right]\n",
    "\\left[\\begin{array}{ccc}\n",
    "\\phi_1  \\\\\n",
    "\\phi_2 \\\\\n",
    "\\vdots \\\\\n",
    "\\phi_h \\\\\n",
    "\\end{array}\\right]\n",
    "=\n",
    "\\left[\\begin{array}{ccc}\n",
    "\\rho(1)  \\\\\n",
    "\\rho(2) \\\\\n",
    "\\vdots \\\\\n",
    "\\rho(h) \\\\\n",
    "\\end{array}\\right]\n",
    "$$"
   ]
  },
  {
   "cell_type": "code",
   "execution_count": 13,
   "metadata": {},
   "outputs": [
    {
     "name": "stdout",
     "output_type": "stream",
     "text": [
      "******************************サンプル値**************************************************\n",
      "行列\n",
      "[[ 1.      0.8166  0.6654 ... -0.1152 -0.1083 -0.1203]\n",
      " [ 0.8166  1.      0.8166 ... -0.1372 -0.1152 -0.1083]\n",
      " [ 0.6654  0.8166  1.     ... -0.1441 -0.1372 -0.1152]\n",
      " ...\n",
      " [-0.1152 -0.1372 -0.1441 ...  1.      0.8166  0.6654]\n",
      " [-0.1083 -0.1152 -0.1372 ...  0.8166  1.      0.8166]\n",
      " [-0.1203 -0.1083 -0.1152 ...  0.6654  0.8166  1.    ]]\n",
      "偏相関係数\n",
      "[ 8.0694e-01 -1.3110e-02  7.6845e-02 -7.1976e-02  1.4739e-02 -4.0372e-02\n",
      "  6.5230e-02  1.2526e-02 -3.5587e-02 -5.2599e-03 -3.1017e-05 -1.6310e-02\n",
      " -8.6811e-02  6.7381e-02 -9.3433e-03  7.6026e-02  1.7757e-02 -3.9977e-02\n",
      " -2.5446e-02  2.8831e-03  5.0642e-02  2.3984e-02 -4.1209e-02 -2.2848e-02\n",
      " -2.6057e-02 -8.1366e-05  8.5248e-02  1.8585e-02 -9.4919e-03 -1.6253e-02\n",
      " -1.3314e-02 -1.6218e-02  2.8207e-02  2.0027e-02 -4.7973e-02 -3.2904e-02\n",
      "  8.8959e-02 -1.2913e-02  2.8770e-02 -5.4860e-02  6.0404e-02 -1.6546e-02\n",
      "  4.0352e-02 -4.6729e-02 -3.0482e-02 -5.8389e-02  4.2881e-02  4.2405e-02\n",
      "  4.2560e-02 -9.6322e-02  5.3478e-02 -5.0172e-02  1.9781e-02 -1.2440e-02\n",
      "  1.7135e-03 -3.2490e-02  9.4103e-02 -3.1835e-02 -8.3551e-02 -2.4726e-02\n",
      "  6.1734e-02 -3.6933e-02  3.2709e-02  7.3293e-03 -2.1778e-02  2.0410e-02\n",
      " -2.8013e-02  9.0172e-02 -5.9828e-02  2.8454e-02 -4.4944e-02  9.2861e-03\n",
      " -5.9072e-03 -6.5861e-03  5.3099e-03  2.6496e-02 -9.3939e-03 -5.5955e-02\n",
      "  6.6783e-02 -6.9777e-02  8.4825e-02 -9.3128e-02  1.2099e-01 -5.1485e-02\n",
      " -8.0553e-02  2.8710e-02  3.5289e-02 -1.0088e-02  2.1967e-02 -1.6852e-02\n",
      " -3.3583e-02  2.0611e-02 -3.9637e-02  5.1116e-02 -6.2550e-02  7.7616e-02\n",
      " -2.0127e-03 -7.5049e-02  2.7485e-02]\n",
      "******************************理論値**************************************************\n",
      "行列\n",
      "[[1.0000e+00 8.0000e-01 6.4000e-01 ... 3.6695e-10 2.3490e-10 1.1458e-10]\n",
      " [8.0000e-01 1.0000e+00 8.0000e-01 ... 5.1736e-10 3.6695e-10 2.3490e-10]\n",
      " [6.4000e-01 8.0000e-01 1.0000e+00 ... 6.9363e-10 5.1736e-10 3.6695e-10]\n",
      " ...\n",
      " [3.6695e-10 5.1736e-10 6.9363e-10 ... 1.0000e+00 8.0000e-01 6.4000e-01]\n",
      " [2.3490e-10 3.6695e-10 5.1736e-10 ... 8.0000e-01 1.0000e+00 8.0000e-01]\n",
      " [1.1458e-10 2.3490e-10 3.6695e-10 ... 6.4000e-01 8.0000e-01 1.0000e+00]]\n",
      "偏相関係数\n",
      "[ 8.0000e-01 -2.2204e-16  4.4409e-16 -2.2204e-16  0.0000e+00  2.2204e-16\n",
      " -1.1102e-16  1.1102e-16 -1.1102e-16  8.3267e-17  0.0000e+00  5.5511e-17\n",
      " -1.1102e-16  2.7756e-17 -5.5511e-17 -7.6328e-17  5.5511e-17 -2.7756e-17\n",
      "  0.0000e+00  6.9389e-18  3.4694e-18  5.2042e-18  3.4694e-18  3.4694e-18\n",
      " -5.2042e-18  4.3368e-18 -8.6736e-19  0.0000e+00 -8.6736e-19 -8.6736e-19\n",
      " -4.3368e-19  2.1684e-19 -1.7347e-18  1.6263e-18 -8.6736e-19  0.0000e+00\n",
      "  0.0000e+00 -3.2526e-19  3.2526e-19 -2.9816e-19  1.0842e-19 -1.0842e-19\n",
      " -2.7105e-20  4.0658e-20 -5.4210e-20 -4.0658e-20  0.0000e+00 -4.0658e-20\n",
      "  2.7105e-20 -2.3717e-20 -6.7763e-21  2.0329e-20 -2.7105e-20  8.4703e-21\n",
      "  0.0000e+00 -6.7763e-21  5.0822e-21 -1.6941e-21  1.6941e-21 -4.2352e-22\n",
      "  8.4703e-22  4.2352e-22 -8.4703e-22 -2.1176e-22 -2.1176e-22 -8.4703e-22\n",
      "  3.1764e-22  0.0000e+00 -1.0588e-22 -2.6470e-22  5.2940e-23  7.9409e-23\n",
      " -2.6470e-23  1.3235e-22 -5.2940e-23  0.0000e+00  0.0000e+00  6.6174e-24\n",
      "  0.0000e+00 -2.6470e-23  2.6470e-23 -9.9262e-24  9.9262e-24  4.9631e-24\n",
      "  9.9262e-24 -8.2718e-24  1.6544e-24 -8.2718e-25  1.6544e-24 -8.2718e-25\n",
      "  4.1359e-24 -2.0680e-24  1.6544e-24  0.0000e+00  6.2039e-25 -5.1699e-25\n",
      " -3.1019e-25  2.5054e-25 -9.1667e-11]\n"
     ]
    }
   ],
   "source": [
    "# 上の式の左辺の行列と偏相関係数の定義\n",
    "rho_list = [sample_rho, theoretical_rho]\n",
    "Matrix_list = [np.eye(max_lag-1), np.eye(max_lag-1)] # 対角成分1で初期化\n",
    "phi_list = []\n",
    "\n",
    "# 偏相関係数の計算\n",
    "for i in range(len(rho_list)):\n",
    "    for lag in range(max_lag-1):\n",
    "        Matrix_list[i][lag+1:, lag] = rho_list[i][1:max_lag-lag-1]\n",
    "        Matrix_list[i][lag, lag+1:] = rho_list[i][1:max_lag-lag-1]\n",
    "    phi_list.append( np.dot(np.linalg.inv(Matrix_list[i]), rho_list[i][1:]) ) # lag1以上について計算\n",
    "\n",
    "# 値の表示\n",
    "for i in range(len(rho_list)):\n",
    "    if i == 0:\n",
    "        print(\"*\"*30 + \"サンプル値\" + \"*\"*50)\n",
    "    else:\n",
    "        print(\"*\"*30 + \"理論値\" + \"*\"*50)\n",
    "    print(\"行列\")\n",
    "    print(Matrix_list[i])\n",
    "    print(\"偏相関係数\")\n",
    "    print(phi_list[i])"
   ]
  },
  {
   "cell_type": "code",
   "execution_count": 14,
   "metadata": {},
   "outputs": [
    {
     "data": {
      "image/png": "[encoded data removed]",
      "text/plain": [
       "<Figure size 1080x360 with 2 Axes>"
      ]
     },
     "metadata": {
      "needs_background": "light"
     },
     "output_type": "display_data"
    }
   ],
   "source": [
    "plt.figure(figsize=(15, 5))\n",
    "titles = [\"sample_phi\",\"theoretical_phi\"]\n",
    "plot_val = phi_list\n",
    "for i in range(len(titles)):\n",
    "    plt.subplot(1, 2, i+1)\n",
    "    plt.bar(range(1, plot_val[i].shape[0]+1), plot_val[i])\n",
    "    plt.title(titles[i])\n",
    "    plt.xlabel('lag')\n",
    "    plt.ylabel('particial_correlation_coefficient')\n",
    "    plt.xlim([0, max_lag])\n",
    "    plt.ylim(-1,1)"
   ]
  },
  {
   "cell_type": "markdown",
   "metadata": {},
   "source": [
    "#### AR(1)なので、$\\rho(1)$のみ相関を持っているのは、たぶん正しい。"
   ]
  },
  {
   "cell_type": "markdown",
   "metadata": {},
   "source": [
    "#### あとできることといえば、\n",
    "$$\n",
    "\\rho_{YZ,X} = \\frac{\\rho_{YZ}-\\rho_{XY}\\rho_{XZ}}{sqrt(1-\\rho_{XY}^2)sqrt(1-\\rho_{XZ}^2)}\\\\\n",
    "$$\n",
    "#### と一致するかどうか確認したい。"
   ]
  },
  {
   "cell_type": "markdown",
   "metadata": {},
   "source": [
    "## 2. 時系列データ分析のデータを使ってみる。"
   ]
  },
  {
   "cell_type": "code",
   "execution_count": null,
   "metadata": {},
   "outputs": [],
   "source": []
  }
 ],
 "metadata": {
  "kernelspec": {
   "display_name": "Python 3",
   "language": "python",
   "name": "python3"
  },
  "language_info": {
   "codemirror_mode": {
    "name": "ipython",
    "version": 3
   },
   "file_extension": ".py",
   "mimetype": "text/x-python",
   "name": "python",
   "nbconvert_exporter": "python",
   "pygments_lexer": "ipython3",
   "version": "3.7.3"
  }
 },
 "nbformat": 4,
 "nbformat_minor": 2
}
