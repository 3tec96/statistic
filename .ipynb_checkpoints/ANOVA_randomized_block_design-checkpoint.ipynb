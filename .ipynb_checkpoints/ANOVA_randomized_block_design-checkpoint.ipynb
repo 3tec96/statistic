{
 "cells": [
  {
   "cell_type": "code",
   "execution_count": 1,
   "metadata": {},
   "outputs": [],
   "source": [
    "import numpy as np\n",
    "import pandas as pd\n",
    "import matplotlib.pyplot as plt\n",
    "import scipy.stats as st"
   ]
  },
  {
   "cell_type": "markdown",
   "metadata": {},
   "source": [
    "### 参考URL\n",
    "### http://lab.sdm.keio.ac.jp/ogi/shibaura/ed10-1213.pdf"
   ]
  },
  {
   "cell_type": "markdown",
   "metadata": {},
   "source": [
    "## 1因子実験の乱塊法"
   ]
  },
  {
   "cell_type": "code",
   "execution_count": 2,
   "metadata": {},
   "outputs": [
    {
     "data": {
      "text/html": [
       "<div>\n",
       "<style scoped>\n",
       "    .dataframe tbody tr th:only-of-type {\n",
       "        vertical-align: middle;\n",
       "    }\n",
       "\n",
       "    .dataframe tbody tr th {\n",
       "        vertical-align: top;\n",
       "    }\n",
       "\n",
       "    .dataframe thead th {\n",
       "        text-align: right;\n",
       "    }\n",
       "</style>\n",
       "<table border=\"1\" class=\"dataframe\">\n",
       "  <thead>\n",
       "    <tr style=\"text-align: right;\">\n",
       "      <th></th>\n",
       "      <th>R1</th>\n",
       "      <th>R2</th>\n",
       "      <th>R3</th>\n",
       "      <th>R4</th>\n",
       "    </tr>\n",
       "  </thead>\n",
       "  <tbody>\n",
       "    <tr>\n",
       "      <th>A1</th>\n",
       "      <td>2.75</td>\n",
       "      <td>3.10</td>\n",
       "      <td>2.62</td>\n",
       "      <td>2.41</td>\n",
       "    </tr>\n",
       "    <tr>\n",
       "      <th>A2</th>\n",
       "      <td>2.83</td>\n",
       "      <td>3.16</td>\n",
       "      <td>2.54</td>\n",
       "      <td>2.45</td>\n",
       "    </tr>\n",
       "    <tr>\n",
       "      <th>A3</th>\n",
       "      <td>2.67</td>\n",
       "      <td>2.80</td>\n",
       "      <td>2.43</td>\n",
       "      <td>2.23</td>\n",
       "    </tr>\n",
       "  </tbody>\n",
       "</table>\n",
       "</div>"
      ],
      "text/plain": [
       "      R1    R2    R3    R4\n",
       "A1  2.75  3.10  2.62  2.41\n",
       "A2  2.83  3.16  2.54  2.45\n",
       "A3  2.67  2.80  2.43  2.23"
      ]
     },
     "execution_count": 2,
     "metadata": {},
     "output_type": "execute_result"
    }
   ],
   "source": [
    "df = pd.read_csv(\"./data/strength1.csv\", index_col=0)\n",
    "df"
   ]
  },
  {
   "cell_type": "markdown",
   "metadata": {},
   "source": [
    "### 構造式\n",
    "$\n",
    "x_{ij} = \\mu + \\alpha_{i} + \\gamma_{j} + \\epsilon_{ij}\n",
    "$\n",
    "#### A：反応温度 , R：ブロック因子\n",
    "#### 因子Aとブロック因子Rとの交互作用$(\\alpha\\gamma)_{ij}$は考えない。（A×Rは実験誤差と考える。）"
   ]
  },
  {
   "cell_type": "markdown",
   "metadata": {},
   "source": [
    "#### 平方和の分解\n",
    "$\n",
    "S_{T} = S_{A} + S_{R} + S_{E} \n",
    "$"
   ]
  },
  {
   "cell_type": "code",
   "execution_count": 3,
   "metadata": {},
   "outputs": [
    {
     "data": {
      "text/plain": [
       "array([[2.75, 3.1 , 2.62, 2.41],\n",
       "       [2.83, 3.16, 2.54, 2.45],\n",
       "       [2.67, 2.8 , 2.43, 2.23]])"
      ]
     },
     "execution_count": 3,
     "metadata": {},
     "output_type": "execute_result"
    }
   ],
   "source": [
    "#np.arrayへ変換\n",
    "arr = df.values\n",
    "arr"
   ]
  },
  {
   "cell_type": "code",
   "execution_count": 4,
   "metadata": {},
   "outputs": [
    {
     "name": "stdout",
     "output_type": "stream",
     "text": [
      " a: 3  r: 4\n",
      "mean_a.shape (3,)\n",
      "mean_r.shape (4,)\n",
      "mean.shape ()\n"
     ]
    }
   ],
   "source": [
    "# 水準の数と平均\n",
    "a = arr.shape[0]\n",
    "r = arr.shape[1]\n",
    "mean_a = arr.mean(axis=1) # 水準ごとの平均\n",
    "mean_r = arr.mean(axis=0) # ブロックごとの平均\n",
    "mean = arr.mean() # 全部の平均\n",
    "print(\" a:\", a ,\" r:\", r)\n",
    "print(\"mean_a.shape\", mean_a.shape)\n",
    "print(\"mean_r.shape\", mean_r.shape)\n",
    "print(\"mean.shape\", mean.shape)"
   ]
  },
  {
   "cell_type": "code",
   "execution_count": 5,
   "metadata": {},
   "outputs": [
    {
     "name": "stdout",
     "output_type": "stream",
     "text": [
      " Sa: 0.10791666666666642  Sr: 0.7274249999999993  Se: 0.024950000000000062\n"
     ]
    }
   ],
   "source": [
    "#平方和\n",
    "Sa = r * ((mean_a - mean)**2).sum()\n",
    "Sr = a * ((mean_r - mean)**2).sum()\n",
    "Se = ((arr - mean_a[:, np.newaxis] - mean_r[np.newaxis, :] + mean)**2).sum()\n",
    "print(\" Sa:\", Sa, \" Sr:\", Sr, \" Se:\", Se)"
   ]
  },
  {
   "cell_type": "code",
   "execution_count": 6,
   "metadata": {},
   "outputs": [
    {
     "name": "stdout",
     "output_type": "stream",
     "text": [
      " phi_a: 2  phi_r: 3  phi_e: 6\n"
     ]
    }
   ],
   "source": [
    "#自由度\n",
    "phi_a = a-1\n",
    "phi_r = r-1\n",
    "phi_e = a*r - a - r + 1 # ar -1 -(a-1) -(r-1)のイメージ？\n",
    "print(\" phi_a:\", round(phi_a, 2), \" phi_r:\", round(phi_r, 2), \" phi_e:\", round(phi_e, 2))"
   ]
  },
  {
   "cell_type": "code",
   "execution_count": 7,
   "metadata": {},
   "outputs": [
    {
     "name": "stdout",
     "output_type": "stream",
     "text": [
      " Va: 0.054  Vr: 0.2425  Ve: 0.0042\n"
     ]
    }
   ],
   "source": [
    "#平均変動\n",
    "Va = Sa/phi_a\n",
    "Vr = Sr/phi_r\n",
    "Ve = Se/phi_e\n",
    "print(\" Va:\", round(Va, 4), \" Vr:\", round(Vr, 4), \" Ve:\", round(Ve, 4))"
   ]
  },
  {
   "cell_type": "code",
   "execution_count": 8,
   "metadata": {},
   "outputs": [
    {
     "name": "stdout",
     "output_type": "stream",
     "text": [
      " Fa: 12.976  Fr: 58.3106\n"
     ]
    }
   ],
   "source": [
    "#F値\n",
    "Fa = Va/Ve\n",
    "Fr = Vr/Ve\n",
    "print(\" Fa:\", round(Fa, 4), \" Fr:\", round(Fr, 4))"
   ]
  },
  {
   "cell_type": "code",
   "execution_count": 9,
   "metadata": {},
   "outputs": [
    {
     "name": "stdout",
     "output_type": "stream",
     "text": [
      "A:自由度( 2 , 6 )のF分布上側 5.0 %点 5.14\n",
      "B:自由度( 3 , 6 )のF分布上側 5.0 %点 4.76\n"
     ]
    }
   ],
   "source": [
    "alpha = 0.05\n",
    "print(\"A:自由度(\", phi_a, \",\", phi_e, \")のF分布上側\", alpha*100, \"%点\", round(st.f.ppf(1-alpha, phi_a, phi_e), 2))\n",
    "print(\"B:自由度(\", phi_r, \",\", phi_e, \")のF分布上側\", alpha*100, \"%点\", round(st.f.ppf(1-alpha, phi_r, phi_e), 2))"
   ]
  },
  {
   "cell_type": "markdown",
   "metadata": {},
   "source": [
    "### つまり、水準Aは有意。実験条件はブロック間で有意。"
   ]
  },
  {
   "cell_type": "code",
   "execution_count": null,
   "metadata": {},
   "outputs": [],
   "source": []
  }
 ],
 "metadata": {
  "kernelspec": {
   "display_name": "Python 3",
   "language": "python",
   "name": "python3"
  },
  "language_info": {
   "codemirror_mode": {
    "name": "ipython",
    "version": 3
   },
   "file_extension": ".py",
   "mimetype": "text/x-python",
   "name": "python",
   "nbconvert_exporter": "python",
   "pygments_lexer": "ipython3",
   "version": "3.7.3"
  }
 },
 "nbformat": 4,
 "nbformat_minor": 2
}
