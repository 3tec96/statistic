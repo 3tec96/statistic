{
 "cells": [
  {
   "cell_type": "markdown",
   "metadata": {},
   "source": [
    "# 共分散分析（Analysis of Covariance）\n",
    "## 1. データの作成\n",
    "## 2. 普通に検定（等分散性の検定→welchの検定）\n",
    "## 3. 共変量の影響排除（回帰の同質性の検定→共分散分析、一元配置分散分析）"
   ]
  },
  {
   "cell_type": "markdown",
   "metadata": {},
   "source": [
    "### https://best-biostatistics.com/correlation_regression/ancova.html"
   ]
  },
  {
   "cell_type": "code",
   "execution_count": 1,
   "metadata": {},
   "outputs": [],
   "source": [
    "import numpy as np\n",
    "import pandas as pd\n",
    "import matplotlib.pyplot as plt\n",
    "#np.set_printoptions(precision=4)\n",
    "import scipy.stats as st"
   ]
  },
  {
   "cell_type": "markdown",
   "metadata": {},
   "source": [
    "## 1. データの作成"
   ]
  },
  {
   "cell_type": "markdown",
   "metadata": {},
   "source": [
    "### 平均年収データ。全体では会社１、２であまり差がないが、同じ年齢で比べると明らかに差がある、というデータを作成。"
   ]
  },
  {
   "cell_type": "code",
   "execution_count": 2,
   "metadata": {
    "scrolled": true
   },
   "outputs": [
    {
     "name": "stdout",
     "output_type": "stream",
     "text": [
      "会社１の平均年収： 709.59 円\n",
      "会社２の平均年収： 650.04 円\n"
     ]
    }
   ],
   "source": [
    "# xi：年齢 , yi：年収\n",
    "x1 = np.random.randint(22, 60, 100)\n",
    "x2 = np.random.randint(22, 40, 50)\n",
    "y1 = x1*10 + 300 + np.random.randint(0, 10, 100)\n",
    "y2 = x2*10 + 350 + np.random.randint(0, 10, 50)\n",
    "print(\"会社１の平均年収：\",y1.mean(),\"円\")\n",
    "print(\"会社２の平均年収：\",y2.mean(),\"円\")"
   ]
  },
  {
   "cell_type": "code",
   "execution_count": 3,
   "metadata": {
    "scrolled": true
   },
   "outputs": [
    {
     "data": {
      "text/plain": [
       "[array([[ 35, 650],\n",
       "        [ 54, 846],\n",
       "        [ 29, 590],\n",
       "        [ 54, 847],\n",
       "        [ 56, 864],\n",
       "        [ 53, 834],\n",
       "        [ 41, 711],\n",
       "        [ 35, 659],\n",
       "        [ 59, 895],\n",
       "        [ 37, 678],\n",
       "        [ 44, 743],\n",
       "        [ 36, 667],\n",
       "        [ 29, 598],\n",
       "        [ 59, 899],\n",
       "        [ 46, 764],\n",
       "        [ 33, 638],\n",
       "        [ 35, 653],\n",
       "        [ 39, 697],\n",
       "        [ 30, 605],\n",
       "        [ 57, 870],\n",
       "        [ 29, 591],\n",
       "        [ 26, 564],\n",
       "        [ 35, 658],\n",
       "        [ 59, 896],\n",
       "        [ 41, 711],\n",
       "        [ 29, 599],\n",
       "        [ 55, 852],\n",
       "        [ 58, 889],\n",
       "        [ 41, 718],\n",
       "        [ 34, 649],\n",
       "        [ 34, 640],\n",
       "        [ 55, 850],\n",
       "        [ 56, 863],\n",
       "        [ 24, 545],\n",
       "        [ 40, 708],\n",
       "        [ 42, 725],\n",
       "        [ 49, 798],\n",
       "        [ 49, 790],\n",
       "        [ 46, 760],\n",
       "        [ 33, 631],\n",
       "        [ 50, 806],\n",
       "        [ 35, 654],\n",
       "        [ 36, 660],\n",
       "        [ 27, 572],\n",
       "        [ 54, 841],\n",
       "        [ 57, 870],\n",
       "        [ 48, 782],\n",
       "        [ 34, 640],\n",
       "        [ 35, 652],\n",
       "        [ 57, 871],\n",
       "        [ 24, 541],\n",
       "        [ 49, 797],\n",
       "        [ 47, 770],\n",
       "        [ 43, 738],\n",
       "        [ 24, 549],\n",
       "        [ 37, 677],\n",
       "        [ 26, 562],\n",
       "        [ 36, 665],\n",
       "        [ 57, 875],\n",
       "        [ 24, 549],\n",
       "        [ 28, 586],\n",
       "        [ 49, 793],\n",
       "        [ 32, 624],\n",
       "        [ 33, 636],\n",
       "        [ 43, 731],\n",
       "        [ 42, 720],\n",
       "        [ 43, 732],\n",
       "        [ 39, 693],\n",
       "        [ 32, 622],\n",
       "        [ 49, 792],\n",
       "        [ 34, 641],\n",
       "        [ 37, 673],\n",
       "        [ 52, 825],\n",
       "        [ 43, 738],\n",
       "        [ 54, 845],\n",
       "        [ 47, 774],\n",
       "        [ 49, 799],\n",
       "        [ 24, 548],\n",
       "        [ 26, 565],\n",
       "        [ 31, 612],\n",
       "        [ 39, 691],\n",
       "        [ 46, 761],\n",
       "        [ 25, 552],\n",
       "        [ 28, 583],\n",
       "        [ 42, 729],\n",
       "        [ 43, 733],\n",
       "        [ 35, 657],\n",
       "        [ 51, 817],\n",
       "        [ 31, 610],\n",
       "        [ 45, 751],\n",
       "        [ 43, 734],\n",
       "        [ 39, 691],\n",
       "        [ 51, 812],\n",
       "        [ 32, 625],\n",
       "        [ 26, 565],\n",
       "        [ 26, 560],\n",
       "        [ 37, 672],\n",
       "        [ 59, 898],\n",
       "        [ 47, 774],\n",
       "        [ 27, 579]]), array([[ 39, 740],\n",
       "        [ 30, 656],\n",
       "        [ 29, 643],\n",
       "        [ 39, 747],\n",
       "        [ 27, 629],\n",
       "        [ 30, 658],\n",
       "        [ 24, 595],\n",
       "        [ 29, 644],\n",
       "        [ 32, 672],\n",
       "        [ 36, 713],\n",
       "        [ 34, 693],\n",
       "        [ 23, 582],\n",
       "        [ 27, 620],\n",
       "        [ 36, 719],\n",
       "        [ 23, 584],\n",
       "        [ 36, 714],\n",
       "        [ 31, 666],\n",
       "        [ 31, 666],\n",
       "        [ 32, 673],\n",
       "        [ 22, 573],\n",
       "        [ 22, 573],\n",
       "        [ 28, 632],\n",
       "        [ 32, 674],\n",
       "        [ 24, 594],\n",
       "        [ 31, 662],\n",
       "        [ 24, 598],\n",
       "        [ 33, 688],\n",
       "        [ 32, 679],\n",
       "        [ 35, 701],\n",
       "        [ 28, 636],\n",
       "        [ 32, 674],\n",
       "        [ 34, 691],\n",
       "        [ 28, 635],\n",
       "        [ 27, 626],\n",
       "        [ 36, 718],\n",
       "        [ 31, 661],\n",
       "        [ 26, 619],\n",
       "        [ 26, 612],\n",
       "        [ 26, 611],\n",
       "        [ 34, 697],\n",
       "        [ 25, 606],\n",
       "        [ 34, 692],\n",
       "        [ 23, 583],\n",
       "        [ 28, 636],\n",
       "        [ 22, 571],\n",
       "        [ 27, 625],\n",
       "        [ 38, 737],\n",
       "        [ 23, 582],\n",
       "        [ 29, 643],\n",
       "        [ 30, 659]])]"
      ]
     },
     "execution_count": 3,
     "metadata": {},
     "output_type": "execute_result"
    }
   ],
   "source": [
    "data = []\n",
    "data.append(np.vstack([x1, y1]).transpose(1,0))\n",
    "data.append(np.vstack([x2, y2]).transpose(1,0))\n",
    "data"
   ]
  },
  {
   "cell_type": "code",
   "execution_count": 4,
   "metadata": {},
   "outputs": [
    {
     "data": {
      "text/plain": [
       "Text(0, 0.5, 'salary')"
      ]
     },
     "execution_count": 4,
     "metadata": {},
     "output_type": "execute_result"
    },
    {
     "data": {
      "image/png": "[encoded data removed]",
      "text/plain": [
       "<Figure size 432x288 with 1 Axes>"
      ]
     },
     "metadata": {
      "needs_background": "light"
     },
     "output_type": "display_data"
    }
   ],
   "source": [
    "legends = [\"company1\", \"company2\"]\n",
    "for i in range(len(data)):\n",
    "    plt.scatter(data[i][:,0], data[i][:,1])\n",
    "    plt.legend(legends)\n",
    "plt.xlabel(\"age\")\n",
    "plt.ylabel(\"salary\")"
   ]
  },
  {
   "cell_type": "markdown",
   "metadata": {},
   "source": [
    "## 1. まずは普通に検定する"
   ]
  },
  {
   "cell_type": "markdown",
   "metadata": {},
   "source": [
    "## 1.1 分散が等しいかどうかを検定する（母分散の比の検定）2級p153"
   ]
  },
  {
   "cell_type": "code",
   "execution_count": 5,
   "metadata": {},
   "outputs": [
    {
     "data": {
      "text/plain": [
       "(4.751354051882176, 0.6260230221241002, 1.663804446034373, 1)"
      ]
     },
     "execution_count": 5,
     "metadata": {},
     "output_type": "execute_result"
    }
   ],
   "source": [
    "def test_for_homogeneity_of_variance(x, y, alpha=0.05):\n",
    "    #両側検定\n",
    "    vx = x.var(ddof=1)\n",
    "    vy = y.var(ddof=1)\n",
    "    m = x.shape[0]\n",
    "    n = y.shape[0]\n",
    "    f = vx /vy\n",
    "    f_alpha_low = st.f.ppf(alpha/2, m-1, n-1)\n",
    "    f_alpha_up = st.f.ppf(1-alpha/2, m-1, n-1)\n",
    "    #検定結果 0：帰無仮説を受容 ,1：帰無仮説を棄却\n",
    "    if f >= f_alpha_low and f <= f_alpha_up:\n",
    "        result = 0\n",
    "    else:\n",
    "        result = 1\n",
    "    return f, f_alpha_low, f_alpha_up, result\n",
    "\n",
    "test_for_homogeneity_of_variance(data[0][:, 1], data[1][:, 1])"
   ]
  },
  {
   "cell_type": "markdown",
   "metadata": {},
   "source": [
    "### 帰無仮説を棄却。母分散に差があると判断し、welthの検定を行う。"
   ]
  },
  {
   "cell_type": "markdown",
   "metadata": {},
   "source": [
    "## 1.2 分散が未知で異なる場合 welchの検定"
   ]
  },
  {
   "cell_type": "code",
   "execution_count": 6,
   "metadata": {},
   "outputs": [
    {
     "data": {
      "text/plain": [
       "(0.05228563053603838, 1.6552716671625258, 0)"
      ]
     },
     "execution_count": 6,
     "metadata": {},
     "output_type": "execute_result"
    }
   ],
   "source": [
    "def welchs_test(x,y,alpha=0.05):\n",
    "    #片側検定（両側の場合はalpha/2を入れる）\n",
    "    #不偏分散\n",
    "    vx = x.var(ddof=1) #ddof=0で標本分散\n",
    "    vy = y.var(ddof=1)\n",
    "    m = x.shape[0]\n",
    "    n = y.shape[0]\n",
    "    #自由度\n",
    "    gx = vx / m\n",
    "    gy = vy / n\n",
    "    f = (gx + gy)**2 / (gx**2/(m-1) + gy**2/(n-1))\n",
    "    #t値\n",
    "    t_value = abs(x.mean()-y.mean()) / (vx**2/m + vy**2/n)**(1/2)\n",
    "    t_alpha = st.t.ppf(1-alpha,f)\n",
    "    #検定結果 0：帰無仮説を受容 ,1：帰無仮説を棄却\n",
    "    if t_value > t_alpha:\n",
    "        result = 1\n",
    "    else:\n",
    "        result = 0\n",
    "    return t_value, t_alpha, result\n",
    "\n",
    "welchs_test(data[0][:, 1],data[1][:, 1])"
   ]
  },
  {
   "cell_type": "markdown",
   "metadata": {},
   "source": [
    "### 平均年収に差がないという帰無仮説を棄却できない。"
   ]
  },
  {
   "cell_type": "markdown",
   "metadata": {},
   "source": [
    "## 2. 共分散分析により共変量の影響を排除する（1級教科書P124～126）"
   ]
  },
  {
   "cell_type": "markdown",
   "metadata": {},
   "source": [
    "## 2.1 回帰の同質性の検定（共変量の傾きが水準にかかわらず等しいとしてよいかの検定）"
   ]
  },
  {
   "cell_type": "code",
   "execution_count": 7,
   "metadata": {},
   "outputs": [],
   "source": [
    "class TestForRegressionHomogeneity:\n",
    "    def __init__(self,data):\n",
    "        self.data = data\n",
    "    # 水準ごとの回帰\n",
    "    def regression_analysis(self):\n",
    "        data = self.data\n",
    "        alpha_i = []\n",
    "        beta_i = []\n",
    "        for i in range(len(data)):\n",
    "            _x = data[i][:, 0]\n",
    "            _y = data[i][:, 1]\n",
    "            beta_i.append(np.cov(_x, _y, ddof=1)[0][1]/np.var(_x, ddof=1))\n",
    "            alpha_i.append(_y.mean()-beta_i[i]*_x.mean())\n",
    "        return alpha_i, beta_i\n",
    "    # 水準間で共通の傾きを使った回帰\n",
    "    def regression_analysis_with_common_grad(self):\n",
    "        data = self.data\n",
    "        # 返り値\n",
    "        alpha = []\n",
    "        beta = 0 # 回帰直線の傾きは水準の間で共通とする\n",
    "        new_data = [] # 回帰によって共変量の影響を取り除いた結果 これを分散分析する？\n",
    "        \n",
    "        covariance_sum, x_variance_sum = 0, 0\n",
    "        for i in range(len(data)):\n",
    "            _x = data[i][:, 0]\n",
    "            _y = data[i][:, 1]\n",
    "            covariance_sum += np.cov(_x, _y, ddof=1)[0][1] * _x.shape[0] #_xは1d-array\n",
    "            x_variance_sum += np.var(_x, ddof=1) * _x.shape[0]\n",
    "        beta = covariance_sum / x_variance_sum\n",
    "        for i in range(len(data)):     \n",
    "            x_mean = data[i][:, 0].mean()\n",
    "            y_mean = data[i][:, 1].mean()\n",
    "            alpha.append(y_mean - beta*x_mean)\n",
    "            _x = data[i][:, 0]\n",
    "            _y = data[i][:, 1]\n",
    "            new_data.append(_y - beta*_x)\n",
    "        return alpha, beta, new_data\n",
    "    # 平方和の計算\n",
    "    def sum_squared_error(self):\n",
    "        data = self.data\n",
    "        #パラメータ\n",
    "        alpha_i, beta_i = self.regression_analysis()\n",
    "        alpha, beta, _ = self.regression_analysis_with_common_grad()\n",
    "        #残差\n",
    "        Sw = 0\n",
    "        Se = 0\n",
    "        for i in range(len(data)):\n",
    "            _x = data[i][:, 0]\n",
    "            _y = data[i][:, 1]\n",
    "            Sw += ((_y - alpha[i] - beta*_x)**2).sum()\n",
    "            Se += ((_y - alpha_i[i] - beta_i[i]*_x)**2).sum()\n",
    "        Sr = Sw - Se\n",
    "        return Sr, Se, Sw\n",
    "    # 検定\n",
    "    def test(self,_alpha=0.05):\n",
    "        data = self.data\n",
    "        # 残差\n",
    "        Sr, Se, Sw = self.sum_squared_error()\n",
    "        # 自由度\n",
    "        a = len(data)\n",
    "        data_num = 0 # dataの個数\n",
    "        for i in range(a):\n",
    "            data_num += data[i].shape[0]   \n",
    "        phi_r, phi_e, phi_w = a-1, data_num-2*a, data_num-a-1\n",
    "        # 平均変動\n",
    "        Vr, Ve, Vw = Sr/phi_r, Se/phi_e, Sw/phi_w\n",
    "        # F値\n",
    "        f_value = Vr/Ve\n",
    "        f_alpha = st.f.ppf(1-_alpha, phi_r, phi_e) # 自由度phi_r,phi_eのF分布上側alpha%点\n",
    "        #検定結果 0：帰無仮説を受容 ,1：帰無仮説を棄却\n",
    "        if f_value > f_alpha:\n",
    "            result = 1#\n",
    "        else:\n",
    "            result = 0\n",
    "        return f_value, f_alpha, result"
   ]
  },
  {
   "cell_type": "code",
   "execution_count": 8,
   "metadata": {},
   "outputs": [
    {
     "data": {
      "text/plain": [
       "(0.7248102239387194, 3.9059421464318516, 0)"
      ]
     },
     "execution_count": 8,
     "metadata": {},
     "output_type": "execute_result"
    }
   ],
   "source": [
    "# 実行\n",
    "testfor_rh = TestForRegressionHomogeneity(data)\n",
    "testfor_rh.test()"
   ]
  },
  {
   "cell_type": "markdown",
   "metadata": {},
   "source": [
    "### 帰無仮説を受容。水準ごとの回帰直線が平行であるとして共分散分析を行う。"
   ]
  },
  {
   "cell_type": "markdown",
   "metadata": {},
   "source": [
    "## 2.2 共分散分析"
   ]
  },
  {
   "cell_type": "code",
   "execution_count": 9,
   "metadata": {},
   "outputs": [],
   "source": [
    "# 共分散分析クラスの定義\n",
    "class Ancova:\n",
    "    def __init__(self,data):\n",
    "        self.data = data\n",
    "    # 水準間によらず、回帰直線の切片、傾きとも同じ値とする\n",
    "    def regression_analysis_with_common_params(self):\n",
    "        data = self.data\n",
    "        mu, beta = 0, 0 # 回帰直線の切片、傾きとも共通とする\n",
    "        _data = np.vstack([data[0], data[1]]) # この部分2水準じゃないとダメな書き方してしまった。\n",
    "        _x = _data[:, 0]\n",
    "        _y = _data[:, 1]\n",
    "        beta = np.cov(_x, _y, ddof=1)[0][1]/np.cov(_x, _y, ddof=1)[0][0]\n",
    "        mu = _y.mean() - beta*_x.mean()\n",
    "        return mu, beta, _data\n",
    "    # 平方和の計算\n",
    "    def sum_squared_error(self):\n",
    "        mu, beta, _data = self.regression_analysis_with_common_params()\n",
    "        _x = _data[:, 0]\n",
    "        _y = _data[:, 1]\n",
    "        St = ((_y-mu-beta*_x)**2).sum()\n",
    "        tmp = TestForRegressionHomogeneity(data)# Swの計算にTestForRegressionHomogeneityクラスのメソッドを流用\n",
    "        _, _, Sw = tmp.sum_squared_error()\n",
    "        Sb = St - Sw\n",
    "        return Sb, Sw, St\n",
    "    # 検定\n",
    "    def test(self, _alpha=0.05):\n",
    "        data = self.data\n",
    "        # 残差\n",
    "        Sb, Sw, St = self.sum_squared_error()\n",
    "        # 自由度\n",
    "        a = len(data)\n",
    "        data_num = 0 # dataの個数\n",
    "        for i in range(a):\n",
    "            data_num += data[i].shape[0]   \n",
    "        phi_b, phi_w, phi_t = a-1, data_num-a-1, data_num-2\n",
    "        # 平均変動\n",
    "        Vb, Vw = Sb/phi_b, Sw/phi_w\n",
    "        # F値\n",
    "        f_value = Vb/Vw\n",
    "        f_alpha = st.f.ppf(1-_alpha, phi_b, phi_w) # 自由度phi_b,phi_wのF分布上側alpha%点\n",
    "        #検定結果 0：帰無仮説を受容 ,1：帰無仮説を棄却\n",
    "        if f_value > f_alpha:\n",
    "            result = 1#\n",
    "        else:\n",
    "            result = 0\n",
    "        return f_value, f_alpha, result"
   ]
  },
  {
   "cell_type": "code",
   "execution_count": 10,
   "metadata": {},
   "outputs": [
    {
     "data": {
      "text/plain": [
       "(7332.939708462308, 3.905498091187382, 1)"
      ]
     },
     "execution_count": 10,
     "metadata": {},
     "output_type": "execute_result"
    }
   ],
   "source": [
    "# 共分散分析の実行\n",
    "ancova = Ancova(data)\n",
    "ancova.test()"
   ]
  },
  {
   "cell_type": "markdown",
   "metadata": {},
   "source": [
    "### 回帰の切片に差がないという帰無仮説が棄却された。すなわち水準間に差がないとは言えない。\n"
   ]
  },
  {
   "cell_type": "markdown",
   "metadata": {},
   "source": [
    "## 2.3 共変量を取り除いた結果で分散分析（１級P125）"
   ]
  },
  {
   "cell_type": "markdown",
   "metadata": {},
   "source": [
    "### 共変量を取り除いた後のデータのプロット"
   ]
  },
  {
   "cell_type": "code",
   "execution_count": 11,
   "metadata": {
    "scrolled": true
   },
   "outputs": [
    {
     "data": {
      "text/plain": [
       "Text(0, 0.5, 'residual_salary (intercept?)')"
      ]
     },
     "execution_count": 11,
     "metadata": {},
     "output_type": "execute_result"
    },
    {
     "data": {
      "image/png": "[encoded data removed]",
      "text/plain": [
       "<Figure size 432x288 with 1 Axes>"
      ]
     },
     "metadata": {
      "needs_background": "light"
     },
     "output_type": "display_data"
    }
   ],
   "source": [
    "_, _, new_data = testfor_rh.regression_analysis_with_common_grad()\n",
    "legends = [\"company1\", \"company2\"]\n",
    "for i in range(len(new_data)):\n",
    "    plt.scatter(data[i][:, 0],new_data[i])\n",
    "    plt.legend(legends)\n",
    "plt.xlabel(\"age\")\n",
    "plt.ylabel(\"residual_salary (intercept?)\")"
   ]
  },
  {
   "cell_type": "markdown",
   "metadata": {},
   "source": [
    "### 一元配置分散分析"
   ]
  },
  {
   "cell_type": "code",
   "execution_count": 12,
   "metadata": {},
   "outputs": [
    {
     "data": {
      "text/plain": [
       "(164.61455929654076, 3.905060109766206, 1)"
      ]
     },
     "execution_count": 12,
     "metadata": {},
     "output_type": "execute_result"
    }
   ],
   "source": [
    "def anova_1d(data, _alpha=0.05):\n",
    "    # 水準間平方和Sa,残差平方和Se\n",
    "    all_data = np.hstack([data[0], data[1]]) # この部分も2水準じゃないとダメな書き方してしまった。\n",
    "    mean = all_data.mean()\n",
    "    Sa, Se = 0, 0\n",
    "    for i in range(len(data)):\n",
    "        Sa += (data[i].mean()-mean)**2\n",
    "        Se += ((data[i]-data[i].mean())**2).sum()\n",
    "    # 自由度\n",
    "    phi_a, phi_e = len(data)-1, all_data.shape[0]-len(data)\n",
    "    # 平均変動\n",
    "    Va, Ve = Sa/phi_a, Se/phi_e\n",
    "    # F値\n",
    "    f_value = Va/Ve\n",
    "    f_alpha = st.f.ppf(1-_alpha, phi_a, phi_e) # 自由度phi_a,phi_eのF分布上側alpha%点\n",
    "    #検定結果 0：帰無仮説を受容 ,1：帰無仮説を棄却\n",
    "    if f_value > f_alpha:\n",
    "        result = 1\n",
    "    else:\n",
    "        result = 0\n",
    "    return f_value, f_alpha, result        \n",
    "anova_1d(new_data)"
   ]
  },
  {
   "cell_type": "markdown",
   "metadata": {},
   "source": [
    "### 共分散分析と一元配置分散分析のどちらを選べばよいのかが不明。（２水準なら、t検定 or welchの検定でよさそう）"
   ]
  },
  {
   "cell_type": "markdown",
   "metadata": {},
   "source": [
    "### 【メモ】分散が未知で等しい場合　ｔ検定（等分散性の検定で帰無仮説を受容した場合はこっち）"
   ]
  },
  {
   "cell_type": "code",
   "execution_count": 13,
   "metadata": {},
   "outputs": [],
   "source": [
    "def t_test(x, y, alpha=0.05):\n",
    "    #片側検定（両側の場合はalpha/2を入れる）\n",
    "    #不偏分散\n",
    "    vx = x.var(ddof=1) #ddof=0で標本分散\n",
    "    vy = y.var(ddof=1)\n",
    "    m = x.shape[0]\n",
    "    n = y.shape[0]\n",
    "    #プールした分散\n",
    "    var = (m*vx + n*vy) / (m + n -2)\n",
    "    #t値\n",
    "    t_value = abs(x.mean()-y.mean()) / (1/m + 1/n)**(1/2) / var\n",
    "    t_alpha = st.t.ppf(1-alpha, 20)\n",
    "    #検定結果 0：帰無仮説を受容 ,1：帰無仮説を棄却\n",
    "    if t_value > t_alpha:\n",
    "        result = 1#\n",
    "    else:\n",
    "        result = 0\n",
    "    return t_value, t_alpha, result"
   ]
  }
 ],
 "metadata": {
  "kernelspec": {
   "display_name": "Python 3",
   "language": "python",
   "name": "python3"
  },
  "language_info": {
   "codemirror_mode": {
    "name": "ipython",
    "version": 3
   },
   "file_extension": ".py",
   "mimetype": "text/x-python",
   "name": "python",
   "nbconvert_exporter": "python",
   "pygments_lexer": "ipython3",
   "version": "3.7.3"
  }
 },
 "nbformat": 4,
 "nbformat_minor": 2
}
