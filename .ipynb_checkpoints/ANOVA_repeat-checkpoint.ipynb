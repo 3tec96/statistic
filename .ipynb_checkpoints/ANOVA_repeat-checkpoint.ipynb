{
 "cells": [
  {
   "cell_type": "code",
   "execution_count": 1,
   "metadata": {},
   "outputs": [],
   "source": [
    "import numpy as np\n",
    "import pandas as pd\n",
    "import matplotlib.pyplot as plt\n",
    "import scipy.stats as st"
   ]
  },
  {
   "cell_type": "code",
   "execution_count": 2,
   "metadata": {},
   "outputs": [
    {
     "data": {
      "text/html": [
       "<div>\n",
       "<style scoped>\n",
       "    .dataframe tbody tr th:only-of-type {\n",
       "        vertical-align: middle;\n",
       "    }\n",
       "\n",
       "    .dataframe tbody tr th {\n",
       "        vertical-align: top;\n",
       "    }\n",
       "\n",
       "    .dataframe thead th {\n",
       "        text-align: right;\n",
       "    }\n",
       "</style>\n",
       "<table border=\"1\" class=\"dataframe\">\n",
       "  <thead>\n",
       "    <tr style=\"text-align: right;\">\n",
       "      <th></th>\n",
       "      <th>straw</th>\n",
       "      <th>rice</th>\n",
       "      <th>pasture</th>\n",
       "      <th>feed</th>\n",
       "      <th>weed</th>\n",
       "    </tr>\n",
       "  </thead>\n",
       "  <tbody>\n",
       "    <tr>\n",
       "      <th>Control</th>\n",
       "      <td>5</td>\n",
       "      <td>4</td>\n",
       "      <td>0</td>\n",
       "      <td>-8</td>\n",
       "      <td>4</td>\n",
       "    </tr>\n",
       "    <tr>\n",
       "      <th>NaN</th>\n",
       "      <td>17</td>\n",
       "      <td>6</td>\n",
       "      <td>-2</td>\n",
       "      <td>0</td>\n",
       "      <td>0</td>\n",
       "    </tr>\n",
       "    <tr>\n",
       "      <th>A</th>\n",
       "      <td>20</td>\n",
       "      <td>10</td>\n",
       "      <td>11</td>\n",
       "      <td>4</td>\n",
       "      <td>16</td>\n",
       "    </tr>\n",
       "    <tr>\n",
       "      <th>NaN</th>\n",
       "      <td>38</td>\n",
       "      <td>24</td>\n",
       "      <td>17</td>\n",
       "      <td>0</td>\n",
       "      <td>24</td>\n",
       "    </tr>\n",
       "    <tr>\n",
       "      <th>B</th>\n",
       "      <td>10</td>\n",
       "      <td>13</td>\n",
       "      <td>22</td>\n",
       "      <td>15</td>\n",
       "      <td>19</td>\n",
       "    </tr>\n",
       "    <tr>\n",
       "      <th>NaN</th>\n",
       "      <td>6</td>\n",
       "      <td>15</td>\n",
       "      <td>18</td>\n",
       "      <td>25</td>\n",
       "      <td>33</td>\n",
       "    </tr>\n",
       "    <tr>\n",
       "      <th>C</th>\n",
       "      <td>19</td>\n",
       "      <td>9</td>\n",
       "      <td>8</td>\n",
       "      <td>9</td>\n",
       "      <td>8</td>\n",
       "    </tr>\n",
       "    <tr>\n",
       "      <th>NaN</th>\n",
       "      <td>27</td>\n",
       "      <td>7</td>\n",
       "      <td>8</td>\n",
       "      <td>13</td>\n",
       "      <td>2</td>\n",
       "    </tr>\n",
       "    <tr>\n",
       "      <th>D</th>\n",
       "      <td>29</td>\n",
       "      <td>15</td>\n",
       "      <td>10</td>\n",
       "      <td>-1</td>\n",
       "      <td>15</td>\n",
       "    </tr>\n",
       "    <tr>\n",
       "      <th>NaN</th>\n",
       "      <td>23</td>\n",
       "      <td>25</td>\n",
       "      <td>12</td>\n",
       "      <td>11</td>\n",
       "      <td>19</td>\n",
       "    </tr>\n",
       "  </tbody>\n",
       "</table>\n",
       "</div>"
      ],
      "text/plain": [
       "         straw  rice  pasture  feed  weed\n",
       "Control      5     4        0    -8     4\n",
       "NaN         17     6       -2     0     0\n",
       "A           20    10       11     4    16\n",
       "NaN         38    24       17     0    24\n",
       "B           10    13       22    15    19\n",
       "NaN          6    15       18    25    33\n",
       "C           19     9        8     9     8\n",
       "NaN         27     7        8    13     2\n",
       "D           29    15       10    -1    15\n",
       "NaN         23    25       12    11    19"
      ]
     },
     "execution_count": 2,
     "metadata": {},
     "output_type": "execute_result"
    }
   ],
   "source": [
    "df = pd.read_csv(\"./data/grass_rep.csv\", index_col=0)\n",
    "df"
   ]
  },
  {
   "cell_type": "code",
   "execution_count": 3,
   "metadata": {},
   "outputs": [
    {
     "data": {
      "text/plain": [
       "array([[[ 5,  4,  0, -8,  4],\n",
       "        [17,  6, -2,  0,  0]],\n",
       "\n",
       "       [[20, 10, 11,  4, 16],\n",
       "        [38, 24, 17,  0, 24]],\n",
       "\n",
       "       [[10, 13, 22, 15, 19],\n",
       "        [ 6, 15, 18, 25, 33]],\n",
       "\n",
       "       [[19,  9,  8,  9,  8],\n",
       "        [27,  7,  8, 13,  2]],\n",
       "\n",
       "       [[29, 15, 10, -1, 15],\n",
       "        [23, 25, 12, 11, 19]]], dtype=int64)"
      ]
     },
     "execution_count": 3,
     "metadata": {},
     "output_type": "execute_result"
    }
   ],
   "source": [
    "# np.arrayへ変換 今思えば並べ替えればよかった。わかりづらい。\n",
    "arr = df.values\n",
    "arr = arr.reshape(5,2,5)\n",
    "arr"
   ]
  },
  {
   "cell_type": "code",
   "execution_count": 4,
   "metadata": {},
   "outputs": [
    {
     "data": {
      "text/plain": [
       "12.68"
      ]
     },
     "execution_count": 4,
     "metadata": {},
     "output_type": "execute_result"
    }
   ],
   "source": [
    "# 水準の数と平均\n",
    "a = arr.shape[0]\n",
    "r = arr.shape[1]\n",
    "b = arr.shape[2]\n",
    "a_mean = arr.mean(axis=2).mean(axis=1) # 行の平均(Control,A-D)\n",
    "b_mean = arr.mean(axis=0).mean(axis=0) # 列の平均(straw,riceなど)\n",
    "ab_mean = arr.mean(axis=1) # 個々の水準ごとの平均(r個の平均)\n",
    "t_mean = arr.mean() # 全部の平均\n",
    "t_mean"
   ]
  },
  {
   "cell_type": "code",
   "execution_count": 5,
   "metadata": {},
   "outputs": [
    {
     "name": "stdout",
     "output_type": "stream",
     "text": [
      "Sa: 1522.08 Sb: 866.88 Sab: 1465.92 Se: 810.0\n"
     ]
    }
   ],
   "source": [
    "# 平方和\n",
    "Sa = b * r * ((a_mean - t_mean)**2).sum()\n",
    "Sb = a * r * ((b_mean - t_mean)**2).sum()\n",
    "Sab = 0\n",
    "for i in range(a):\n",
    "    for j in range(b):\n",
    "        Sab += r * (ab_mean[i][j] - a_mean[i] - b_mean[j] + t_mean)**2\n",
    "Se = ((arr - ab_mean.reshape(5,1,5))**2).sum()\n",
    "print(\"Sa:\", round(Sa, 2), \"Sb:\", round(Sb, 2), \"Sab:\", round(Sab, 2), \"Se:\", round(Se, 2))"
   ]
  },
  {
   "cell_type": "code",
   "execution_count": 6,
   "metadata": {},
   "outputs": [
    {
     "name": "stdout",
     "output_type": "stream",
     "text": [
      "phi_a: 4\n",
      "phi_b: 4\n",
      "phi_ab: 16\n",
      "phi_e: 25\n"
     ]
    }
   ],
   "source": [
    "# 自由度\n",
    "phi_a = a-1\n",
    "phi_b = b-1\n",
    "phi_ab = a*b - a - b + 1 \n",
    "phi_e = a*b*r - a*b\n",
    "print(\"phi_a:\",round(phi_a, 2))\n",
    "print(\"phi_b:\",round(phi_b, 2))\n",
    "print(\"phi_ab:\",round(phi_ab, 2))\n",
    "print(\"phi_e:\",round(phi_e, 2))"
   ]
  },
  {
   "cell_type": "code",
   "execution_count": 7,
   "metadata": {},
   "outputs": [
    {
     "name": "stdout",
     "output_type": "stream",
     "text": [
      "Va: 380.52 Vb: 216.72 Vab: 91.62 Ve: 32.4\n"
     ]
    }
   ],
   "source": [
    "#平均変動\n",
    "Va = Sa/phi_a\n",
    "Vb = Sb/phi_b\n",
    "Vab = Sab/phi_ab\n",
    "Ve = Se/phi_e\n",
    "print(\"Va:\", round(Va, 2), \"Vb:\", round(Vb, 2), \"Vab:\", round(Vab, 2), \"Ve:\", round(Ve, 2))"
   ]
  },
  {
   "cell_type": "code",
   "execution_count": 8,
   "metadata": {},
   "outputs": [
    {
     "name": "stdout",
     "output_type": "stream",
     "text": [
      "Fa: 11.74 Fb: 6.69 Fab: 2.83\n"
     ]
    }
   ],
   "source": [
    "#F値\n",
    "Fa = Va/Ve\n",
    "Fb = Vb/Ve\n",
    "Fab = Vab/Ve\n",
    "print(\"Fa:\", round(Fa, 2), \"Fb:\", round(Fb, 2), \"Fab:\", round(Fab, 2))"
   ]
  },
  {
   "cell_type": "code",
   "execution_count": 9,
   "metadata": {},
   "outputs": [
    {
     "name": "stdout",
     "output_type": "stream",
     "text": [
      "A:自由度( 4 , 25 )のF分布上側 5.0 %点 2.76\n",
      "B:自由度( 4 , 25 )のF分布上側 5.0 %点 2.76\n",
      "AB:自由度( 16 , 25 )のF分布上側 5.0 %点 2.07\n"
     ]
    }
   ],
   "source": [
    "alpha = 0.05\n",
    "print(\"A:自由度(\", phi_a, \",\", phi_e, \")のF分布上側\", alpha*100, \"%点\", round(st.f.ppf(1-alpha, phi_a, phi_e), 2))\n",
    "print(\"B:自由度(\", phi_b, \",\", phi_e, \")のF分布上側\", alpha*100, \"%点\", round(st.f.ppf(1-alpha, phi_b, phi_e), 2))\n",
    "print(\"AB:自由度(\", phi_ab, \",\", phi_e, \")のF分布上側\", alpha*100, \"%点\", round(st.f.ppf(1-alpha, phi_ab, phi_e), 2))"
   ]
  },
  {
   "cell_type": "code",
   "execution_count": null,
   "metadata": {},
   "outputs": [],
   "source": []
  }
 ],
 "metadata": {
  "kernelspec": {
   "display_name": "Python 3",
   "language": "python",
   "name": "python3"
  },
  "language_info": {
   "codemirror_mode": {
    "name": "ipython",
    "version": 3
   },
   "file_extension": ".py",
   "mimetype": "text/x-python",
   "name": "python",
   "nbconvert_exporter": "python",
   "pygments_lexer": "ipython3",
   "version": "3.7.3"
  }
 },
 "nbformat": 4,
 "nbformat_minor": 2
}
