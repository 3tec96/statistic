{
 "cells": [
  {
   "cell_type": "markdown",
   "metadata": {},
   "source": [
    "# クラスター分析"
   ]
  },
  {
   "cell_type": "code",
   "execution_count": 1,
   "metadata": {},
   "outputs": [],
   "source": [
    "import numpy as np\n",
    "import pandas as pd\n",
    "import matplotlib.pyplot as plt\n",
    "from sklearn import preprocessing\n",
    "import statsmodels.api as sm"
   ]
  },
  {
   "cell_type": "code",
   "execution_count": 2,
   "metadata": {},
   "outputs": [
    {
     "data": {
      "text/plain": [
       "'%.2f'"
      ]
     },
     "execution_count": 2,
     "metadata": {},
     "output_type": "execute_result"
    }
   ],
   "source": [
    "np.set_printoptions(precision=2)\n",
    "%precision %.2f"
   ]
  },
  {
   "cell_type": "code",
   "execution_count": 3,
   "metadata": {
    "scrolled": true
   },
   "outputs": [
    {
     "data": {
      "text/html": [
       "<div>\n",
       "<style scoped>\n",
       "    .dataframe tbody tr th:only-of-type {\n",
       "        vertical-align: middle;\n",
       "    }\n",
       "\n",
       "    .dataframe tbody tr th {\n",
       "        vertical-align: top;\n",
       "    }\n",
       "\n",
       "    .dataframe thead th {\n",
       "        text-align: right;\n",
       "    }\n",
       "</style>\n",
       "<table border=\"1\" class=\"dataframe\">\n",
       "  <thead>\n",
       "    <tr style=\"text-align: right;\">\n",
       "      <th></th>\n",
       "      <th>tuna</th>\n",
       "      <th>salmon</th>\n",
       "      <th>uni</th>\n",
       "      <th>shellfish</th>\n",
       "      <th>white-flesh_fish</th>\n",
       "    </tr>\n",
       "    <tr>\n",
       "      <th>person</th>\n",
       "      <th></th>\n",
       "      <th></th>\n",
       "      <th></th>\n",
       "      <th></th>\n",
       "      <th></th>\n",
       "    </tr>\n",
       "  </thead>\n",
       "  <tbody>\n",
       "    <tr>\n",
       "      <th>1</th>\n",
       "      <td>5</td>\n",
       "      <td>3</td>\n",
       "      <td>2</td>\n",
       "      <td>4</td>\n",
       "      <td>5</td>\n",
       "    </tr>\n",
       "    <tr>\n",
       "      <th>2</th>\n",
       "      <td>3</td>\n",
       "      <td>4</td>\n",
       "      <td>5</td>\n",
       "      <td>5</td>\n",
       "      <td>3</td>\n",
       "    </tr>\n",
       "    <tr>\n",
       "      <th>3</th>\n",
       "      <td>4</td>\n",
       "      <td>5</td>\n",
       "      <td>5</td>\n",
       "      <td>4</td>\n",
       "      <td>4</td>\n",
       "    </tr>\n",
       "    <tr>\n",
       "      <th>4</th>\n",
       "      <td>1</td>\n",
       "      <td>2</td>\n",
       "      <td>1</td>\n",
       "      <td>4</td>\n",
       "      <td>4</td>\n",
       "    </tr>\n",
       "    <tr>\n",
       "      <th>5</th>\n",
       "      <td>2</td>\n",
       "      <td>2</td>\n",
       "      <td>3</td>\n",
       "      <td>4</td>\n",
       "      <td>3</td>\n",
       "    </tr>\n",
       "    <tr>\n",
       "      <th>6</th>\n",
       "      <td>4</td>\n",
       "      <td>4</td>\n",
       "      <td>3</td>\n",
       "      <td>3</td>\n",
       "      <td>3</td>\n",
       "    </tr>\n",
       "    <tr>\n",
       "      <th>7</th>\n",
       "      <td>3</td>\n",
       "      <td>3</td>\n",
       "      <td>2</td>\n",
       "      <td>2</td>\n",
       "      <td>3</td>\n",
       "    </tr>\n",
       "    <tr>\n",
       "      <th>8</th>\n",
       "      <td>5</td>\n",
       "      <td>5</td>\n",
       "      <td>5</td>\n",
       "      <td>4</td>\n",
       "      <td>3</td>\n",
       "    </tr>\n",
       "    <tr>\n",
       "      <th>9</th>\n",
       "      <td>2</td>\n",
       "      <td>1</td>\n",
       "      <td>2</td>\n",
       "      <td>2</td>\n",
       "      <td>1</td>\n",
       "    </tr>\n",
       "    <tr>\n",
       "      <th>10</th>\n",
       "      <td>5</td>\n",
       "      <td>5</td>\n",
       "      <td>4</td>\n",
       "      <td>5</td>\n",
       "      <td>4</td>\n",
       "    </tr>\n",
       "  </tbody>\n",
       "</table>\n",
       "</div>"
      ],
      "text/plain": [
       "        tuna  salmon  uni  shellfish  white-flesh_fish\n",
       "person                                                \n",
       "1          5       3    2          4                 5\n",
       "2          3       4    5          5                 3\n",
       "3          4       5    5          4                 4\n",
       "4          1       2    1          4                 4\n",
       "5          2       2    3          4                 3\n",
       "6          4       4    3          3                 3\n",
       "7          3       3    2          2                 3\n",
       "8          5       5    5          4                 3\n",
       "9          2       1    2          2                 1\n",
       "10         5       5    4          5                 4"
      ]
     },
     "execution_count": 3,
     "metadata": {},
     "output_type": "execute_result"
    }
   ],
   "source": [
    "df = pd.read_csv(\"./data/sushi.csv\", index_col=0)\n",
    "df"
   ]
  },
  {
   "cell_type": "code",
   "execution_count": 4,
   "metadata": {},
   "outputs": [
    {
     "data": {
      "text/plain": [
       "array([[5, 3, 2, 4, 5],\n",
       "       [3, 4, 5, 5, 3],\n",
       "       [4, 5, 5, 4, 4],\n",
       "       [1, 2, 1, 4, 4],\n",
       "       [2, 2, 3, 4, 3],\n",
       "       [4, 4, 3, 3, 3],\n",
       "       [3, 3, 2, 2, 3],\n",
       "       [5, 5, 5, 4, 3],\n",
       "       [2, 1, 2, 2, 1],\n",
       "       [5, 5, 4, 5, 4]], dtype=int64)"
      ]
     },
     "execution_count": 4,
     "metadata": {},
     "output_type": "execute_result"
    }
   ],
   "source": [
    "X = df.values\n",
    "X"
   ]
  },
  {
   "cell_type": "markdown",
   "metadata": {},
   "source": [
    "# 個体iと個体i'の非類似度 ： ミンコフスキー距離（Minkowski distance）\n",
    "\\begin{align}\n",
    "d_{ii'} = (\\sum^p_{j=1}|x_{ij} - x_{i'j}|^\\nu)^\\frac{1}{\\nu} \\quad (\\nu &> 0)\n",
    "\\end{align}"
   ]
  },
  {
   "cell_type": "markdown",
   "metadata": {},
   "source": [
    "$$\n",
    "    \\boldsymbol{X} =\n",
    "        \\left[\\begin{array}{ccc}\n",
    "            x_{11} & \\cdots & x_{1p} \\\\\n",
    "            \\vdots  & \\ddots & \\vdots \\\\\n",
    "            x_{n1} & \\cdots & x_{np} \\\\\n",
    "        \\end{array}\\right]\n",
    "$$"
   ]
  },
  {
   "cell_type": "markdown",
   "metadata": {},
   "source": [
    "# 1. 階層クラスター分析（hierarchical cluster analysis）"
   ]
  },
  {
   "cell_type": "markdown",
   "metadata": {},
   "source": [
    "### 要はこの距離の近いものから順番にクラスターを統合していくものらしい。\n",
    "### とりあえず自分でやってみる。ward法。"
   ]
  },
  {
   "cell_type": "markdown",
   "metadata": {},
   "source": [
    "$\n",
    "d(u,v) = \\sqrt{\\frac{|v|+|s|} {T}d(v,s)^2 + \\frac{|v|+|t|} {T}d(v,t)^2 - \\frac{|v|} {T}d(s,t)^2}\n",
    "$"
   ]
  },
  {
   "cell_type": "code",
   "execution_count": 5,
   "metadata": {},
   "outputs": [],
   "source": [
    "class HierarchicalClusterAnalysis:\n",
    "    def __init__(self,X):\n",
    "        self.X = X # データ\n",
    "        self.N = X.shape[0] # 個体数\n",
    "        self.cluster = list(range(self.N)) # クラスターの通し番号 初期値[0...n-1] 統合するクラスターを削除し、新たなクラスターを後に追加\n",
    "        self.num = np.ones(self.N).astype(int).tolist() #各クラスターに入る個体の数 上と同じように更新していく\n",
    "        self.D = self.calc_all_distances()\n",
    "    # ミンコフスキー距離\n",
    "    def minkowski_distance(self, idxs, nu=2):\n",
    "        # idxs : 距離を計算する2つのindex（tuple or array）\n",
    "        a = self.X[idxs[0]]\n",
    "        b = self.X[idxs[1]]\n",
    "        return (np.sum((b-a)**nu))**(1/nu)\n",
    "    # 距離を総当たりで計算\n",
    "    def calc_all_distances(self):\n",
    "        D = np.diag(np.array([np.inf] * self.N)) # 距離を格納する対象行列(array) 対角成分がargminで選ばれないようにinfを代入\n",
    "        it = np.nditer(D, flags=['multi_index'])\n",
    "        while not it.finished:\n",
    "            idx = it.multi_index\n",
    "            if idx[0]==idx[1]:\n",
    "                pass\n",
    "            else:\n",
    "                D[idx] = self.minkowski_distance(idx, nu=2)\n",
    "            it.iternext()\n",
    "        return D\n",
    "    # 統合するクラスの判定と計算結果の保存\n",
    "    def calc_step_result(self):\n",
    "        step_result = np.zeros(4)\n",
    "        # 距離最小を計算\n",
    "        where_to_delete = np.unravel_index(np.argmin(self.D), self.D.shape)\n",
    "        D_min = self.D[where_to_delete]\n",
    "        #self.where_to_delete = where_to_delete\n",
    "        # 結果の保存\n",
    "        tmp_idx = np.array(where_to_delete).astype(int)\n",
    "        step_result[0] = self.cluster[tmp_idx[0]]\n",
    "        step_result[1] = self.cluster[tmp_idx[1]]\n",
    "        step_result[2] = D_min\n",
    "        step_result[3] = self.num[where_to_delete[0]] + self.num[where_to_delete[1]]\n",
    "        return step_result, where_to_delete\n",
    "    # 新たに作成するクラスタの距離の計算（ward法）\n",
    "    def ward_method(self, where_to_delete):\n",
    "        nq = self.num[where_to_delete[0]]\n",
    "        nr = self.num[where_to_delete[1]]\n",
    "        ns = nq + nr\n",
    "        nt = np.array([i for j, i in enumerate(self.num) if j not in where_to_delete])\n",
    "        dqt = np.delete(self.D[where_to_delete[0], :],where_to_delete)\n",
    "        drt = np.delete(self.D[where_to_delete[1], :],where_to_delete)\n",
    "        dqr = self.D[where_to_delete]\n",
    "        new_distances = ((nq+nt)*dqt + (nr+nt)*drt - nt*dqr) / (ns+nt)\n",
    "        #new_distances = ( ((nq+nt)*dqt**2 + (nr+nt)*drt**2 - nt*dqr**2)/(ns+nt) )**(1/2) # scikit-learnだとこの式になっているので結果が違う\n",
    "        return new_distances\n",
    "    # 距離を格納する行列を更新\n",
    "    def update_distances(self, where_to_delete, new_distances):\n",
    "        N = self.D.shape[0]\n",
    "        _D = np.delete(self.D, where_to_delete, axis=0)\n",
    "        _D = np.delete(_D, where_to_delete, axis=1)\n",
    "        next_D = np.diag(np.array([np.inf]*(N-1)))\n",
    "        next_D[:N-2,:N-2] = _D\n",
    "        next_D[N-2, :N-2] = new_distances\n",
    "        next_D[:N-2, N-2] = new_distances\n",
    "        return next_D\n",
    "    # メイン\n",
    "    def main(self):\n",
    "        result = np.empty((self.N-1, 4))\n",
    "        for i in range(self.N-1):\n",
    "            step_result, where_to_delete = self.calc_step_result()\n",
    "            new_distances = self.ward_method(where_to_delete)\n",
    "            self.D = self.update_distances(where_to_delete, new_distances)\n",
    "            self.cluster = [i for j, i in enumerate(self.cluster) if j not in where_to_delete]\n",
    "            self.num = [i for j, i in enumerate(self.num) if j not in where_to_delete]\n",
    "            self.cluster.append(self.N + i)\n",
    "            self.num.append(step_result[3].astype(int))\n",
    "            result[i] = step_result\n",
    "        return result\n"
   ]
  },
  {
   "cell_type": "code",
   "execution_count": 6,
   "metadata": {},
   "outputs": [
    {
     "data": {
      "text/plain": [
       "array([[ 2.  ,  7.  ,  1.41,  2.  ],\n",
       "       [ 9.  , 10.  ,  1.84,  3.  ],\n",
       "       [ 5.  ,  6.  ,  2.  ,  2.  ],\n",
       "       [ 3.  ,  4.  ,  2.45,  2.  ],\n",
       "       [ 1.  , 11.  ,  2.73,  4.  ],\n",
       "       [ 0.  , 12.  ,  3.53,  3.  ],\n",
       "       [ 8.  , 13.  ,  3.96,  3.  ],\n",
       "       [15.  , 16.  ,  5.58,  6.  ],\n",
       "       [14.  , 17.  , 11.42, 10.  ]])"
      ]
     },
     "execution_count": 6,
     "metadata": {},
     "output_type": "execute_result"
    }
   ],
   "source": [
    "# 実行\n",
    "ward = HierarchicalClusterAnalysis(X)\n",
    "my_result = ward.main()\n",
    "my_result"
   ]
  },
  {
   "cell_type": "code",
   "execution_count": 7,
   "metadata": {},
   "outputs": [
    {
     "data": {
      "image/png": "[encoded data removed]",
      "text/plain": [
       "<Figure size 720x360 with 1 Axes>"
      ]
     },
     "metadata": {
      "needs_background": "light"
     },
     "output_type": "display_data"
    }
   ],
   "source": [
    "# 結果の描画\n",
    "from scipy.cluster.hierarchy import dendrogram, linkage, fcluster, set_link_color_palette\n",
    "plt.figure(figsize=(10, 5))\n",
    "plt.rcParams['font.family'] = 'Times New Roman'\n",
    "plt.rcParams['font.size'] = 20\n",
    "plt.title('Hierarchical Clustering Dendrogram', fontsize=20)\n",
    "plt.xlabel('Observation Points', fontsize=15)\n",
    "plt.ylabel('Distance', fontsize=15)\n",
    "\n",
    "set_link_color_palette(['purple', 'lawngreen', 'green', 'blue', 'orange', 'red'])\n",
    "dendrogram(my_result, leaf_font_size=20., color_threshold=7., above_threshold_color='black')\n",
    "plt.show()"
   ]
  },
  {
   "cell_type": "markdown",
   "metadata": {},
   "source": [
    "### ライブラリだと一瞬。"
   ]
  },
  {
   "cell_type": "code",
   "execution_count": 8,
   "metadata": {
    "scrolled": false
   },
   "outputs": [
    {
     "data": {
      "image/png": "[encoded data removed]",
      "text/plain": [
       "<Figure size 720x360 with 1 Axes>"
      ]
     },
     "metadata": {
      "needs_background": "light"
     },
     "output_type": "display_data"
    }
   ],
   "source": [
    "# クラスター分析（ward法）\n",
    "z = linkage(X, method='ward')\n",
    "\n",
    "# 図のフォーマットを指定\n",
    "plt.figure(figsize=(10, 5))\n",
    "plt.rcParams['font.family'] = 'Times New Roman'\n",
    "plt.rcParams['font.size'] = 20\n",
    "plt.title('Hierarchical Clustering Dendrogram', fontsize=20)\n",
    "plt.xlabel('Observation Points', fontsize=15)\n",
    "plt.ylabel('Distance', fontsize=15)\n",
    "\n",
    "# デンドログラムの作成\n",
    "set_link_color_palette(['purple', 'lawngreen', 'green', 'blue', 'orange', 'red'])\n",
    "dendrogram(z, leaf_font_size=20., color_threshold=7., above_threshold_color='black')\n",
    "plt.show()"
   ]
  },
  {
   "cell_type": "code",
   "execution_count": 9,
   "metadata": {
    "scrolled": true
   },
   "outputs": [
    {
     "data": {
      "text/plain": [
       "array([[ 2.  ,  7.  ,  1.41,  2.  ],\n",
       "       [ 9.  , 10.  ,  1.83,  3.  ],\n",
       "       [ 5.  ,  6.  ,  2.  ,  2.  ],\n",
       "       [ 3.  ,  4.  ,  2.45,  2.  ],\n",
       "       [ 1.  , 11.  ,  2.68,  4.  ],\n",
       "       [ 0.  , 12.  ,  3.46,  3.  ],\n",
       "       [ 8.  , 13.  ,  3.92,  3.  ],\n",
       "       [15.  , 16.  ,  5.32,  6.  ],\n",
       "       [14.  , 17.  ,  8.66, 10.  ]])"
      ]
     },
     "execution_count": 9,
     "metadata": {},
     "output_type": "execute_result"
    }
   ],
   "source": [
    "z"
   ]
  },
  {
   "cell_type": "markdown",
   "metadata": {},
   "source": [
    "# 2. 非階層クラスター分析（non-hierarchical cluster analysis）\n",
    "### k-means methodがよく使われる。らしい。"
   ]
  },
  {
   "cell_type": "markdown",
   "metadata": {},
   "source": [
    "### 自分でやってみる。"
   ]
  },
  {
   "cell_type": "code",
   "execution_count": 10,
   "metadata": {},
   "outputs": [],
   "source": [
    "class KMeansMethod:\n",
    "    def __init__(self, X, k=3):\n",
    "        self.X = X\n",
    "        self.N, self.p = X.shape # 個体数,データの次元\n",
    "        self.X_mean = self.X.mean(axis=0)\n",
    "        self.k = k # クラスタ数\n",
    "        self.mu = self.X_mean + np.random.rand(self.k, self.p) # データ全体の平均値付近で初期化\n",
    "        self.cluster = np.random.randint(0, self.k, self.N) # 各個体が属するクラスタのindexを格納\n",
    "    def minkowski_distance(self, idxs, nu=2):\n",
    "        # idxs : 2つのindexが入ったarray\n",
    "        a = self.X[idxs[0], :]\n",
    "        b = self.mu[idxs[1], :]\n",
    "        return (np.sum((b-a)**nu))**(1/nu)\n",
    "    # 距離を総当たりで計算\n",
    "    def calc_all_distances(self):\n",
    "        D = np.zeros((self.N, self.k)) # 距離を格納する行列\n",
    "        it = np.nditer(D, flags=['multi_index'])\n",
    "        while not it.finished:\n",
    "            idx = it.multi_index\n",
    "            D[idx] = self.minkowski_distance(idx ,nu=2)\n",
    "            it.iternext()\n",
    "        return D\n",
    "    # クラスターへの割り振り\n",
    "    def make_new_cluster(self):\n",
    "        self.D = self.calc_all_distances()\n",
    "        self.new_cluster = np.argmin(self.D,axis=1)\n",
    "        #print(self.D)\n",
    "        return self.new_cluster\n",
    "    # μの更新\n",
    "    def update_mu(self):\n",
    "        for k in range(self.k):\n",
    "            mask = np.where(self.new_cluster==k)\n",
    "            self.mu[k,:] = self.X[mask].mean(axis=0)\n",
    "        return None\n",
    "    # メイン\n",
    "    def main(self):\n",
    "        continue_flag = True\n",
    "        count = 0\n",
    "        while continue_flag:\n",
    "            self.make_new_cluster()\n",
    "            if ((self.new_cluster-self.cluster)**2).sum() < 1e-3: #if self.new_cluster.all == self.cluster.allだとうまく判定しない\n",
    "                continue_flag = False\n",
    "            elif count > 100:\n",
    "                print(\"error\")\n",
    "                continue_flag = False\n",
    "            else:\n",
    "                self.update_mu()\n",
    "            self.cluster = self.new_cluster\n",
    "            count += 1\n",
    "        return self.cluster"
   ]
  },
  {
   "cell_type": "code",
   "execution_count": 11,
   "metadata": {
    "scrolled": true
   },
   "outputs": [
    {
     "data": {
      "text/plain": [
       "array([1, 2, 2, 0, 0, 0, 0, 2, 0, 2], dtype=int64)"
      ]
     },
     "execution_count": 11,
     "metadata": {},
     "output_type": "execute_result"
    }
   ],
   "source": [
    "# 実行\n",
    "my_kmeans = KMeansMethod(X)\n",
    "my_labels = my_kmeans.main()\n",
    "my_labels"
   ]
  },
  {
   "cell_type": "markdown",
   "metadata": {},
   "source": [
    "### 可視化しないとなんだかよくわからない"
   ]
  },
  {
   "cell_type": "code",
   "execution_count": 12,
   "metadata": {},
   "outputs": [],
   "source": [
    "from sklearn.decomposition import PCA\n",
    "pca = PCA(n_components=2)\n",
    "X_pca = pca.fit_transform(X)"
   ]
  },
  {
   "cell_type": "code",
   "execution_count": 13,
   "metadata": {},
   "outputs": [
    {
     "data": {
      "image/png": "[encoded data removed]",
      "text/plain": [
       "<Figure size 360x288 with 1 Axes>"
      ]
     },
     "metadata": {
      "needs_background": "light"
     },
     "output_type": "display_data"
    }
   ],
   "source": [
    "# 可視化\n",
    "plt.figure(figsize=(5,4))\n",
    "plt.scatter(X_pca[:, 0],  X_pca[:, 1], c=my_labels)\n",
    "plt.xlabel('Principal Component 1', size=14)\n",
    "plt.ylabel('Principal Component 2', size=14)\n",
    "plt.title('result', size=16)\n",
    "plt.show()"
   ]
  },
  {
   "cell_type": "markdown",
   "metadata": {},
   "source": [
    "### ライブラリ"
   ]
  },
  {
   "cell_type": "code",
   "execution_count": 14,
   "metadata": {},
   "outputs": [
    {
     "data": {
      "text/plain": [
       "array([0, 2, 2, 1, 1, 0, 0, 2, 1, 2])"
      ]
     },
     "execution_count": 14,
     "metadata": {},
     "output_type": "execute_result"
    }
   ],
   "source": [
    "from sklearn.cluster import KMeans\n",
    "kmeans = KMeans(n_clusters=3, random_state=0).fit(X)\n",
    "kmeans.labels_"
   ]
  },
  {
   "cell_type": "code",
   "execution_count": 15,
   "metadata": {},
   "outputs": [
    {
     "data": {
      "image/png": "[encoded data removed]",
      "text/plain": [
       "<Figure size 360x288 with 1 Axes>"
      ]
     },
     "metadata": {
      "needs_background": "light"
     },
     "output_type": "display_data"
    }
   ],
   "source": [
    "# 可視化\n",
    "plt.figure(figsize=(5,4))\n",
    "plt.scatter(X_pca[:, 0],  X_pca[:, 1], c=kmeans.labels_)\n",
    "plt.xlabel('Principal Component 1', size=14)\n",
    "plt.ylabel('Principal Component 2', size=14)\n",
    "plt.title('result', size=16)\n",
    "plt.show()"
   ]
  },
  {
   "cell_type": "markdown",
   "metadata": {},
   "source": [
    "### 初期値によって結果は違うらしい。結局よくわからん"
   ]
  },
  {
   "cell_type": "code",
   "execution_count": null,
   "metadata": {},
   "outputs": [],
   "source": []
  }
 ],
 "metadata": {
  "kernelspec": {
   "display_name": "Python 3",
   "language": "python",
   "name": "python3"
  },
  "language_info": {
   "codemirror_mode": {
    "name": "ipython",
    "version": 3
   },
   "file_extension": ".py",
   "mimetype": "text/x-python",
   "name": "python",
   "nbconvert_exporter": "python",
   "pygments_lexer": "ipython3",
   "version": "3.7.3"
  }
 },
 "nbformat": 4,
 "nbformat_minor": 2
}
